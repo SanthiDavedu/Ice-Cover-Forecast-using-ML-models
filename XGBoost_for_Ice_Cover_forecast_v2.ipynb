{
 "cells": [
  {
   "cell_type": "markdown",
   "metadata": {},
   "source": [
    "To dos:\n",
    "TOC (headings, numbering)\n",
    "Comments\n",
    "\n",
    "\n",
    "\n"
   ]
  },
  {
   "cell_type": "markdown",
   "metadata": {
    "id": "MoApuw_v-CEV"
   },
   "source": [
    "#### Experiment design:\n",
    "1. Input variables (X):\n",
    "   - Surface meterlogy, Surface water temperature, Ice cover (from previous days), climate indices- 1995 onwards\n",
    "    \n",
    "2. Output variables (y):\n",
    "   - Ice data (1995 onwards)\n",
    "    \n",
    "3. Period: \n",
    "   - 1996 to 2021 (25 years). Note that 1996 includes winter of 1995/1996\n",
    "   - Training(60%) - 1996 to 2010\n",
    "   - Validation(20%) - 2011 to 2015\n",
    "   - Test(20%) - 2016 to 2021\n",
    "    \n",
    "4. Predict Interval:\n",
    "   - Short term foreacast: 5 days and 7 days\n",
    "   - Subseasonal forecast: 5 weeks (35 days) \n",
    "    \n",
    "5. Preperation of input data:\n",
    "   - Surface meterology: daily frequency data - 7 day(168 hours) history data/lag\n",
    "   - Ice data: daily frequency - 7 day history/lag\n",
    "   - Water Surface temperature: daily - 7 day history/lag\n",
    "   - Climate indices: monthly - 3 month history/lag + daily - 7 day lag\n",
    "   \n",
    "            Example : If today is 1st Nov at 12 EST then inputs will be...\n",
    "                  - Surface met: 25th Oct 6 EST to 1st Nov 6 EST\n",
    "                  - Ice data: 25th Oct to 31st Oct\n",
    "                  - Water surface temperature: 25th Oct to 31st Oct\n",
    "                  - Climate indices: July,Aug,Sep\n",
    "    - Note that the lag periods(7 days/3 months) can be tested in the Hyperparameter tuning phase"
   ]
  },
  {
   "cell_type": "markdown",
   "metadata": {
    "id": "Rq3Qs_vR-CEW"
   },
   "source": [
    "### 1. Preperation of Input data"
   ]
  },
  {
   "cell_type": "code",
   "execution_count": 1,
   "metadata": {},
   "outputs": [
    {
     "name": "stdout",
     "output_type": "stream",
     "text": [
      "Requirement already satisfied: altair in c:\\users\\santh\\anaconda3\\lib\\site-packages (4.1.0)\n",
      "Requirement already satisfied: vega_datasets in c:\\users\\santh\\anaconda3\\lib\\site-packages (0.9.0)\n",
      "Requirement already satisfied: jinja2 in c:\\users\\santh\\anaconda3\\lib\\site-packages (from altair) (2.11.3)\n",
      "Requirement already satisfied: numpy in c:\\users\\santh\\anaconda3\\lib\\site-packages (from altair) (1.20.1)\n",
      "Requirement already satisfied: jsonschema in c:\\users\\santh\\anaconda3\\lib\\site-packages (from altair) (3.2.0)\n",
      "Requirement already satisfied: entrypoints in c:\\users\\santh\\anaconda3\\lib\\site-packages (from altair) (0.3)\n",
      "Requirement already satisfied: toolz in c:\\users\\santh\\anaconda3\\lib\\site-packages (from altair) (0.11.1)\n",
      "Requirement already satisfied: pandas>=0.18 in c:\\users\\santh\\anaconda3\\lib\\site-packages (from altair) (1.2.4)\n",
      "Requirement already satisfied: python-dateutil>=2.7.3 in c:\\users\\santh\\anaconda3\\lib\\site-packages (from pandas>=0.18->altair) (2.8.1)\n",
      "Requirement already satisfied: pytz>=2017.3 in c:\\users\\santh\\anaconda3\\lib\\site-packages (from pandas>=0.18->altair) (2021.1)\n",
      "Requirement already satisfied: six>=1.5 in c:\\users\\santh\\anaconda3\\lib\\site-packages (from python-dateutil>=2.7.3->pandas>=0.18->altair) (1.15.0)\n",
      "Requirement already satisfied: MarkupSafe>=0.23 in c:\\users\\santh\\anaconda3\\lib\\site-packages (from jinja2->altair) (1.1.1)\n",
      "Requirement already satisfied: attrs>=17.4.0 in c:\\users\\santh\\anaconda3\\lib\\site-packages (from jsonschema->altair) (20.3.0)\n",
      "Requirement already satisfied: setuptools in c:\\users\\santh\\anaconda3\\lib\\site-packages (from jsonschema->altair) (52.0.0.post20210125)\n",
      "Requirement already satisfied: pyrsistent>=0.14.0 in c:\\users\\santh\\anaconda3\\lib\\site-packages (from jsonschema->altair) (0.17.3)\n",
      "Note: you may need to restart the kernel to use updated packages.\n"
     ]
    }
   ],
   "source": [
    "%pip install altair vega_datasets"
   ]
  },
  {
   "cell_type": "code",
   "execution_count": 2,
   "metadata": {
    "id": "umMb9P8x-CEW"
   },
   "outputs": [],
   "source": [
    "import pandas as pd\n",
    "import math\n",
    "import matplotlib.pyplot as plt\n",
    "%matplotlib inline   \n",
    "pd.plotting.register_matplotlib_converters()           \n",
    "import seaborn as sns  \n",
    "import altair as alt\n",
    "from vega_datasets import data\n",
    "import xgboost as xgb\n",
    "from sklearn.preprocessing import MinMaxScaler\n",
    "from sklearn.model_selection import train_test_split"
   ]
  },
  {
   "cell_type": "code",
   "execution_count": 3,
   "metadata": {
    "id": "LWwMfzKIW7Zm"
   },
   "outputs": [],
   "source": [
    "meterology = pd.read_excel(\"C:/Users/santh/MIDAS/Final_data/meteorlogy_daily.xlsx\")\n",
    "surface_temp = pd.read_csv(\"C:/Users/santh/MIDAS/Final_data/Surface_Temperature_Without_Remove.csv\", usecols=['Date', 'Sup.', 'Huron'], \n",
    "                           dtype= {'Sup.':float, 'Huron':float})\n",
    "ice_data = pd.read_excel(\"C:/Users/santh/MIDAS/Final_data/ice_data_without_remove.xlsx\")\n",
    "climate_ind_m = pd.read_csv(\"C:/Users/santh/MIDAS/Final_data/Climate_indices.csv\")"
   ]
  },
  {
   "cell_type": "code",
   "execution_count": 4,
   "metadata": {
    "colab": {
     "base_uri": "https://localhost:8080/",
     "height": 204
    },
    "id": "vqRnLvHc-CEX",
    "outputId": "922b59a8-42b8-44fa-a5ca-a6fde92d7c88"
   },
   "outputs": [
    {
     "data": {
      "text/html": [
       "<div>\n",
       "<style scoped>\n",
       "    .dataframe tbody tr th:only-of-type {\n",
       "        vertical-align: middle;\n",
       "    }\n",
       "\n",
       "    .dataframe tbody tr th {\n",
       "        vertical-align: top;\n",
       "    }\n",
       "\n",
       "    .dataframe thead th {\n",
       "        text-align: right;\n",
       "    }\n",
       "</style>\n",
       "<table border=\"1\" class=\"dataframe\">\n",
       "  <thead>\n",
       "    <tr style=\"text-align: right;\">\n",
       "      <th></th>\n",
       "      <th>date</th>\n",
       "      <th>u-wind</th>\n",
       "      <th>v-wind</th>\n",
       "      <th>pressure</th>\n",
       "      <th>humidity</th>\n",
       "      <th>temperature</th>\n",
       "    </tr>\n",
       "  </thead>\n",
       "  <tbody>\n",
       "    <tr>\n",
       "      <th>0</th>\n",
       "      <td>1995-01-01</td>\n",
       "      <td>2.381250</td>\n",
       "      <td>-0.628125</td>\n",
       "      <td>98903.125</td>\n",
       "      <td>30.375</td>\n",
       "      <td>270.178146</td>\n",
       "    </tr>\n",
       "    <tr>\n",
       "      <th>1</th>\n",
       "      <td>1995-01-02</td>\n",
       "      <td>4.033125</td>\n",
       "      <td>-1.283125</td>\n",
       "      <td>98336.875</td>\n",
       "      <td>25.500</td>\n",
       "      <td>267.714500</td>\n",
       "    </tr>\n",
       "    <tr>\n",
       "      <th>2</th>\n",
       "      <td>1995-01-03</td>\n",
       "      <td>5.938750</td>\n",
       "      <td>0.482500</td>\n",
       "      <td>98652.500</td>\n",
       "      <td>17.125</td>\n",
       "      <td>265.636627</td>\n",
       "    </tr>\n",
       "    <tr>\n",
       "      <th>3</th>\n",
       "      <td>1995-01-04</td>\n",
       "      <td>3.722500</td>\n",
       "      <td>-1.425625</td>\n",
       "      <td>99073.125</td>\n",
       "      <td>7.375</td>\n",
       "      <td>259.524513</td>\n",
       "    </tr>\n",
       "    <tr>\n",
       "      <th>4</th>\n",
       "      <td>1995-01-05</td>\n",
       "      <td>7.392500</td>\n",
       "      <td>2.583125</td>\n",
       "      <td>98769.375</td>\n",
       "      <td>16.625</td>\n",
       "      <td>264.535141</td>\n",
       "    </tr>\n",
       "  </tbody>\n",
       "</table>\n",
       "</div>"
      ],
      "text/plain": [
       "        date    u-wind    v-wind   pressure  humidity  temperature\n",
       "0 1995-01-01  2.381250 -0.628125  98903.125    30.375   270.178146\n",
       "1 1995-01-02  4.033125 -1.283125  98336.875    25.500   267.714500\n",
       "2 1995-01-03  5.938750  0.482500  98652.500    17.125   265.636627\n",
       "3 1995-01-04  3.722500 -1.425625  99073.125     7.375   259.524513\n",
       "4 1995-01-05  7.392500  2.583125  98769.375    16.625   264.535141"
      ]
     },
     "execution_count": 4,
     "metadata": {},
     "output_type": "execute_result"
    }
   ],
   "source": [
    "meterology.head()"
   ]
  },
  {
   "cell_type": "code",
   "execution_count": 5,
   "metadata": {
    "colab": {
     "base_uri": "https://localhost:8080/"
    },
    "id": "qox6cVQEM-mC",
    "outputId": "24d57fed-482e-48b3-82be-2fc62874ae2c"
   },
   "outputs": [
    {
     "data": {
      "text/plain": [
       "date           datetime64[ns]\n",
       "u-wind                float64\n",
       "v-wind                float64\n",
       "pressure              float64\n",
       "humidity              float64\n",
       "temperature           float64\n",
       "dtype: object"
      ]
     },
     "execution_count": 5,
     "metadata": {},
     "output_type": "execute_result"
    }
   ],
   "source": [
    "meterology.dtypes"
   ]
  },
  {
   "cell_type": "code",
   "execution_count": 6,
   "metadata": {
    "colab": {
     "base_uri": "https://localhost:8080/",
     "height": 235
    },
    "id": "oEboageHMzvX",
    "outputId": "7798570e-da81-4754-8a99-ef26e1586d71",
    "scrolled": true
   },
   "outputs": [
    {
     "data": {
      "text/html": [
       "<div>\n",
       "<style scoped>\n",
       "    .dataframe tbody tr th:only-of-type {\n",
       "        vertical-align: middle;\n",
       "    }\n",
       "\n",
       "    .dataframe tbody tr th {\n",
       "        vertical-align: top;\n",
       "    }\n",
       "\n",
       "    .dataframe thead th {\n",
       "        text-align: right;\n",
       "    }\n",
       "</style>\n",
       "<table border=\"1\" class=\"dataframe\">\n",
       "  <thead>\n",
       "    <tr style=\"text-align: right;\">\n",
       "      <th></th>\n",
       "      <th>u-wind</th>\n",
       "      <th>v-wind</th>\n",
       "      <th>pressure</th>\n",
       "      <th>humidity</th>\n",
       "      <th>temperature</th>\n",
       "    </tr>\n",
       "    <tr>\n",
       "      <th>date</th>\n",
       "      <th></th>\n",
       "      <th></th>\n",
       "      <th></th>\n",
       "      <th></th>\n",
       "      <th></th>\n",
       "    </tr>\n",
       "  </thead>\n",
       "  <tbody>\n",
       "    <tr>\n",
       "      <th>1995-01-01</th>\n",
       "      <td>2.381250</td>\n",
       "      <td>-0.628125</td>\n",
       "      <td>98903.125</td>\n",
       "      <td>30.375</td>\n",
       "      <td>270.178146</td>\n",
       "    </tr>\n",
       "    <tr>\n",
       "      <th>1995-01-02</th>\n",
       "      <td>4.033125</td>\n",
       "      <td>-1.283125</td>\n",
       "      <td>98336.875</td>\n",
       "      <td>25.500</td>\n",
       "      <td>267.714500</td>\n",
       "    </tr>\n",
       "    <tr>\n",
       "      <th>1995-01-03</th>\n",
       "      <td>5.938750</td>\n",
       "      <td>0.482500</td>\n",
       "      <td>98652.500</td>\n",
       "      <td>17.125</td>\n",
       "      <td>265.636627</td>\n",
       "    </tr>\n",
       "    <tr>\n",
       "      <th>1995-01-04</th>\n",
       "      <td>3.722500</td>\n",
       "      <td>-1.425625</td>\n",
       "      <td>99073.125</td>\n",
       "      <td>7.375</td>\n",
       "      <td>259.524513</td>\n",
       "    </tr>\n",
       "    <tr>\n",
       "      <th>1995-01-05</th>\n",
       "      <td>7.392500</td>\n",
       "      <td>2.583125</td>\n",
       "      <td>98769.375</td>\n",
       "      <td>16.625</td>\n",
       "      <td>264.535141</td>\n",
       "    </tr>\n",
       "  </tbody>\n",
       "</table>\n",
       "</div>"
      ],
      "text/plain": [
       "              u-wind    v-wind   pressure  humidity  temperature\n",
       "date                                                            \n",
       "1995-01-01  2.381250 -0.628125  98903.125    30.375   270.178146\n",
       "1995-01-02  4.033125 -1.283125  98336.875    25.500   267.714500\n",
       "1995-01-03  5.938750  0.482500  98652.500    17.125   265.636627\n",
       "1995-01-04  3.722500 -1.425625  99073.125     7.375   259.524513\n",
       "1995-01-05  7.392500  2.583125  98769.375    16.625   264.535141"
      ]
     },
     "execution_count": 6,
     "metadata": {},
     "output_type": "execute_result"
    }
   ],
   "source": [
    "meterology = meterology.set_index('date')\n",
    "meterology.head()"
   ]
  },
  {
   "cell_type": "code",
   "execution_count": 7,
   "metadata": {},
   "outputs": [],
   "source": [
    "meterology1 = meterology"
   ]
  },
  {
   "cell_type": "code",
   "execution_count": 8,
   "metadata": {
    "id": "24hhBLrPAeH1"
   },
   "outputs": [],
   "source": [
    "look_back = 4 ############## This will create only 3 lags for all features since the training data contains only 5844 records.Creating addtional lags will increase the no. of features vs. less records\n",
    "predict_interval = 7"
   ]
  },
  {
   "cell_type": "code",
   "execution_count": 9,
   "metadata": {
    "colab": {
     "base_uri": "https://localhost:8080/",
     "height": 580
    },
    "id": "iVAfMd-HZ00z",
    "outputId": "571ec0be-c8ac-41e3-ec9a-5b0345a4ec03"
   },
   "outputs": [
    {
     "data": {
      "text/html": [
       "<div>\n",
       "<style scoped>\n",
       "    .dataframe tbody tr th:only-of-type {\n",
       "        vertical-align: middle;\n",
       "    }\n",
       "\n",
       "    .dataframe tbody tr th {\n",
       "        vertical-align: top;\n",
       "    }\n",
       "\n",
       "    .dataframe thead th {\n",
       "        text-align: right;\n",
       "    }\n",
       "</style>\n",
       "<table border=\"1\" class=\"dataframe\">\n",
       "  <thead>\n",
       "    <tr style=\"text-align: right;\">\n",
       "      <th></th>\n",
       "      <th>u-wind</th>\n",
       "      <th>v-wind</th>\n",
       "      <th>pressure</th>\n",
       "      <th>humidity</th>\n",
       "      <th>temperature</th>\n",
       "      <th>u-wind1</th>\n",
       "      <th>v-wind1</th>\n",
       "      <th>pressure1</th>\n",
       "      <th>humidity1</th>\n",
       "      <th>temperature1</th>\n",
       "      <th>u-wind2</th>\n",
       "      <th>v-wind2</th>\n",
       "      <th>pressure2</th>\n",
       "      <th>humidity2</th>\n",
       "      <th>temperature2</th>\n",
       "      <th>u-wind3</th>\n",
       "      <th>v-wind3</th>\n",
       "      <th>pressure3</th>\n",
       "      <th>humidity3</th>\n",
       "      <th>temperature3</th>\n",
       "    </tr>\n",
       "    <tr>\n",
       "      <th>date</th>\n",
       "      <th></th>\n",
       "      <th></th>\n",
       "      <th></th>\n",
       "      <th></th>\n",
       "      <th></th>\n",
       "      <th></th>\n",
       "      <th></th>\n",
       "      <th></th>\n",
       "      <th></th>\n",
       "      <th></th>\n",
       "      <th></th>\n",
       "      <th></th>\n",
       "      <th></th>\n",
       "      <th></th>\n",
       "      <th></th>\n",
       "      <th></th>\n",
       "      <th></th>\n",
       "      <th></th>\n",
       "      <th></th>\n",
       "      <th></th>\n",
       "    </tr>\n",
       "  </thead>\n",
       "  <tbody>\n",
       "    <tr>\n",
       "      <th>1995-01-01</th>\n",
       "      <td>2.381250</td>\n",
       "      <td>-0.628125</td>\n",
       "      <td>98903.125</td>\n",
       "      <td>30.375</td>\n",
       "      <td>270.178146</td>\n",
       "      <td>NaN</td>\n",
       "      <td>NaN</td>\n",
       "      <td>NaN</td>\n",
       "      <td>NaN</td>\n",
       "      <td>NaN</td>\n",
       "      <td>NaN</td>\n",
       "      <td>NaN</td>\n",
       "      <td>NaN</td>\n",
       "      <td>NaN</td>\n",
       "      <td>NaN</td>\n",
       "      <td>NaN</td>\n",
       "      <td>NaN</td>\n",
       "      <td>NaN</td>\n",
       "      <td>NaN</td>\n",
       "      <td>NaN</td>\n",
       "    </tr>\n",
       "    <tr>\n",
       "      <th>1995-01-02</th>\n",
       "      <td>4.033125</td>\n",
       "      <td>-1.283125</td>\n",
       "      <td>98336.875</td>\n",
       "      <td>25.500</td>\n",
       "      <td>267.714500</td>\n",
       "      <td>2.381250</td>\n",
       "      <td>-0.628125</td>\n",
       "      <td>98903.125</td>\n",
       "      <td>30.375</td>\n",
       "      <td>270.178146</td>\n",
       "      <td>NaN</td>\n",
       "      <td>NaN</td>\n",
       "      <td>NaN</td>\n",
       "      <td>NaN</td>\n",
       "      <td>NaN</td>\n",
       "      <td>NaN</td>\n",
       "      <td>NaN</td>\n",
       "      <td>NaN</td>\n",
       "      <td>NaN</td>\n",
       "      <td>NaN</td>\n",
       "    </tr>\n",
       "    <tr>\n",
       "      <th>1995-01-03</th>\n",
       "      <td>5.938750</td>\n",
       "      <td>0.482500</td>\n",
       "      <td>98652.500</td>\n",
       "      <td>17.125</td>\n",
       "      <td>265.636627</td>\n",
       "      <td>4.033125</td>\n",
       "      <td>-1.283125</td>\n",
       "      <td>98336.875</td>\n",
       "      <td>25.500</td>\n",
       "      <td>267.714500</td>\n",
       "      <td>2.381250</td>\n",
       "      <td>-0.628125</td>\n",
       "      <td>98903.125</td>\n",
       "      <td>30.375</td>\n",
       "      <td>270.178146</td>\n",
       "      <td>NaN</td>\n",
       "      <td>NaN</td>\n",
       "      <td>NaN</td>\n",
       "      <td>NaN</td>\n",
       "      <td>NaN</td>\n",
       "    </tr>\n",
       "    <tr>\n",
       "      <th>1995-01-04</th>\n",
       "      <td>3.722500</td>\n",
       "      <td>-1.425625</td>\n",
       "      <td>99073.125</td>\n",
       "      <td>7.375</td>\n",
       "      <td>259.524513</td>\n",
       "      <td>5.938750</td>\n",
       "      <td>0.482500</td>\n",
       "      <td>98652.500</td>\n",
       "      <td>17.125</td>\n",
       "      <td>265.636627</td>\n",
       "      <td>4.033125</td>\n",
       "      <td>-1.283125</td>\n",
       "      <td>98336.875</td>\n",
       "      <td>25.500</td>\n",
       "      <td>267.714500</td>\n",
       "      <td>2.381250</td>\n",
       "      <td>-0.628125</td>\n",
       "      <td>98903.125</td>\n",
       "      <td>30.375</td>\n",
       "      <td>270.178146</td>\n",
       "    </tr>\n",
       "    <tr>\n",
       "      <th>1995-01-05</th>\n",
       "      <td>7.392500</td>\n",
       "      <td>2.583125</td>\n",
       "      <td>98769.375</td>\n",
       "      <td>16.625</td>\n",
       "      <td>264.535141</td>\n",
       "      <td>3.722500</td>\n",
       "      <td>-1.425625</td>\n",
       "      <td>99073.125</td>\n",
       "      <td>7.375</td>\n",
       "      <td>259.524513</td>\n",
       "      <td>5.938750</td>\n",
       "      <td>0.482500</td>\n",
       "      <td>98652.500</td>\n",
       "      <td>17.125</td>\n",
       "      <td>265.636627</td>\n",
       "      <td>4.033125</td>\n",
       "      <td>-1.283125</td>\n",
       "      <td>98336.875</td>\n",
       "      <td>25.500</td>\n",
       "      <td>267.714500</td>\n",
       "    </tr>\n",
       "    <tr>\n",
       "      <th>1995-01-06</th>\n",
       "      <td>5.763750</td>\n",
       "      <td>2.210625</td>\n",
       "      <td>97803.125</td>\n",
       "      <td>36.500</td>\n",
       "      <td>269.011017</td>\n",
       "      <td>7.392500</td>\n",
       "      <td>2.583125</td>\n",
       "      <td>98769.375</td>\n",
       "      <td>16.625</td>\n",
       "      <td>264.535141</td>\n",
       "      <td>3.722500</td>\n",
       "      <td>-1.425625</td>\n",
       "      <td>99073.125</td>\n",
       "      <td>7.375</td>\n",
       "      <td>259.524513</td>\n",
       "      <td>5.938750</td>\n",
       "      <td>0.482500</td>\n",
       "      <td>98652.500</td>\n",
       "      <td>17.125</td>\n",
       "      <td>265.636627</td>\n",
       "    </tr>\n",
       "    <tr>\n",
       "      <th>1995-01-07</th>\n",
       "      <td>0.098125</td>\n",
       "      <td>-3.118125</td>\n",
       "      <td>98220.000</td>\n",
       "      <td>8.000</td>\n",
       "      <td>262.210144</td>\n",
       "      <td>5.763750</td>\n",
       "      <td>2.210625</td>\n",
       "      <td>97803.125</td>\n",
       "      <td>36.500</td>\n",
       "      <td>269.011017</td>\n",
       "      <td>7.392500</td>\n",
       "      <td>2.583125</td>\n",
       "      <td>98769.375</td>\n",
       "      <td>16.625</td>\n",
       "      <td>264.535141</td>\n",
       "      <td>3.722500</td>\n",
       "      <td>-1.425625</td>\n",
       "      <td>99073.125</td>\n",
       "      <td>7.375</td>\n",
       "      <td>259.524513</td>\n",
       "    </tr>\n",
       "    <tr>\n",
       "      <th>1995-01-08</th>\n",
       "      <td>3.726875</td>\n",
       "      <td>2.000625</td>\n",
       "      <td>98293.750</td>\n",
       "      <td>11.625</td>\n",
       "      <td>264.712128</td>\n",
       "      <td>0.098125</td>\n",
       "      <td>-3.118125</td>\n",
       "      <td>98220.000</td>\n",
       "      <td>8.000</td>\n",
       "      <td>262.210144</td>\n",
       "      <td>5.763750</td>\n",
       "      <td>2.210625</td>\n",
       "      <td>97803.125</td>\n",
       "      <td>36.500</td>\n",
       "      <td>269.011017</td>\n",
       "      <td>7.392500</td>\n",
       "      <td>2.583125</td>\n",
       "      <td>98769.375</td>\n",
       "      <td>16.625</td>\n",
       "      <td>264.535141</td>\n",
       "    </tr>\n",
       "    <tr>\n",
       "      <th>1995-01-09</th>\n",
       "      <td>4.055000</td>\n",
       "      <td>-0.819375</td>\n",
       "      <td>99311.875</td>\n",
       "      <td>8.125</td>\n",
       "      <td>262.844383</td>\n",
       "      <td>3.726875</td>\n",
       "      <td>2.000625</td>\n",
       "      <td>98293.750</td>\n",
       "      <td>11.625</td>\n",
       "      <td>264.712128</td>\n",
       "      <td>0.098125</td>\n",
       "      <td>-3.118125</td>\n",
       "      <td>98220.000</td>\n",
       "      <td>8.000</td>\n",
       "      <td>262.210144</td>\n",
       "      <td>5.763750</td>\n",
       "      <td>2.210625</td>\n",
       "      <td>97803.125</td>\n",
       "      <td>36.500</td>\n",
       "      <td>269.011017</td>\n",
       "    </tr>\n",
       "    <tr>\n",
       "      <th>1995-01-10</th>\n",
       "      <td>-2.220625</td>\n",
       "      <td>-1.595000</td>\n",
       "      <td>100214.375</td>\n",
       "      <td>14.500</td>\n",
       "      <td>258.141140</td>\n",
       "      <td>4.055000</td>\n",
       "      <td>-0.819375</td>\n",
       "      <td>99311.875</td>\n",
       "      <td>8.125</td>\n",
       "      <td>262.844383</td>\n",
       "      <td>3.726875</td>\n",
       "      <td>2.000625</td>\n",
       "      <td>98293.750</td>\n",
       "      <td>11.625</td>\n",
       "      <td>264.712128</td>\n",
       "      <td>0.098125</td>\n",
       "      <td>-3.118125</td>\n",
       "      <td>98220.000</td>\n",
       "      <td>8.000</td>\n",
       "      <td>262.210144</td>\n",
       "    </tr>\n",
       "  </tbody>\n",
       "</table>\n",
       "</div>"
      ],
      "text/plain": [
       "              u-wind    v-wind    pressure  humidity  temperature   u-wind1  \\\n",
       "date                                                                          \n",
       "1995-01-01  2.381250 -0.628125   98903.125    30.375   270.178146       NaN   \n",
       "1995-01-02  4.033125 -1.283125   98336.875    25.500   267.714500  2.381250   \n",
       "1995-01-03  5.938750  0.482500   98652.500    17.125   265.636627  4.033125   \n",
       "1995-01-04  3.722500 -1.425625   99073.125     7.375   259.524513  5.938750   \n",
       "1995-01-05  7.392500  2.583125   98769.375    16.625   264.535141  3.722500   \n",
       "1995-01-06  5.763750  2.210625   97803.125    36.500   269.011017  7.392500   \n",
       "1995-01-07  0.098125 -3.118125   98220.000     8.000   262.210144  5.763750   \n",
       "1995-01-08  3.726875  2.000625   98293.750    11.625   264.712128  0.098125   \n",
       "1995-01-09  4.055000 -0.819375   99311.875     8.125   262.844383  3.726875   \n",
       "1995-01-10 -2.220625 -1.595000  100214.375    14.500   258.141140  4.055000   \n",
       "\n",
       "             v-wind1  pressure1  humidity1  temperature1   u-wind2   v-wind2  \\\n",
       "date                                                                           \n",
       "1995-01-01       NaN        NaN        NaN           NaN       NaN       NaN   \n",
       "1995-01-02 -0.628125  98903.125     30.375    270.178146       NaN       NaN   \n",
       "1995-01-03 -1.283125  98336.875     25.500    267.714500  2.381250 -0.628125   \n",
       "1995-01-04  0.482500  98652.500     17.125    265.636627  4.033125 -1.283125   \n",
       "1995-01-05 -1.425625  99073.125      7.375    259.524513  5.938750  0.482500   \n",
       "1995-01-06  2.583125  98769.375     16.625    264.535141  3.722500 -1.425625   \n",
       "1995-01-07  2.210625  97803.125     36.500    269.011017  7.392500  2.583125   \n",
       "1995-01-08 -3.118125  98220.000      8.000    262.210144  5.763750  2.210625   \n",
       "1995-01-09  2.000625  98293.750     11.625    264.712128  0.098125 -3.118125   \n",
       "1995-01-10 -0.819375  99311.875      8.125    262.844383  3.726875  2.000625   \n",
       "\n",
       "            pressure2  humidity2  temperature2   u-wind3   v-wind3  pressure3  \\\n",
       "date                                                                            \n",
       "1995-01-01        NaN        NaN           NaN       NaN       NaN        NaN   \n",
       "1995-01-02        NaN        NaN           NaN       NaN       NaN        NaN   \n",
       "1995-01-03  98903.125     30.375    270.178146       NaN       NaN        NaN   \n",
       "1995-01-04  98336.875     25.500    267.714500  2.381250 -0.628125  98903.125   \n",
       "1995-01-05  98652.500     17.125    265.636627  4.033125 -1.283125  98336.875   \n",
       "1995-01-06  99073.125      7.375    259.524513  5.938750  0.482500  98652.500   \n",
       "1995-01-07  98769.375     16.625    264.535141  3.722500 -1.425625  99073.125   \n",
       "1995-01-08  97803.125     36.500    269.011017  7.392500  2.583125  98769.375   \n",
       "1995-01-09  98220.000      8.000    262.210144  5.763750  2.210625  97803.125   \n",
       "1995-01-10  98293.750     11.625    264.712128  0.098125 -3.118125  98220.000   \n",
       "\n",
       "            humidity3  temperature3  \n",
       "date                                 \n",
       "1995-01-01        NaN           NaN  \n",
       "1995-01-02        NaN           NaN  \n",
       "1995-01-03        NaN           NaN  \n",
       "1995-01-04     30.375    270.178146  \n",
       "1995-01-05     25.500    267.714500  \n",
       "1995-01-06     17.125    265.636627  \n",
       "1995-01-07      7.375    259.524513  \n",
       "1995-01-08     16.625    264.535141  \n",
       "1995-01-09     36.500    269.011017  \n",
       "1995-01-10      8.000    262.210144  "
      ]
     },
     "execution_count": 9,
     "metadata": {},
     "output_type": "execute_result"
    }
   ],
   "source": [
    "lags = range(1, look_back)\n",
    "\n",
    "meterology = meterology.assign(**{\n",
    "    f'{col}{lag}': meterology[col].shift(lag)\n",
    "    for lag in lags\n",
    "    for col in meterology\n",
    "})\n",
    "\n",
    "meterology.head(10)"
   ]
  },
  {
   "cell_type": "code",
   "execution_count": 10,
   "metadata": {
    "colab": {
     "base_uri": "https://localhost:8080/",
     "height": 204
    },
    "id": "eUqRhr1k-CEY",
    "outputId": "e45e2deb-3e8d-44b9-b354-222d981553a8"
   },
   "outputs": [
    {
     "data": {
      "text/html": [
       "<div>\n",
       "<style scoped>\n",
       "    .dataframe tbody tr th:only-of-type {\n",
       "        vertical-align: middle;\n",
       "    }\n",
       "\n",
       "    .dataframe tbody tr th {\n",
       "        vertical-align: top;\n",
       "    }\n",
       "\n",
       "    .dataframe thead th {\n",
       "        text-align: right;\n",
       "    }\n",
       "</style>\n",
       "<table border=\"1\" class=\"dataframe\">\n",
       "  <thead>\n",
       "    <tr style=\"text-align: right;\">\n",
       "      <th></th>\n",
       "      <th>Date</th>\n",
       "      <th>Sup.</th>\n",
       "      <th>Huron</th>\n",
       "    </tr>\n",
       "  </thead>\n",
       "  <tbody>\n",
       "    <tr>\n",
       "      <th>0</th>\n",
       "      <td>1995/1/1 0:00</td>\n",
       "      <td>3.29</td>\n",
       "      <td>4.50</td>\n",
       "    </tr>\n",
       "    <tr>\n",
       "      <th>1</th>\n",
       "      <td>1995/1/2 0:00</td>\n",
       "      <td>3.28</td>\n",
       "      <td>4.45</td>\n",
       "    </tr>\n",
       "    <tr>\n",
       "      <th>2</th>\n",
       "      <td>1995/1/3 0:00</td>\n",
       "      <td>3.27</td>\n",
       "      <td>4.39</td>\n",
       "    </tr>\n",
       "    <tr>\n",
       "      <th>3</th>\n",
       "      <td>1995/1/4 0:00</td>\n",
       "      <td>3.27</td>\n",
       "      <td>4.33</td>\n",
       "    </tr>\n",
       "    <tr>\n",
       "      <th>4</th>\n",
       "      <td>1995/1/5 0:00</td>\n",
       "      <td>3.22</td>\n",
       "      <td>4.18</td>\n",
       "    </tr>\n",
       "  </tbody>\n",
       "</table>\n",
       "</div>"
      ],
      "text/plain": [
       "            Date  Sup.  Huron\n",
       "0  1995/1/1 0:00  3.29   4.50\n",
       "1  1995/1/2 0:00  3.28   4.45\n",
       "2  1995/1/3 0:00  3.27   4.39\n",
       "3  1995/1/4 0:00  3.27   4.33\n",
       "4  1995/1/5 0:00  3.22   4.18"
      ]
     },
     "execution_count": 10,
     "metadata": {},
     "output_type": "execute_result"
    }
   ],
   "source": [
    "surface_temp.head()"
   ]
  },
  {
   "cell_type": "code",
   "execution_count": 11,
   "metadata": {
    "colab": {
     "base_uri": "https://localhost:8080/"
    },
    "id": "zKaMQA2ggTcY",
    "outputId": "be8a7e37-bcfd-4c5c-e5c0-09c0e3dd8105"
   },
   "outputs": [
    {
     "data": {
      "text/plain": [
       "Date      object\n",
       "Sup.     float64\n",
       "Huron    float64\n",
       "dtype: object"
      ]
     },
     "execution_count": 11,
     "metadata": {},
     "output_type": "execute_result"
    }
   ],
   "source": [
    "surface_temp.dtypes"
   ]
  },
  {
   "cell_type": "code",
   "execution_count": 12,
   "metadata": {
    "colab": {
     "base_uri": "https://localhost:8080/",
     "height": 204
    },
    "id": "Cb5gFf9Wy4WN",
    "outputId": "02bdbd91-a721-46af-8483-c9bebab92517"
   },
   "outputs": [
    {
     "data": {
      "text/html": [
       "<div>\n",
       "<style scoped>\n",
       "    .dataframe tbody tr th:only-of-type {\n",
       "        vertical-align: middle;\n",
       "    }\n",
       "\n",
       "    .dataframe tbody tr th {\n",
       "        vertical-align: top;\n",
       "    }\n",
       "\n",
       "    .dataframe thead th {\n",
       "        text-align: right;\n",
       "    }\n",
       "</style>\n",
       "<table border=\"1\" class=\"dataframe\">\n",
       "  <thead>\n",
       "    <tr style=\"text-align: right;\">\n",
       "      <th></th>\n",
       "      <th>Date</th>\n",
       "      <th>Sup.</th>\n",
       "      <th>Huron</th>\n",
       "    </tr>\n",
       "  </thead>\n",
       "  <tbody>\n",
       "    <tr>\n",
       "      <th>0</th>\n",
       "      <td>1995-01-01</td>\n",
       "      <td>3.29</td>\n",
       "      <td>4.50</td>\n",
       "    </tr>\n",
       "    <tr>\n",
       "      <th>1</th>\n",
       "      <td>1995-01-02</td>\n",
       "      <td>3.28</td>\n",
       "      <td>4.45</td>\n",
       "    </tr>\n",
       "    <tr>\n",
       "      <th>2</th>\n",
       "      <td>1995-01-03</td>\n",
       "      <td>3.27</td>\n",
       "      <td>4.39</td>\n",
       "    </tr>\n",
       "    <tr>\n",
       "      <th>3</th>\n",
       "      <td>1995-01-04</td>\n",
       "      <td>3.27</td>\n",
       "      <td>4.33</td>\n",
       "    </tr>\n",
       "    <tr>\n",
       "      <th>4</th>\n",
       "      <td>1995-01-05</td>\n",
       "      <td>3.22</td>\n",
       "      <td>4.18</td>\n",
       "    </tr>\n",
       "  </tbody>\n",
       "</table>\n",
       "</div>"
      ],
      "text/plain": [
       "        Date  Sup.  Huron\n",
       "0 1995-01-01  3.29   4.50\n",
       "1 1995-01-02  3.28   4.45\n",
       "2 1995-01-03  3.27   4.39\n",
       "3 1995-01-04  3.27   4.33\n",
       "4 1995-01-05  3.22   4.18"
      ]
     },
     "execution_count": 12,
     "metadata": {},
     "output_type": "execute_result"
    }
   ],
   "source": [
    "surface_temp['Date'] = pd.to_datetime(surface_temp['Date'], errors = 'coerce')\n",
    "surface_temp.head()"
   ]
  },
  {
   "cell_type": "code",
   "execution_count": 13,
   "metadata": {
    "colab": {
     "base_uri": "https://localhost:8080/",
     "height": 235
    },
    "id": "cyOpxK8Hz6mi",
    "outputId": "0542aa11-bf1a-4939-e92d-0537bcf23ca9"
   },
   "outputs": [
    {
     "data": {
      "text/html": [
       "<div>\n",
       "<style scoped>\n",
       "    .dataframe tbody tr th:only-of-type {\n",
       "        vertical-align: middle;\n",
       "    }\n",
       "\n",
       "    .dataframe tbody tr th {\n",
       "        vertical-align: top;\n",
       "    }\n",
       "\n",
       "    .dataframe thead th {\n",
       "        text-align: right;\n",
       "    }\n",
       "</style>\n",
       "<table border=\"1\" class=\"dataframe\">\n",
       "  <thead>\n",
       "    <tr style=\"text-align: right;\">\n",
       "      <th></th>\n",
       "      <th>Sup.</th>\n",
       "      <th>Huron</th>\n",
       "    </tr>\n",
       "    <tr>\n",
       "      <th>Date</th>\n",
       "      <th></th>\n",
       "      <th></th>\n",
       "    </tr>\n",
       "  </thead>\n",
       "  <tbody>\n",
       "    <tr>\n",
       "      <th>1995-01-01</th>\n",
       "      <td>3.29</td>\n",
       "      <td>4.50</td>\n",
       "    </tr>\n",
       "    <tr>\n",
       "      <th>1995-01-02</th>\n",
       "      <td>3.28</td>\n",
       "      <td>4.45</td>\n",
       "    </tr>\n",
       "    <tr>\n",
       "      <th>1995-01-03</th>\n",
       "      <td>3.27</td>\n",
       "      <td>4.39</td>\n",
       "    </tr>\n",
       "    <tr>\n",
       "      <th>1995-01-04</th>\n",
       "      <td>3.27</td>\n",
       "      <td>4.33</td>\n",
       "    </tr>\n",
       "    <tr>\n",
       "      <th>1995-01-05</th>\n",
       "      <td>3.22</td>\n",
       "      <td>4.18</td>\n",
       "    </tr>\n",
       "  </tbody>\n",
       "</table>\n",
       "</div>"
      ],
      "text/plain": [
       "            Sup.  Huron\n",
       "Date                   \n",
       "1995-01-01  3.29   4.50\n",
       "1995-01-02  3.28   4.45\n",
       "1995-01-03  3.27   4.39\n",
       "1995-01-04  3.27   4.33\n",
       "1995-01-05  3.22   4.18"
      ]
     },
     "execution_count": 13,
     "metadata": {},
     "output_type": "execute_result"
    }
   ],
   "source": [
    "surface_temp = surface_temp.set_index('Date')\n",
    "surface_temp.head()"
   ]
  },
  {
   "cell_type": "code",
   "execution_count": 14,
   "metadata": {},
   "outputs": [],
   "source": [
    "surface_temp1 = surface_temp"
   ]
  },
  {
   "cell_type": "code",
   "execution_count": 15,
   "metadata": {
    "colab": {
     "base_uri": "https://localhost:8080/",
     "height": 390
    },
    "id": "xt_s0h3l19ag",
    "outputId": "35d35962-6564-442c-8e25-c41b42f09251"
   },
   "outputs": [
    {
     "data": {
      "text/html": [
       "<div>\n",
       "<style scoped>\n",
       "    .dataframe tbody tr th:only-of-type {\n",
       "        vertical-align: middle;\n",
       "    }\n",
       "\n",
       "    .dataframe tbody tr th {\n",
       "        vertical-align: top;\n",
       "    }\n",
       "\n",
       "    .dataframe thead th {\n",
       "        text-align: right;\n",
       "    }\n",
       "</style>\n",
       "<table border=\"1\" class=\"dataframe\">\n",
       "  <thead>\n",
       "    <tr style=\"text-align: right;\">\n",
       "      <th></th>\n",
       "      <th>Sup.</th>\n",
       "      <th>Huron</th>\n",
       "      <th>Sup.1</th>\n",
       "      <th>Huron1</th>\n",
       "      <th>Sup.2</th>\n",
       "      <th>Huron2</th>\n",
       "      <th>Sup.3</th>\n",
       "      <th>Huron3</th>\n",
       "    </tr>\n",
       "    <tr>\n",
       "      <th>Date</th>\n",
       "      <th></th>\n",
       "      <th></th>\n",
       "      <th></th>\n",
       "      <th></th>\n",
       "      <th></th>\n",
       "      <th></th>\n",
       "      <th></th>\n",
       "      <th></th>\n",
       "    </tr>\n",
       "  </thead>\n",
       "  <tbody>\n",
       "    <tr>\n",
       "      <th>1995-01-01</th>\n",
       "      <td>3.29</td>\n",
       "      <td>4.50</td>\n",
       "      <td>NaN</td>\n",
       "      <td>NaN</td>\n",
       "      <td>NaN</td>\n",
       "      <td>NaN</td>\n",
       "      <td>NaN</td>\n",
       "      <td>NaN</td>\n",
       "    </tr>\n",
       "    <tr>\n",
       "      <th>1995-01-02</th>\n",
       "      <td>3.28</td>\n",
       "      <td>4.45</td>\n",
       "      <td>3.29</td>\n",
       "      <td>4.50</td>\n",
       "      <td>NaN</td>\n",
       "      <td>NaN</td>\n",
       "      <td>NaN</td>\n",
       "      <td>NaN</td>\n",
       "    </tr>\n",
       "    <tr>\n",
       "      <th>1995-01-03</th>\n",
       "      <td>3.27</td>\n",
       "      <td>4.39</td>\n",
       "      <td>3.28</td>\n",
       "      <td>4.45</td>\n",
       "      <td>3.29</td>\n",
       "      <td>4.50</td>\n",
       "      <td>NaN</td>\n",
       "      <td>NaN</td>\n",
       "    </tr>\n",
       "    <tr>\n",
       "      <th>1995-01-04</th>\n",
       "      <td>3.27</td>\n",
       "      <td>4.33</td>\n",
       "      <td>3.27</td>\n",
       "      <td>4.39</td>\n",
       "      <td>3.28</td>\n",
       "      <td>4.45</td>\n",
       "      <td>3.29</td>\n",
       "      <td>4.50</td>\n",
       "    </tr>\n",
       "    <tr>\n",
       "      <th>1995-01-05</th>\n",
       "      <td>3.22</td>\n",
       "      <td>4.18</td>\n",
       "      <td>3.27</td>\n",
       "      <td>4.33</td>\n",
       "      <td>3.27</td>\n",
       "      <td>4.39</td>\n",
       "      <td>3.28</td>\n",
       "      <td>4.45</td>\n",
       "    </tr>\n",
       "    <tr>\n",
       "      <th>1995-01-06</th>\n",
       "      <td>3.19</td>\n",
       "      <td>4.06</td>\n",
       "      <td>3.22</td>\n",
       "      <td>4.18</td>\n",
       "      <td>3.27</td>\n",
       "      <td>4.33</td>\n",
       "      <td>3.27</td>\n",
       "      <td>4.39</td>\n",
       "    </tr>\n",
       "    <tr>\n",
       "      <th>1995-01-07</th>\n",
       "      <td>3.14</td>\n",
       "      <td>3.90</td>\n",
       "      <td>3.19</td>\n",
       "      <td>4.06</td>\n",
       "      <td>3.22</td>\n",
       "      <td>4.18</td>\n",
       "      <td>3.27</td>\n",
       "      <td>4.33</td>\n",
       "    </tr>\n",
       "    <tr>\n",
       "      <th>1995-01-08</th>\n",
       "      <td>3.10</td>\n",
       "      <td>3.75</td>\n",
       "      <td>3.14</td>\n",
       "      <td>3.90</td>\n",
       "      <td>3.19</td>\n",
       "      <td>4.06</td>\n",
       "      <td>3.22</td>\n",
       "      <td>4.18</td>\n",
       "    </tr>\n",
       "    <tr>\n",
       "      <th>1995-01-09</th>\n",
       "      <td>3.02</td>\n",
       "      <td>3.59</td>\n",
       "      <td>3.10</td>\n",
       "      <td>3.75</td>\n",
       "      <td>3.14</td>\n",
       "      <td>3.90</td>\n",
       "      <td>3.19</td>\n",
       "      <td>4.06</td>\n",
       "    </tr>\n",
       "    <tr>\n",
       "      <th>1995-01-10</th>\n",
       "      <td>2.95</td>\n",
       "      <td>3.25</td>\n",
       "      <td>3.02</td>\n",
       "      <td>3.59</td>\n",
       "      <td>3.10</td>\n",
       "      <td>3.75</td>\n",
       "      <td>3.14</td>\n",
       "      <td>3.90</td>\n",
       "    </tr>\n",
       "  </tbody>\n",
       "</table>\n",
       "</div>"
      ],
      "text/plain": [
       "            Sup.  Huron  Sup.1  Huron1  Sup.2  Huron2  Sup.3  Huron3\n",
       "Date                                                                \n",
       "1995-01-01  3.29   4.50    NaN     NaN    NaN     NaN    NaN     NaN\n",
       "1995-01-02  3.28   4.45   3.29    4.50    NaN     NaN    NaN     NaN\n",
       "1995-01-03  3.27   4.39   3.28    4.45   3.29    4.50    NaN     NaN\n",
       "1995-01-04  3.27   4.33   3.27    4.39   3.28    4.45   3.29    4.50\n",
       "1995-01-05  3.22   4.18   3.27    4.33   3.27    4.39   3.28    4.45\n",
       "1995-01-06  3.19   4.06   3.22    4.18   3.27    4.33   3.27    4.39\n",
       "1995-01-07  3.14   3.90   3.19    4.06   3.22    4.18   3.27    4.33\n",
       "1995-01-08  3.10   3.75   3.14    3.90   3.19    4.06   3.22    4.18\n",
       "1995-01-09  3.02   3.59   3.10    3.75   3.14    3.90   3.19    4.06\n",
       "1995-01-10  2.95   3.25   3.02    3.59   3.10    3.75   3.14    3.90"
      ]
     },
     "execution_count": 15,
     "metadata": {},
     "output_type": "execute_result"
    }
   ],
   "source": [
    "lags = range(1, look_back)\n",
    "\n",
    "surface_temp = surface_temp.assign(**{\n",
    "    f'{col}{lag}': surface_temp[col].shift(lag)\n",
    "    for lag in lags\n",
    "    for col in surface_temp\n",
    "})\n",
    "\n",
    "surface_temp.head(10)"
   ]
  },
  {
   "cell_type": "code",
   "execution_count": 16,
   "metadata": {
    "colab": {
     "base_uri": "https://localhost:8080/",
     "height": 204
    },
    "id": "48A5logn-CEY",
    "outputId": "d1dcd749-530b-4b81-d584-3cc91a8267c1"
   },
   "outputs": [
    {
     "data": {
      "text/html": [
       "<div>\n",
       "<style scoped>\n",
       "    .dataframe tbody tr th:only-of-type {\n",
       "        vertical-align: middle;\n",
       "    }\n",
       "\n",
       "    .dataframe tbody tr th {\n",
       "        vertical-align: top;\n",
       "    }\n",
       "\n",
       "    .dataframe thead th {\n",
       "        text-align: right;\n",
       "    }\n",
       "</style>\n",
       "<table border=\"1\" class=\"dataframe\">\n",
       "  <thead>\n",
       "    <tr style=\"text-align: right;\">\n",
       "      <th></th>\n",
       "      <th>dateTime</th>\n",
       "      <th>NAO</th>\n",
       "      <th>PNA</th>\n",
       "      <th>EPNP</th>\n",
       "      <th>SOI</th>\n",
       "    </tr>\n",
       "  </thead>\n",
       "  <tbody>\n",
       "    <tr>\n",
       "      <th>0</th>\n",
       "      <td>1995-01-01</td>\n",
       "      <td>0.93</td>\n",
       "      <td>0.66</td>\n",
       "      <td>1.03</td>\n",
       "      <td>-0.4</td>\n",
       "    </tr>\n",
       "    <tr>\n",
       "      <th>1</th>\n",
       "      <td>1995-02-01</td>\n",
       "      <td>1.14</td>\n",
       "      <td>0.73</td>\n",
       "      <td>0.05</td>\n",
       "      <td>-0.1</td>\n",
       "    </tr>\n",
       "    <tr>\n",
       "      <th>2</th>\n",
       "      <td>1995-03-01</td>\n",
       "      <td>1.25</td>\n",
       "      <td>0.33</td>\n",
       "      <td>0.61</td>\n",
       "      <td>0.8</td>\n",
       "    </tr>\n",
       "    <tr>\n",
       "      <th>3</th>\n",
       "      <td>1995-04-01</td>\n",
       "      <td>-0.85</td>\n",
       "      <td>0.29</td>\n",
       "      <td>1.13</td>\n",
       "      <td>-0.7</td>\n",
       "    </tr>\n",
       "    <tr>\n",
       "      <th>4</th>\n",
       "      <td>1995-05-01</td>\n",
       "      <td>-1.49</td>\n",
       "      <td>0.01</td>\n",
       "      <td>0.72</td>\n",
       "      <td>-0.4</td>\n",
       "    </tr>\n",
       "  </tbody>\n",
       "</table>\n",
       "</div>"
      ],
      "text/plain": [
       "     dateTime   NAO   PNA  EPNP  SOI\n",
       "0  1995-01-01  0.93  0.66  1.03 -0.4\n",
       "1  1995-02-01  1.14  0.73  0.05 -0.1\n",
       "2  1995-03-01  1.25  0.33  0.61  0.8\n",
       "3  1995-04-01 -0.85  0.29  1.13 -0.7\n",
       "4  1995-05-01 -1.49  0.01  0.72 -0.4"
      ]
     },
     "execution_count": 16,
     "metadata": {},
     "output_type": "execute_result"
    }
   ],
   "source": [
    "climate_ind_m.head()"
   ]
  },
  {
   "cell_type": "code",
   "execution_count": 17,
   "metadata": {
    "colab": {
     "base_uri": "https://localhost:8080/"
    },
    "id": "UjvGnaYyNTd6",
    "outputId": "3d95c5c3-efa5-47ed-d8c5-d971ad2a91e3"
   },
   "outputs": [
    {
     "data": {
      "text/plain": [
       "dateTime     object\n",
       "NAO         float64\n",
       "PNA         float64\n",
       "EPNP        float64\n",
       "SOI         float64\n",
       "dtype: object"
      ]
     },
     "execution_count": 17,
     "metadata": {},
     "output_type": "execute_result"
    }
   ],
   "source": [
    "climate_ind_m.dtypes"
   ]
  },
  {
   "cell_type": "markdown",
   "metadata": {
    "id": "Ol7sLA3cb3tn"
   },
   "source": [
    "Observation - Climate indices data is of monthly frequency whereas the rest of the indices are of daily frequency. Hence, we need to convert the Climate indices data to daily frequency inorder to create the consolidated input file."
   ]
  },
  {
   "cell_type": "code",
   "execution_count": 18,
   "metadata": {
    "colab": {
     "base_uri": "https://localhost:8080/",
     "height": 235
    },
    "id": "5ADDkGMii5Vm",
    "outputId": "27e49f2c-e5d3-49a1-ba2c-1cf507a0bc3d"
   },
   "outputs": [
    {
     "data": {
      "text/html": [
       "<div>\n",
       "<style scoped>\n",
       "    .dataframe tbody tr th:only-of-type {\n",
       "        vertical-align: middle;\n",
       "    }\n",
       "\n",
       "    .dataframe tbody tr th {\n",
       "        vertical-align: top;\n",
       "    }\n",
       "\n",
       "    .dataframe thead th {\n",
       "        text-align: right;\n",
       "    }\n",
       "</style>\n",
       "<table border=\"1\" class=\"dataframe\">\n",
       "  <thead>\n",
       "    <tr style=\"text-align: right;\">\n",
       "      <th></th>\n",
       "      <th>NAO</th>\n",
       "      <th>PNA</th>\n",
       "      <th>EPNP</th>\n",
       "      <th>SOI</th>\n",
       "    </tr>\n",
       "    <tr>\n",
       "      <th>dateTime</th>\n",
       "      <th></th>\n",
       "      <th></th>\n",
       "      <th></th>\n",
       "      <th></th>\n",
       "    </tr>\n",
       "  </thead>\n",
       "  <tbody>\n",
       "    <tr>\n",
       "      <th>1995-01-01</th>\n",
       "      <td>0.93</td>\n",
       "      <td>0.66</td>\n",
       "      <td>1.03</td>\n",
       "      <td>-0.4</td>\n",
       "    </tr>\n",
       "    <tr>\n",
       "      <th>1995-02-01</th>\n",
       "      <td>1.14</td>\n",
       "      <td>0.73</td>\n",
       "      <td>0.05</td>\n",
       "      <td>-0.1</td>\n",
       "    </tr>\n",
       "    <tr>\n",
       "      <th>1995-03-01</th>\n",
       "      <td>1.25</td>\n",
       "      <td>0.33</td>\n",
       "      <td>0.61</td>\n",
       "      <td>0.8</td>\n",
       "    </tr>\n",
       "    <tr>\n",
       "      <th>1995-04-01</th>\n",
       "      <td>-0.85</td>\n",
       "      <td>0.29</td>\n",
       "      <td>1.13</td>\n",
       "      <td>-0.7</td>\n",
       "    </tr>\n",
       "    <tr>\n",
       "      <th>1995-05-01</th>\n",
       "      <td>-1.49</td>\n",
       "      <td>0.01</td>\n",
       "      <td>0.72</td>\n",
       "      <td>-0.4</td>\n",
       "    </tr>\n",
       "  </tbody>\n",
       "</table>\n",
       "</div>"
      ],
      "text/plain": [
       "             NAO   PNA  EPNP  SOI\n",
       "dateTime                         \n",
       "1995-01-01  0.93  0.66  1.03 -0.4\n",
       "1995-02-01  1.14  0.73  0.05 -0.1\n",
       "1995-03-01  1.25  0.33  0.61  0.8\n",
       "1995-04-01 -0.85  0.29  1.13 -0.7\n",
       "1995-05-01 -1.49  0.01  0.72 -0.4"
      ]
     },
     "execution_count": 18,
     "metadata": {},
     "output_type": "execute_result"
    }
   ],
   "source": [
    "#Inorder to Upsample the Climate indices data, the dateTime feature has to be an index and has to be a datetime object. \n",
    "climate_ind_m['dateTime'] = pd.to_datetime(climate_ind_m['dateTime'], errors='coerce')\n",
    "climate_ind_m.set_index('dateTime', inplace=True)\n",
    "climate_ind_m.head()"
   ]
  },
  {
   "cell_type": "code",
   "execution_count": 19,
   "metadata": {
    "colab": {
     "base_uri": "https://localhost:8080/"
    },
    "id": "0lNAPRI7bwM_",
    "outputId": "b3a0ce49-4dc7-4c80-cb71-4810a4867d5d"
   },
   "outputs": [
    {
     "data": {
      "text/plain": [
       "NAO    PNA    EPNP   SOI \n",
       "-3.18   0.76   0.23  -1.1    31\n",
       " 0.61   0.69  -0.03   2.5    31\n",
       " 0.19  -0.40  -0.58   0.9    31\n",
       "       -0.05  -0.32   0.0    31\n",
       " 0.20   0.41  -0.24   1.0    31\n",
       "                             ..\n",
       " 0.29  -0.12  -1.12   1.0    28\n",
       " 0.45  -0.16   0.26   1.7    28\n",
       " 0.70  -1.58  -0.12   2.7    28\n",
       " 1.10   0.14  -0.89   1.1    28\n",
       " 0.00   0.06  -1.28   1.4     1\n",
       "Length: 319, dtype: int64"
      ]
     },
     "execution_count": 19,
     "metadata": {},
     "output_type": "execute_result"
    }
   ],
   "source": [
    "#Resample at daily frequnecy, use the start value(in a month) to forward fill for the rest of the days in the month\n",
    "climate_ind_d = climate_ind_m.resample('D', convention='start').ffill()\n",
    "climate_ind_d.value_counts()"
   ]
  },
  {
   "cell_type": "markdown",
   "metadata": {
    "id": "wLImyjEckGz4"
   },
   "source": [
    "Observation - The climate indices been converted to daily level"
   ]
  },
  {
   "cell_type": "code",
   "execution_count": 20,
   "metadata": {
    "colab": {
     "base_uri": "https://localhost:8080/",
     "height": 235
    },
    "id": "LNufA8yTj2dp",
    "outputId": "dbe40c5c-a343-461f-8484-55a139103c54"
   },
   "outputs": [
    {
     "data": {
      "text/html": [
       "<div>\n",
       "<style scoped>\n",
       "    .dataframe tbody tr th:only-of-type {\n",
       "        vertical-align: middle;\n",
       "    }\n",
       "\n",
       "    .dataframe tbody tr th {\n",
       "        vertical-align: top;\n",
       "    }\n",
       "\n",
       "    .dataframe thead th {\n",
       "        text-align: right;\n",
       "    }\n",
       "</style>\n",
       "<table border=\"1\" class=\"dataframe\">\n",
       "  <thead>\n",
       "    <tr style=\"text-align: right;\">\n",
       "      <th></th>\n",
       "      <th>NAO</th>\n",
       "      <th>PNA</th>\n",
       "      <th>EPNP</th>\n",
       "      <th>SOI</th>\n",
       "    </tr>\n",
       "    <tr>\n",
       "      <th>dateTime</th>\n",
       "      <th></th>\n",
       "      <th></th>\n",
       "      <th></th>\n",
       "      <th></th>\n",
       "    </tr>\n",
       "  </thead>\n",
       "  <tbody>\n",
       "    <tr>\n",
       "      <th>1995-01-01</th>\n",
       "      <td>0.93</td>\n",
       "      <td>0.66</td>\n",
       "      <td>1.03</td>\n",
       "      <td>-0.4</td>\n",
       "    </tr>\n",
       "    <tr>\n",
       "      <th>1995-01-02</th>\n",
       "      <td>0.93</td>\n",
       "      <td>0.66</td>\n",
       "      <td>1.03</td>\n",
       "      <td>-0.4</td>\n",
       "    </tr>\n",
       "    <tr>\n",
       "      <th>1995-01-03</th>\n",
       "      <td>0.93</td>\n",
       "      <td>0.66</td>\n",
       "      <td>1.03</td>\n",
       "      <td>-0.4</td>\n",
       "    </tr>\n",
       "    <tr>\n",
       "      <th>1995-01-04</th>\n",
       "      <td>0.93</td>\n",
       "      <td>0.66</td>\n",
       "      <td>1.03</td>\n",
       "      <td>-0.4</td>\n",
       "    </tr>\n",
       "    <tr>\n",
       "      <th>1995-01-05</th>\n",
       "      <td>0.93</td>\n",
       "      <td>0.66</td>\n",
       "      <td>1.03</td>\n",
       "      <td>-0.4</td>\n",
       "    </tr>\n",
       "  </tbody>\n",
       "</table>\n",
       "</div>"
      ],
      "text/plain": [
       "             NAO   PNA  EPNP  SOI\n",
       "dateTime                         \n",
       "1995-01-01  0.93  0.66  1.03 -0.4\n",
       "1995-01-02  0.93  0.66  1.03 -0.4\n",
       "1995-01-03  0.93  0.66  1.03 -0.4\n",
       "1995-01-04  0.93  0.66  1.03 -0.4\n",
       "1995-01-05  0.93  0.66  1.03 -0.4"
      ]
     },
     "execution_count": 20,
     "metadata": {},
     "output_type": "execute_result"
    }
   ],
   "source": [
    "#climate_ind_d.reset_index(inplace=True)\n",
    "climate_ind_d.head()"
   ]
  },
  {
   "cell_type": "code",
   "execution_count": 21,
   "metadata": {},
   "outputs": [],
   "source": [
    "climate_ind_d1 = climate_ind_d"
   ]
  },
  {
   "cell_type": "code",
   "execution_count": 22,
   "metadata": {
    "colab": {
     "base_uri": "https://localhost:8080/",
     "height": 390
    },
    "id": "GgekBXb46Ju3",
    "outputId": "e3502fc0-310f-4492-8c42-4e23e8a78963"
   },
   "outputs": [
    {
     "data": {
      "text/html": [
       "<div>\n",
       "<style scoped>\n",
       "    .dataframe tbody tr th:only-of-type {\n",
       "        vertical-align: middle;\n",
       "    }\n",
       "\n",
       "    .dataframe tbody tr th {\n",
       "        vertical-align: top;\n",
       "    }\n",
       "\n",
       "    .dataframe thead th {\n",
       "        text-align: right;\n",
       "    }\n",
       "</style>\n",
       "<table border=\"1\" class=\"dataframe\">\n",
       "  <thead>\n",
       "    <tr style=\"text-align: right;\">\n",
       "      <th></th>\n",
       "      <th>NAO</th>\n",
       "      <th>PNA</th>\n",
       "      <th>EPNP</th>\n",
       "      <th>SOI</th>\n",
       "      <th>NAO1</th>\n",
       "      <th>PNA1</th>\n",
       "      <th>EPNP1</th>\n",
       "      <th>SOI1</th>\n",
       "      <th>NAO2</th>\n",
       "      <th>PNA2</th>\n",
       "      <th>EPNP2</th>\n",
       "      <th>SOI2</th>\n",
       "      <th>NAO3</th>\n",
       "      <th>PNA3</th>\n",
       "      <th>EPNP3</th>\n",
       "      <th>SOI3</th>\n",
       "    </tr>\n",
       "    <tr>\n",
       "      <th>dateTime</th>\n",
       "      <th></th>\n",
       "      <th></th>\n",
       "      <th></th>\n",
       "      <th></th>\n",
       "      <th></th>\n",
       "      <th></th>\n",
       "      <th></th>\n",
       "      <th></th>\n",
       "      <th></th>\n",
       "      <th></th>\n",
       "      <th></th>\n",
       "      <th></th>\n",
       "      <th></th>\n",
       "      <th></th>\n",
       "      <th></th>\n",
       "      <th></th>\n",
       "    </tr>\n",
       "  </thead>\n",
       "  <tbody>\n",
       "    <tr>\n",
       "      <th>1995-01-01</th>\n",
       "      <td>0.93</td>\n",
       "      <td>0.66</td>\n",
       "      <td>1.03</td>\n",
       "      <td>-0.4</td>\n",
       "      <td>NaN</td>\n",
       "      <td>NaN</td>\n",
       "      <td>NaN</td>\n",
       "      <td>NaN</td>\n",
       "      <td>NaN</td>\n",
       "      <td>NaN</td>\n",
       "      <td>NaN</td>\n",
       "      <td>NaN</td>\n",
       "      <td>NaN</td>\n",
       "      <td>NaN</td>\n",
       "      <td>NaN</td>\n",
       "      <td>NaN</td>\n",
       "    </tr>\n",
       "    <tr>\n",
       "      <th>1995-01-02</th>\n",
       "      <td>0.93</td>\n",
       "      <td>0.66</td>\n",
       "      <td>1.03</td>\n",
       "      <td>-0.4</td>\n",
       "      <td>0.93</td>\n",
       "      <td>0.66</td>\n",
       "      <td>1.03</td>\n",
       "      <td>-0.4</td>\n",
       "      <td>NaN</td>\n",
       "      <td>NaN</td>\n",
       "      <td>NaN</td>\n",
       "      <td>NaN</td>\n",
       "      <td>NaN</td>\n",
       "      <td>NaN</td>\n",
       "      <td>NaN</td>\n",
       "      <td>NaN</td>\n",
       "    </tr>\n",
       "    <tr>\n",
       "      <th>1995-01-03</th>\n",
       "      <td>0.93</td>\n",
       "      <td>0.66</td>\n",
       "      <td>1.03</td>\n",
       "      <td>-0.4</td>\n",
       "      <td>0.93</td>\n",
       "      <td>0.66</td>\n",
       "      <td>1.03</td>\n",
       "      <td>-0.4</td>\n",
       "      <td>0.93</td>\n",
       "      <td>0.66</td>\n",
       "      <td>1.03</td>\n",
       "      <td>-0.4</td>\n",
       "      <td>NaN</td>\n",
       "      <td>NaN</td>\n",
       "      <td>NaN</td>\n",
       "      <td>NaN</td>\n",
       "    </tr>\n",
       "    <tr>\n",
       "      <th>1995-01-04</th>\n",
       "      <td>0.93</td>\n",
       "      <td>0.66</td>\n",
       "      <td>1.03</td>\n",
       "      <td>-0.4</td>\n",
       "      <td>0.93</td>\n",
       "      <td>0.66</td>\n",
       "      <td>1.03</td>\n",
       "      <td>-0.4</td>\n",
       "      <td>0.93</td>\n",
       "      <td>0.66</td>\n",
       "      <td>1.03</td>\n",
       "      <td>-0.4</td>\n",
       "      <td>0.93</td>\n",
       "      <td>0.66</td>\n",
       "      <td>1.03</td>\n",
       "      <td>-0.4</td>\n",
       "    </tr>\n",
       "    <tr>\n",
       "      <th>1995-01-05</th>\n",
       "      <td>0.93</td>\n",
       "      <td>0.66</td>\n",
       "      <td>1.03</td>\n",
       "      <td>-0.4</td>\n",
       "      <td>0.93</td>\n",
       "      <td>0.66</td>\n",
       "      <td>1.03</td>\n",
       "      <td>-0.4</td>\n",
       "      <td>0.93</td>\n",
       "      <td>0.66</td>\n",
       "      <td>1.03</td>\n",
       "      <td>-0.4</td>\n",
       "      <td>0.93</td>\n",
       "      <td>0.66</td>\n",
       "      <td>1.03</td>\n",
       "      <td>-0.4</td>\n",
       "    </tr>\n",
       "    <tr>\n",
       "      <th>1995-01-06</th>\n",
       "      <td>0.93</td>\n",
       "      <td>0.66</td>\n",
       "      <td>1.03</td>\n",
       "      <td>-0.4</td>\n",
       "      <td>0.93</td>\n",
       "      <td>0.66</td>\n",
       "      <td>1.03</td>\n",
       "      <td>-0.4</td>\n",
       "      <td>0.93</td>\n",
       "      <td>0.66</td>\n",
       "      <td>1.03</td>\n",
       "      <td>-0.4</td>\n",
       "      <td>0.93</td>\n",
       "      <td>0.66</td>\n",
       "      <td>1.03</td>\n",
       "      <td>-0.4</td>\n",
       "    </tr>\n",
       "    <tr>\n",
       "      <th>1995-01-07</th>\n",
       "      <td>0.93</td>\n",
       "      <td>0.66</td>\n",
       "      <td>1.03</td>\n",
       "      <td>-0.4</td>\n",
       "      <td>0.93</td>\n",
       "      <td>0.66</td>\n",
       "      <td>1.03</td>\n",
       "      <td>-0.4</td>\n",
       "      <td>0.93</td>\n",
       "      <td>0.66</td>\n",
       "      <td>1.03</td>\n",
       "      <td>-0.4</td>\n",
       "      <td>0.93</td>\n",
       "      <td>0.66</td>\n",
       "      <td>1.03</td>\n",
       "      <td>-0.4</td>\n",
       "    </tr>\n",
       "    <tr>\n",
       "      <th>1995-01-08</th>\n",
       "      <td>0.93</td>\n",
       "      <td>0.66</td>\n",
       "      <td>1.03</td>\n",
       "      <td>-0.4</td>\n",
       "      <td>0.93</td>\n",
       "      <td>0.66</td>\n",
       "      <td>1.03</td>\n",
       "      <td>-0.4</td>\n",
       "      <td>0.93</td>\n",
       "      <td>0.66</td>\n",
       "      <td>1.03</td>\n",
       "      <td>-0.4</td>\n",
       "      <td>0.93</td>\n",
       "      <td>0.66</td>\n",
       "      <td>1.03</td>\n",
       "      <td>-0.4</td>\n",
       "    </tr>\n",
       "    <tr>\n",
       "      <th>1995-01-09</th>\n",
       "      <td>0.93</td>\n",
       "      <td>0.66</td>\n",
       "      <td>1.03</td>\n",
       "      <td>-0.4</td>\n",
       "      <td>0.93</td>\n",
       "      <td>0.66</td>\n",
       "      <td>1.03</td>\n",
       "      <td>-0.4</td>\n",
       "      <td>0.93</td>\n",
       "      <td>0.66</td>\n",
       "      <td>1.03</td>\n",
       "      <td>-0.4</td>\n",
       "      <td>0.93</td>\n",
       "      <td>0.66</td>\n",
       "      <td>1.03</td>\n",
       "      <td>-0.4</td>\n",
       "    </tr>\n",
       "    <tr>\n",
       "      <th>1995-01-10</th>\n",
       "      <td>0.93</td>\n",
       "      <td>0.66</td>\n",
       "      <td>1.03</td>\n",
       "      <td>-0.4</td>\n",
       "      <td>0.93</td>\n",
       "      <td>0.66</td>\n",
       "      <td>1.03</td>\n",
       "      <td>-0.4</td>\n",
       "      <td>0.93</td>\n",
       "      <td>0.66</td>\n",
       "      <td>1.03</td>\n",
       "      <td>-0.4</td>\n",
       "      <td>0.93</td>\n",
       "      <td>0.66</td>\n",
       "      <td>1.03</td>\n",
       "      <td>-0.4</td>\n",
       "    </tr>\n",
       "  </tbody>\n",
       "</table>\n",
       "</div>"
      ],
      "text/plain": [
       "             NAO   PNA  EPNP  SOI  NAO1  PNA1  EPNP1  SOI1  NAO2  PNA2  EPNP2  \\\n",
       "dateTime                                                                        \n",
       "1995-01-01  0.93  0.66  1.03 -0.4   NaN   NaN    NaN   NaN   NaN   NaN    NaN   \n",
       "1995-01-02  0.93  0.66  1.03 -0.4  0.93  0.66   1.03  -0.4   NaN   NaN    NaN   \n",
       "1995-01-03  0.93  0.66  1.03 -0.4  0.93  0.66   1.03  -0.4  0.93  0.66   1.03   \n",
       "1995-01-04  0.93  0.66  1.03 -0.4  0.93  0.66   1.03  -0.4  0.93  0.66   1.03   \n",
       "1995-01-05  0.93  0.66  1.03 -0.4  0.93  0.66   1.03  -0.4  0.93  0.66   1.03   \n",
       "1995-01-06  0.93  0.66  1.03 -0.4  0.93  0.66   1.03  -0.4  0.93  0.66   1.03   \n",
       "1995-01-07  0.93  0.66  1.03 -0.4  0.93  0.66   1.03  -0.4  0.93  0.66   1.03   \n",
       "1995-01-08  0.93  0.66  1.03 -0.4  0.93  0.66   1.03  -0.4  0.93  0.66   1.03   \n",
       "1995-01-09  0.93  0.66  1.03 -0.4  0.93  0.66   1.03  -0.4  0.93  0.66   1.03   \n",
       "1995-01-10  0.93  0.66  1.03 -0.4  0.93  0.66   1.03  -0.4  0.93  0.66   1.03   \n",
       "\n",
       "            SOI2  NAO3  PNA3  EPNP3  SOI3  \n",
       "dateTime                                   \n",
       "1995-01-01   NaN   NaN   NaN    NaN   NaN  \n",
       "1995-01-02   NaN   NaN   NaN    NaN   NaN  \n",
       "1995-01-03  -0.4   NaN   NaN    NaN   NaN  \n",
       "1995-01-04  -0.4  0.93  0.66   1.03  -0.4  \n",
       "1995-01-05  -0.4  0.93  0.66   1.03  -0.4  \n",
       "1995-01-06  -0.4  0.93  0.66   1.03  -0.4  \n",
       "1995-01-07  -0.4  0.93  0.66   1.03  -0.4  \n",
       "1995-01-08  -0.4  0.93  0.66   1.03  -0.4  \n",
       "1995-01-09  -0.4  0.93  0.66   1.03  -0.4  \n",
       "1995-01-10  -0.4  0.93  0.66   1.03  -0.4  "
      ]
     },
     "execution_count": 22,
     "metadata": {},
     "output_type": "execute_result"
    }
   ],
   "source": [
    "lags = range(1, look_back)\n",
    "\n",
    "climate_ind_d = climate_ind_d.assign(**{\n",
    "    f'{col}{lag}': climate_ind_d[col].shift(lag)\n",
    "    for lag in lags\n",
    "    for col in climate_ind_d\n",
    "})\n",
    "\n",
    "climate_ind_d.head(10)"
   ]
  },
  {
   "cell_type": "markdown",
   "metadata": {
    "id": "LtbbBrKs-CEa"
   },
   "source": [
    "#### 1.1. Independent variables"
   ]
  },
  {
   "cell_type": "code",
   "execution_count": 23,
   "metadata": {
    "colab": {
     "base_uri": "https://localhost:8080/"
    },
    "id": "DUQKJMfD74ec",
    "outputId": "3c08c463-1114-486c-d547-f8b2c1293f18"
   },
   "outputs": [
    {
     "data": {
      "text/plain": [
       "Index(['Date', 'u-wind', 'v-wind', 'pressure', 'humidity', 'temperature',\n",
       "       'u-wind1', 'v-wind1', 'pressure1', 'humidity1', 'temperature1',\n",
       "       'u-wind2', 'v-wind2', 'pressure2', 'humidity2', 'temperature2',\n",
       "       'u-wind3', 'v-wind3', 'pressure3', 'humidity3', 'temperature3'],\n",
       "      dtype='object')"
      ]
     },
     "execution_count": 23,
     "metadata": {},
     "output_type": "execute_result"
    }
   ],
   "source": [
    "meterology = meterology.reset_index()\n",
    "meterology = meterology.rename(columns={'date': 'Date'})\n",
    "meterology.columns"
   ]
  },
  {
   "cell_type": "code",
   "execution_count": 24,
   "metadata": {
    "colab": {
     "base_uri": "https://localhost:8080/"
    },
    "id": "b_7VrV2l-CEb",
    "outputId": "7ef80581-425e-441b-bfa1-d94c6e256048"
   },
   "outputs": [
    {
     "data": {
      "text/plain": [
       "Index(['Date', 'Sup.', 'Huron', 'Sup.1', 'Huron1', 'Sup.2', 'Huron2', 'Sup.3',\n",
       "       'Huron3'],\n",
       "      dtype='object')"
      ]
     },
     "execution_count": 24,
     "metadata": {},
     "output_type": "execute_result"
    }
   ],
   "source": [
    "surface_temp = surface_temp.reset_index()\n",
    "surface_temp.columns"
   ]
  },
  {
   "cell_type": "code",
   "execution_count": 25,
   "metadata": {
    "colab": {
     "base_uri": "https://localhost:8080/"
    },
    "id": "By_dLLDc86H9",
    "outputId": "79fd35bd-aa29-4803-b99d-220dda7f2966"
   },
   "outputs": [
    {
     "data": {
      "text/plain": [
       "Index(['Date', 'NAO', 'PNA', 'EPNP', 'SOI', 'NAO1', 'PNA1', 'EPNP1', 'SOI1',\n",
       "       'NAO2', 'PNA2', 'EPNP2', 'SOI2', 'NAO3', 'PNA3', 'EPNP3', 'SOI3'],\n",
       "      dtype='object')"
      ]
     },
     "execution_count": 25,
     "metadata": {},
     "output_type": "execute_result"
    }
   ],
   "source": [
    "climate_ind_d = climate_ind_d.reset_index()\n",
    "climate_ind_d = climate_ind_d.rename(columns={'dateTime': 'Date'})\n",
    "climate_ind_d.columns"
   ]
  },
  {
   "cell_type": "code",
   "execution_count": 26,
   "metadata": {
    "colab": {
     "base_uri": "https://localhost:8080/"
    },
    "id": "nee31TT-9V7W",
    "outputId": "a750f365-3cf7-4527-8339-ff13c466b4f0"
   },
   "outputs": [
    {
     "data": {
      "text/plain": [
       "(9678, 45)"
      ]
     },
     "execution_count": 26,
     "metadata": {},
     "output_type": "execute_result"
    }
   ],
   "source": [
    "df_merge_inter = meterology.merge(surface_temp, how = 'inner', on = 'Date')\n",
    "df_merge = df_merge_inter.merge(climate_ind_d, how = 'inner', on = 'Date')\n",
    "df_merge.shape"
   ]
  },
  {
   "cell_type": "code",
   "execution_count": 27,
   "metadata": {
    "colab": {
     "base_uri": "https://localhost:8080/",
     "height": 549
    },
    "id": "Hb1u1Zxj_aQO",
    "outputId": "0a420442-41db-462a-95b3-c17690747385"
   },
   "outputs": [
    {
     "data": {
      "text/html": [
       "<div>\n",
       "<style scoped>\n",
       "    .dataframe tbody tr th:only-of-type {\n",
       "        vertical-align: middle;\n",
       "    }\n",
       "\n",
       "    .dataframe tbody tr th {\n",
       "        vertical-align: top;\n",
       "    }\n",
       "\n",
       "    .dataframe thead th {\n",
       "        text-align: right;\n",
       "    }\n",
       "</style>\n",
       "<table border=\"1\" class=\"dataframe\">\n",
       "  <thead>\n",
       "    <tr style=\"text-align: right;\">\n",
       "      <th></th>\n",
       "      <th>Date</th>\n",
       "      <th>u-wind</th>\n",
       "      <th>v-wind</th>\n",
       "      <th>pressure</th>\n",
       "      <th>humidity</th>\n",
       "      <th>temperature</th>\n",
       "      <th>u-wind1</th>\n",
       "      <th>v-wind1</th>\n",
       "      <th>pressure1</th>\n",
       "      <th>humidity1</th>\n",
       "      <th>...</th>\n",
       "      <th>EPNP1</th>\n",
       "      <th>SOI1</th>\n",
       "      <th>NAO2</th>\n",
       "      <th>PNA2</th>\n",
       "      <th>EPNP2</th>\n",
       "      <th>SOI2</th>\n",
       "      <th>NAO3</th>\n",
       "      <th>PNA3</th>\n",
       "      <th>EPNP3</th>\n",
       "      <th>SOI3</th>\n",
       "    </tr>\n",
       "  </thead>\n",
       "  <tbody>\n",
       "    <tr>\n",
       "      <th>0</th>\n",
       "      <td>1995-01-01</td>\n",
       "      <td>2.381250</td>\n",
       "      <td>-0.628125</td>\n",
       "      <td>98903.125</td>\n",
       "      <td>30.375</td>\n",
       "      <td>270.178146</td>\n",
       "      <td>NaN</td>\n",
       "      <td>NaN</td>\n",
       "      <td>NaN</td>\n",
       "      <td>NaN</td>\n",
       "      <td>...</td>\n",
       "      <td>NaN</td>\n",
       "      <td>NaN</td>\n",
       "      <td>NaN</td>\n",
       "      <td>NaN</td>\n",
       "      <td>NaN</td>\n",
       "      <td>NaN</td>\n",
       "      <td>NaN</td>\n",
       "      <td>NaN</td>\n",
       "      <td>NaN</td>\n",
       "      <td>NaN</td>\n",
       "    </tr>\n",
       "    <tr>\n",
       "      <th>1</th>\n",
       "      <td>1995-01-02</td>\n",
       "      <td>4.033125</td>\n",
       "      <td>-1.283125</td>\n",
       "      <td>98336.875</td>\n",
       "      <td>25.500</td>\n",
       "      <td>267.714500</td>\n",
       "      <td>2.381250</td>\n",
       "      <td>-0.628125</td>\n",
       "      <td>98903.125</td>\n",
       "      <td>30.375</td>\n",
       "      <td>...</td>\n",
       "      <td>1.03</td>\n",
       "      <td>-0.4</td>\n",
       "      <td>NaN</td>\n",
       "      <td>NaN</td>\n",
       "      <td>NaN</td>\n",
       "      <td>NaN</td>\n",
       "      <td>NaN</td>\n",
       "      <td>NaN</td>\n",
       "      <td>NaN</td>\n",
       "      <td>NaN</td>\n",
       "    </tr>\n",
       "    <tr>\n",
       "      <th>2</th>\n",
       "      <td>1995-01-03</td>\n",
       "      <td>5.938750</td>\n",
       "      <td>0.482500</td>\n",
       "      <td>98652.500</td>\n",
       "      <td>17.125</td>\n",
       "      <td>265.636627</td>\n",
       "      <td>4.033125</td>\n",
       "      <td>-1.283125</td>\n",
       "      <td>98336.875</td>\n",
       "      <td>25.500</td>\n",
       "      <td>...</td>\n",
       "      <td>1.03</td>\n",
       "      <td>-0.4</td>\n",
       "      <td>0.93</td>\n",
       "      <td>0.66</td>\n",
       "      <td>1.03</td>\n",
       "      <td>-0.4</td>\n",
       "      <td>NaN</td>\n",
       "      <td>NaN</td>\n",
       "      <td>NaN</td>\n",
       "      <td>NaN</td>\n",
       "    </tr>\n",
       "    <tr>\n",
       "      <th>3</th>\n",
       "      <td>1995-01-04</td>\n",
       "      <td>3.722500</td>\n",
       "      <td>-1.425625</td>\n",
       "      <td>99073.125</td>\n",
       "      <td>7.375</td>\n",
       "      <td>259.524513</td>\n",
       "      <td>5.938750</td>\n",
       "      <td>0.482500</td>\n",
       "      <td>98652.500</td>\n",
       "      <td>17.125</td>\n",
       "      <td>...</td>\n",
       "      <td>1.03</td>\n",
       "      <td>-0.4</td>\n",
       "      <td>0.93</td>\n",
       "      <td>0.66</td>\n",
       "      <td>1.03</td>\n",
       "      <td>-0.4</td>\n",
       "      <td>0.93</td>\n",
       "      <td>0.66</td>\n",
       "      <td>1.03</td>\n",
       "      <td>-0.4</td>\n",
       "    </tr>\n",
       "    <tr>\n",
       "      <th>4</th>\n",
       "      <td>1995-01-05</td>\n",
       "      <td>7.392500</td>\n",
       "      <td>2.583125</td>\n",
       "      <td>98769.375</td>\n",
       "      <td>16.625</td>\n",
       "      <td>264.535141</td>\n",
       "      <td>3.722500</td>\n",
       "      <td>-1.425625</td>\n",
       "      <td>99073.125</td>\n",
       "      <td>7.375</td>\n",
       "      <td>...</td>\n",
       "      <td>1.03</td>\n",
       "      <td>-0.4</td>\n",
       "      <td>0.93</td>\n",
       "      <td>0.66</td>\n",
       "      <td>1.03</td>\n",
       "      <td>-0.4</td>\n",
       "      <td>0.93</td>\n",
       "      <td>0.66</td>\n",
       "      <td>1.03</td>\n",
       "      <td>-0.4</td>\n",
       "    </tr>\n",
       "    <tr>\n",
       "      <th>5</th>\n",
       "      <td>1995-01-06</td>\n",
       "      <td>5.763750</td>\n",
       "      <td>2.210625</td>\n",
       "      <td>97803.125</td>\n",
       "      <td>36.500</td>\n",
       "      <td>269.011017</td>\n",
       "      <td>7.392500</td>\n",
       "      <td>2.583125</td>\n",
       "      <td>98769.375</td>\n",
       "      <td>16.625</td>\n",
       "      <td>...</td>\n",
       "      <td>1.03</td>\n",
       "      <td>-0.4</td>\n",
       "      <td>0.93</td>\n",
       "      <td>0.66</td>\n",
       "      <td>1.03</td>\n",
       "      <td>-0.4</td>\n",
       "      <td>0.93</td>\n",
       "      <td>0.66</td>\n",
       "      <td>1.03</td>\n",
       "      <td>-0.4</td>\n",
       "    </tr>\n",
       "    <tr>\n",
       "      <th>6</th>\n",
       "      <td>1995-01-07</td>\n",
       "      <td>0.098125</td>\n",
       "      <td>-3.118125</td>\n",
       "      <td>98220.000</td>\n",
       "      <td>8.000</td>\n",
       "      <td>262.210144</td>\n",
       "      <td>5.763750</td>\n",
       "      <td>2.210625</td>\n",
       "      <td>97803.125</td>\n",
       "      <td>36.500</td>\n",
       "      <td>...</td>\n",
       "      <td>1.03</td>\n",
       "      <td>-0.4</td>\n",
       "      <td>0.93</td>\n",
       "      <td>0.66</td>\n",
       "      <td>1.03</td>\n",
       "      <td>-0.4</td>\n",
       "      <td>0.93</td>\n",
       "      <td>0.66</td>\n",
       "      <td>1.03</td>\n",
       "      <td>-0.4</td>\n",
       "    </tr>\n",
       "    <tr>\n",
       "      <th>7</th>\n",
       "      <td>1995-01-08</td>\n",
       "      <td>3.726875</td>\n",
       "      <td>2.000625</td>\n",
       "      <td>98293.750</td>\n",
       "      <td>11.625</td>\n",
       "      <td>264.712128</td>\n",
       "      <td>0.098125</td>\n",
       "      <td>-3.118125</td>\n",
       "      <td>98220.000</td>\n",
       "      <td>8.000</td>\n",
       "      <td>...</td>\n",
       "      <td>1.03</td>\n",
       "      <td>-0.4</td>\n",
       "      <td>0.93</td>\n",
       "      <td>0.66</td>\n",
       "      <td>1.03</td>\n",
       "      <td>-0.4</td>\n",
       "      <td>0.93</td>\n",
       "      <td>0.66</td>\n",
       "      <td>1.03</td>\n",
       "      <td>-0.4</td>\n",
       "    </tr>\n",
       "    <tr>\n",
       "      <th>8</th>\n",
       "      <td>1995-01-09</td>\n",
       "      <td>4.055000</td>\n",
       "      <td>-0.819375</td>\n",
       "      <td>99311.875</td>\n",
       "      <td>8.125</td>\n",
       "      <td>262.844383</td>\n",
       "      <td>3.726875</td>\n",
       "      <td>2.000625</td>\n",
       "      <td>98293.750</td>\n",
       "      <td>11.625</td>\n",
       "      <td>...</td>\n",
       "      <td>1.03</td>\n",
       "      <td>-0.4</td>\n",
       "      <td>0.93</td>\n",
       "      <td>0.66</td>\n",
       "      <td>1.03</td>\n",
       "      <td>-0.4</td>\n",
       "      <td>0.93</td>\n",
       "      <td>0.66</td>\n",
       "      <td>1.03</td>\n",
       "      <td>-0.4</td>\n",
       "    </tr>\n",
       "    <tr>\n",
       "      <th>9</th>\n",
       "      <td>1995-01-10</td>\n",
       "      <td>-2.220625</td>\n",
       "      <td>-1.595000</td>\n",
       "      <td>100214.375</td>\n",
       "      <td>14.500</td>\n",
       "      <td>258.141140</td>\n",
       "      <td>4.055000</td>\n",
       "      <td>-0.819375</td>\n",
       "      <td>99311.875</td>\n",
       "      <td>8.125</td>\n",
       "      <td>...</td>\n",
       "      <td>1.03</td>\n",
       "      <td>-0.4</td>\n",
       "      <td>0.93</td>\n",
       "      <td>0.66</td>\n",
       "      <td>1.03</td>\n",
       "      <td>-0.4</td>\n",
       "      <td>0.93</td>\n",
       "      <td>0.66</td>\n",
       "      <td>1.03</td>\n",
       "      <td>-0.4</td>\n",
       "    </tr>\n",
       "  </tbody>\n",
       "</table>\n",
       "<p>10 rows × 45 columns</p>\n",
       "</div>"
      ],
      "text/plain": [
       "        Date    u-wind    v-wind    pressure  humidity  temperature   u-wind1  \\\n",
       "0 1995-01-01  2.381250 -0.628125   98903.125    30.375   270.178146       NaN   \n",
       "1 1995-01-02  4.033125 -1.283125   98336.875    25.500   267.714500  2.381250   \n",
       "2 1995-01-03  5.938750  0.482500   98652.500    17.125   265.636627  4.033125   \n",
       "3 1995-01-04  3.722500 -1.425625   99073.125     7.375   259.524513  5.938750   \n",
       "4 1995-01-05  7.392500  2.583125   98769.375    16.625   264.535141  3.722500   \n",
       "5 1995-01-06  5.763750  2.210625   97803.125    36.500   269.011017  7.392500   \n",
       "6 1995-01-07  0.098125 -3.118125   98220.000     8.000   262.210144  5.763750   \n",
       "7 1995-01-08  3.726875  2.000625   98293.750    11.625   264.712128  0.098125   \n",
       "8 1995-01-09  4.055000 -0.819375   99311.875     8.125   262.844383  3.726875   \n",
       "9 1995-01-10 -2.220625 -1.595000  100214.375    14.500   258.141140  4.055000   \n",
       "\n",
       "    v-wind1  pressure1  humidity1  ...  EPNP1  SOI1  NAO2  PNA2  EPNP2  SOI2  \\\n",
       "0       NaN        NaN        NaN  ...    NaN   NaN   NaN   NaN    NaN   NaN   \n",
       "1 -0.628125  98903.125     30.375  ...   1.03  -0.4   NaN   NaN    NaN   NaN   \n",
       "2 -1.283125  98336.875     25.500  ...   1.03  -0.4  0.93  0.66   1.03  -0.4   \n",
       "3  0.482500  98652.500     17.125  ...   1.03  -0.4  0.93  0.66   1.03  -0.4   \n",
       "4 -1.425625  99073.125      7.375  ...   1.03  -0.4  0.93  0.66   1.03  -0.4   \n",
       "5  2.583125  98769.375     16.625  ...   1.03  -0.4  0.93  0.66   1.03  -0.4   \n",
       "6  2.210625  97803.125     36.500  ...   1.03  -0.4  0.93  0.66   1.03  -0.4   \n",
       "7 -3.118125  98220.000      8.000  ...   1.03  -0.4  0.93  0.66   1.03  -0.4   \n",
       "8  2.000625  98293.750     11.625  ...   1.03  -0.4  0.93  0.66   1.03  -0.4   \n",
       "9 -0.819375  99311.875      8.125  ...   1.03  -0.4  0.93  0.66   1.03  -0.4   \n",
       "\n",
       "   NAO3  PNA3  EPNP3  SOI3  \n",
       "0   NaN   NaN    NaN   NaN  \n",
       "1   NaN   NaN    NaN   NaN  \n",
       "2   NaN   NaN    NaN   NaN  \n",
       "3  0.93  0.66   1.03  -0.4  \n",
       "4  0.93  0.66   1.03  -0.4  \n",
       "5  0.93  0.66   1.03  -0.4  \n",
       "6  0.93  0.66   1.03  -0.4  \n",
       "7  0.93  0.66   1.03  -0.4  \n",
       "8  0.93  0.66   1.03  -0.4  \n",
       "9  0.93  0.66   1.03  -0.4  \n",
       "\n",
       "[10 rows x 45 columns]"
      ]
     },
     "execution_count": 27,
     "metadata": {},
     "output_type": "execute_result"
    }
   ],
   "source": [
    "df_merge.head(10)"
   ]
  },
  {
   "cell_type": "markdown",
   "metadata": {
    "id": "wKTQbhC5-CEb"
   },
   "source": [
    "#### 1.2. Target variable"
   ]
  },
  {
   "cell_type": "code",
   "execution_count": 28,
   "metadata": {
    "colab": {
     "base_uri": "https://localhost:8080/",
     "height": 204
    },
    "id": "2mWMCJfv-CEb",
    "outputId": "e8c2c941-3a14-4364-e9e2-ea696eda115b"
   },
   "outputs": [
    {
     "data": {
      "text/html": [
       "<div>\n",
       "<style scoped>\n",
       "    .dataframe tbody tr th:only-of-type {\n",
       "        vertical-align: middle;\n",
       "    }\n",
       "\n",
       "    .dataframe tbody tr th {\n",
       "        vertical-align: top;\n",
       "    }\n",
       "\n",
       "    .dataframe thead th {\n",
       "        text-align: right;\n",
       "    }\n",
       "</style>\n",
       "<table border=\"1\" class=\"dataframe\">\n",
       "  <thead>\n",
       "    <tr style=\"text-align: right;\">\n",
       "      <th></th>\n",
       "      <th>Date</th>\n",
       "      <th>Ice</th>\n",
       "    </tr>\n",
       "  </thead>\n",
       "  <tbody>\n",
       "    <tr>\n",
       "      <th>0</th>\n",
       "      <td>1995-01-01</td>\n",
       "      <td>0.0</td>\n",
       "    </tr>\n",
       "    <tr>\n",
       "      <th>1</th>\n",
       "      <td>1995-01-02</td>\n",
       "      <td>0.0</td>\n",
       "    </tr>\n",
       "    <tr>\n",
       "      <th>2</th>\n",
       "      <td>1995-01-03</td>\n",
       "      <td>0.0</td>\n",
       "    </tr>\n",
       "    <tr>\n",
       "      <th>3</th>\n",
       "      <td>1995-01-04</td>\n",
       "      <td>0.0</td>\n",
       "    </tr>\n",
       "    <tr>\n",
       "      <th>4</th>\n",
       "      <td>1995-01-05</td>\n",
       "      <td>0.0</td>\n",
       "    </tr>\n",
       "  </tbody>\n",
       "</table>\n",
       "</div>"
      ],
      "text/plain": [
       "        Date  Ice\n",
       "0 1995-01-01  0.0\n",
       "1 1995-01-02  0.0\n",
       "2 1995-01-03  0.0\n",
       "3 1995-01-04  0.0\n",
       "4 1995-01-05  0.0"
      ]
     },
     "execution_count": 28,
     "metadata": {},
     "output_type": "execute_result"
    }
   ],
   "source": [
    "#ice_data = ice_data.drop(list(range(0,look_back + predict_interval - 2)))\n",
    "ice_data = ice_data.rename(columns={'date': 'Date'})\n",
    "ice_data.head()"
   ]
  },
  {
   "cell_type": "code",
   "execution_count": 29,
   "metadata": {
    "colab": {
     "base_uri": "https://localhost:8080/",
     "height": 204
    },
    "id": "X6H49jb0-CEc",
    "outputId": "58552359-9dcf-4804-eddb-e695186e5d22",
    "scrolled": true
   },
   "outputs": [
    {
     "data": {
      "text/html": [
       "<div>\n",
       "<style scoped>\n",
       "    .dataframe tbody tr th:only-of-type {\n",
       "        vertical-align: middle;\n",
       "    }\n",
       "\n",
       "    .dataframe tbody tr th {\n",
       "        vertical-align: top;\n",
       "    }\n",
       "\n",
       "    .dataframe thead th {\n",
       "        text-align: right;\n",
       "    }\n",
       "</style>\n",
       "<table border=\"1\" class=\"dataframe\">\n",
       "  <thead>\n",
       "    <tr style=\"text-align: right;\">\n",
       "      <th></th>\n",
       "      <th>Date</th>\n",
       "      <th>Ice</th>\n",
       "    </tr>\n",
       "  </thead>\n",
       "  <tbody>\n",
       "    <tr>\n",
       "      <th>9673</th>\n",
       "      <td>2021-06-26</td>\n",
       "      <td>0.0</td>\n",
       "    </tr>\n",
       "    <tr>\n",
       "      <th>9674</th>\n",
       "      <td>2021-06-27</td>\n",
       "      <td>0.0</td>\n",
       "    </tr>\n",
       "    <tr>\n",
       "      <th>9675</th>\n",
       "      <td>2021-06-28</td>\n",
       "      <td>0.0</td>\n",
       "    </tr>\n",
       "    <tr>\n",
       "      <th>9676</th>\n",
       "      <td>2021-06-29</td>\n",
       "      <td>0.0</td>\n",
       "    </tr>\n",
       "    <tr>\n",
       "      <th>9677</th>\n",
       "      <td>2021-06-30</td>\n",
       "      <td>0.0</td>\n",
       "    </tr>\n",
       "  </tbody>\n",
       "</table>\n",
       "</div>"
      ],
      "text/plain": [
       "           Date  Ice\n",
       "9673 2021-06-26  0.0\n",
       "9674 2021-06-27  0.0\n",
       "9675 2021-06-28  0.0\n",
       "9676 2021-06-29  0.0\n",
       "9677 2021-06-30  0.0"
      ]
     },
     "execution_count": 29,
     "metadata": {},
     "output_type": "execute_result"
    }
   ],
   "source": [
    "ice_data.tail()"
   ]
  },
  {
   "cell_type": "code",
   "execution_count": 30,
   "metadata": {},
   "outputs": [],
   "source": [
    "ice_data = ice_data.set_index('Date')"
   ]
  },
  {
   "cell_type": "code",
   "execution_count": 31,
   "metadata": {},
   "outputs": [],
   "source": [
    "ice_data1 = ice_data"
   ]
  },
  {
   "cell_type": "code",
   "execution_count": 32,
   "metadata": {
    "colab": {
     "base_uri": "https://localhost:8080/",
     "height": 359
    },
    "id": "svIdz9q-F6z4",
    "outputId": "2b7f1c6e-a753-49c2-e319-2d728e817d37"
   },
   "outputs": [
    {
     "data": {
      "text/html": [
       "<div>\n",
       "<style scoped>\n",
       "    .dataframe tbody tr th:only-of-type {\n",
       "        vertical-align: middle;\n",
       "    }\n",
       "\n",
       "    .dataframe tbody tr th {\n",
       "        vertical-align: top;\n",
       "    }\n",
       "\n",
       "    .dataframe thead th {\n",
       "        text-align: right;\n",
       "    }\n",
       "</style>\n",
       "<table border=\"1\" class=\"dataframe\">\n",
       "  <thead>\n",
       "    <tr style=\"text-align: right;\">\n",
       "      <th></th>\n",
       "      <th>Date</th>\n",
       "      <th>Ice</th>\n",
       "      <th>Ice1</th>\n",
       "      <th>Ice2</th>\n",
       "      <th>Ice3</th>\n",
       "    </tr>\n",
       "  </thead>\n",
       "  <tbody>\n",
       "    <tr>\n",
       "      <th>0</th>\n",
       "      <td>1995-01-01</td>\n",
       "      <td>0.000000</td>\n",
       "      <td>NaN</td>\n",
       "      <td>NaN</td>\n",
       "      <td>NaN</td>\n",
       "    </tr>\n",
       "    <tr>\n",
       "      <th>1</th>\n",
       "      <td>1995-01-02</td>\n",
       "      <td>0.000000</td>\n",
       "      <td>0.000000</td>\n",
       "      <td>NaN</td>\n",
       "      <td>NaN</td>\n",
       "    </tr>\n",
       "    <tr>\n",
       "      <th>2</th>\n",
       "      <td>1995-01-03</td>\n",
       "      <td>0.000000</td>\n",
       "      <td>0.000000</td>\n",
       "      <td>0.0</td>\n",
       "      <td>NaN</td>\n",
       "    </tr>\n",
       "    <tr>\n",
       "      <th>3</th>\n",
       "      <td>1995-01-04</td>\n",
       "      <td>0.000000</td>\n",
       "      <td>0.000000</td>\n",
       "      <td>0.0</td>\n",
       "      <td>0.0</td>\n",
       "    </tr>\n",
       "    <tr>\n",
       "      <th>4</th>\n",
       "      <td>1995-01-05</td>\n",
       "      <td>0.000000</td>\n",
       "      <td>0.000000</td>\n",
       "      <td>0.0</td>\n",
       "      <td>0.0</td>\n",
       "    </tr>\n",
       "    <tr>\n",
       "      <th>5</th>\n",
       "      <td>1995-01-06</td>\n",
       "      <td>0.000000</td>\n",
       "      <td>0.000000</td>\n",
       "      <td>0.0</td>\n",
       "      <td>0.0</td>\n",
       "    </tr>\n",
       "    <tr>\n",
       "      <th>6</th>\n",
       "      <td>1995-01-07</td>\n",
       "      <td>0.000000</td>\n",
       "      <td>0.000000</td>\n",
       "      <td>0.0</td>\n",
       "      <td>0.0</td>\n",
       "    </tr>\n",
       "    <tr>\n",
       "      <th>7</th>\n",
       "      <td>1995-01-08</td>\n",
       "      <td>0.000000</td>\n",
       "      <td>0.000000</td>\n",
       "      <td>0.0</td>\n",
       "      <td>0.0</td>\n",
       "    </tr>\n",
       "    <tr>\n",
       "      <th>8</th>\n",
       "      <td>1995-01-09</td>\n",
       "      <td>62.446242</td>\n",
       "      <td>0.000000</td>\n",
       "      <td>0.0</td>\n",
       "      <td>0.0</td>\n",
       "    </tr>\n",
       "    <tr>\n",
       "      <th>9</th>\n",
       "      <td>1995-01-10</td>\n",
       "      <td>77.650264</td>\n",
       "      <td>62.446242</td>\n",
       "      <td>0.0</td>\n",
       "      <td>0.0</td>\n",
       "    </tr>\n",
       "  </tbody>\n",
       "</table>\n",
       "</div>"
      ],
      "text/plain": [
       "        Date        Ice       Ice1  Ice2  Ice3\n",
       "0 1995-01-01   0.000000        NaN   NaN   NaN\n",
       "1 1995-01-02   0.000000   0.000000   NaN   NaN\n",
       "2 1995-01-03   0.000000   0.000000   0.0   NaN\n",
       "3 1995-01-04   0.000000   0.000000   0.0   0.0\n",
       "4 1995-01-05   0.000000   0.000000   0.0   0.0\n",
       "5 1995-01-06   0.000000   0.000000   0.0   0.0\n",
       "6 1995-01-07   0.000000   0.000000   0.0   0.0\n",
       "7 1995-01-08   0.000000   0.000000   0.0   0.0\n",
       "8 1995-01-09  62.446242   0.000000   0.0   0.0\n",
       "9 1995-01-10  77.650264  62.446242   0.0   0.0"
      ]
     },
     "execution_count": 32,
     "metadata": {},
     "output_type": "execute_result"
    }
   ],
   "source": [
    "lags = range(1, look_back)\n",
    "\n",
    "ice_data = ice_data.assign(**{\n",
    "    f'{col}{lag}': ice_data[col].shift(lag)\n",
    "    for lag in lags\n",
    "    for col in ice_data\n",
    "})\n",
    "\n",
    "ice_data = ice_data.reset_index()\n",
    "ice_data.head(10)"
   ]
  },
  {
   "cell_type": "markdown",
   "metadata": {
    "id": "NsrfNn4l-CEc"
   },
   "source": [
    "#### 1.3. Normalization"
   ]
  },
  {
   "cell_type": "code",
   "execution_count": 33,
   "metadata": {
    "colab": {
     "base_uri": "https://localhost:8080/",
     "height": 309
    },
    "id": "S6g7hsAD-CEc",
    "outputId": "74e11875-e1ce-4c42-f380-06ea4e4cb4d4"
   },
   "outputs": [
    {
     "data": {
      "text/html": [
       "<div>\n",
       "<style scoped>\n",
       "    .dataframe tbody tr th:only-of-type {\n",
       "        vertical-align: middle;\n",
       "    }\n",
       "\n",
       "    .dataframe tbody tr th {\n",
       "        vertical-align: top;\n",
       "    }\n",
       "\n",
       "    .dataframe thead th {\n",
       "        text-align: right;\n",
       "    }\n",
       "</style>\n",
       "<table border=\"1\" class=\"dataframe\">\n",
       "  <thead>\n",
       "    <tr style=\"text-align: right;\">\n",
       "      <th></th>\n",
       "      <th>Date</th>\n",
       "      <th>u-wind</th>\n",
       "      <th>v-wind</th>\n",
       "      <th>pressure</th>\n",
       "      <th>humidity</th>\n",
       "      <th>temperature</th>\n",
       "      <th>u-wind1</th>\n",
       "      <th>v-wind1</th>\n",
       "      <th>pressure1</th>\n",
       "      <th>humidity1</th>\n",
       "      <th>...</th>\n",
       "      <th>EPNP1</th>\n",
       "      <th>SOI1</th>\n",
       "      <th>NAO2</th>\n",
       "      <th>PNA2</th>\n",
       "      <th>EPNP2</th>\n",
       "      <th>SOI2</th>\n",
       "      <th>NAO3</th>\n",
       "      <th>PNA3</th>\n",
       "      <th>EPNP3</th>\n",
       "      <th>SOI3</th>\n",
       "    </tr>\n",
       "  </thead>\n",
       "  <tbody>\n",
       "    <tr>\n",
       "      <th>0</th>\n",
       "      <td>1995-01-01</td>\n",
       "      <td>0.615115</td>\n",
       "      <td>0.473178</td>\n",
       "      <td>0.516700</td>\n",
       "      <td>0.384348</td>\n",
       "      <td>0.417669</td>\n",
       "      <td>NaN</td>\n",
       "      <td>NaN</td>\n",
       "      <td>NaN</td>\n",
       "      <td>NaN</td>\n",
       "      <td>...</td>\n",
       "      <td>NaN</td>\n",
       "      <td>NaN</td>\n",
       "      <td>NaN</td>\n",
       "      <td>NaN</td>\n",
       "      <td>NaN</td>\n",
       "      <td>NaN</td>\n",
       "      <td>NaN</td>\n",
       "      <td>NaN</td>\n",
       "      <td>NaN</td>\n",
       "      <td>NaN</td>\n",
       "    </tr>\n",
       "    <tr>\n",
       "      <th>1</th>\n",
       "      <td>1995-01-02</td>\n",
       "      <td>0.711702</td>\n",
       "      <td>0.427545</td>\n",
       "      <td>0.410524</td>\n",
       "      <td>0.316522</td>\n",
       "      <td>0.372446</td>\n",
       "      <td>0.615115</td>\n",
       "      <td>0.473178</td>\n",
       "      <td>0.516700</td>\n",
       "      <td>0.384348</td>\n",
       "      <td>...</td>\n",
       "      <td>0.608403</td>\n",
       "      <td>0.45</td>\n",
       "      <td>NaN</td>\n",
       "      <td>NaN</td>\n",
       "      <td>NaN</td>\n",
       "      <td>NaN</td>\n",
       "      <td>NaN</td>\n",
       "      <td>NaN</td>\n",
       "      <td>NaN</td>\n",
       "      <td>NaN</td>\n",
       "    </tr>\n",
       "    <tr>\n",
       "      <th>2</th>\n",
       "      <td>1995-01-03</td>\n",
       "      <td>0.823125</td>\n",
       "      <td>0.550553</td>\n",
       "      <td>0.469706</td>\n",
       "      <td>0.200000</td>\n",
       "      <td>0.334305</td>\n",
       "      <td>0.711702</td>\n",
       "      <td>0.427545</td>\n",
       "      <td>0.410524</td>\n",
       "      <td>0.316522</td>\n",
       "      <td>...</td>\n",
       "      <td>0.608403</td>\n",
       "      <td>0.45</td>\n",
       "      <td>0.718531</td>\n",
       "      <td>0.650442</td>\n",
       "      <td>0.608403</td>\n",
       "      <td>0.45</td>\n",
       "      <td>NaN</td>\n",
       "      <td>NaN</td>\n",
       "      <td>NaN</td>\n",
       "      <td>NaN</td>\n",
       "    </tr>\n",
       "    <tr>\n",
       "      <th>3</th>\n",
       "      <td>1995-01-04</td>\n",
       "      <td>0.693539</td>\n",
       "      <td>0.417617</td>\n",
       "      <td>0.548576</td>\n",
       "      <td>0.064348</td>\n",
       "      <td>0.222110</td>\n",
       "      <td>0.823125</td>\n",
       "      <td>0.550553</td>\n",
       "      <td>0.469706</td>\n",
       "      <td>0.200000</td>\n",
       "      <td>...</td>\n",
       "      <td>0.608403</td>\n",
       "      <td>0.45</td>\n",
       "      <td>0.718531</td>\n",
       "      <td>0.650442</td>\n",
       "      <td>0.608403</td>\n",
       "      <td>0.45</td>\n",
       "      <td>0.718531</td>\n",
       "      <td>0.650442</td>\n",
       "      <td>0.608403</td>\n",
       "      <td>0.45</td>\n",
       "    </tr>\n",
       "    <tr>\n",
       "      <th>4</th>\n",
       "      <td>1995-01-05</td>\n",
       "      <td>0.908127</td>\n",
       "      <td>0.696900</td>\n",
       "      <td>0.491621</td>\n",
       "      <td>0.193043</td>\n",
       "      <td>0.314086</td>\n",
       "      <td>0.693539</td>\n",
       "      <td>0.417617</td>\n",
       "      <td>0.548576</td>\n",
       "      <td>0.064348</td>\n",
       "      <td>...</td>\n",
       "      <td>0.608403</td>\n",
       "      <td>0.45</td>\n",
       "      <td>0.718531</td>\n",
       "      <td>0.650442</td>\n",
       "      <td>0.608403</td>\n",
       "      <td>0.45</td>\n",
       "      <td>0.718531</td>\n",
       "      <td>0.650442</td>\n",
       "      <td>0.608403</td>\n",
       "      <td>0.45</td>\n",
       "    </tr>\n",
       "  </tbody>\n",
       "</table>\n",
       "<p>5 rows × 45 columns</p>\n",
       "</div>"
      ],
      "text/plain": [
       "        Date    u-wind    v-wind  pressure  humidity  temperature   u-wind1  \\\n",
       "0 1995-01-01  0.615115  0.473178  0.516700  0.384348     0.417669       NaN   \n",
       "1 1995-01-02  0.711702  0.427545  0.410524  0.316522     0.372446  0.615115   \n",
       "2 1995-01-03  0.823125  0.550553  0.469706  0.200000     0.334305  0.711702   \n",
       "3 1995-01-04  0.693539  0.417617  0.548576  0.064348     0.222110  0.823125   \n",
       "4 1995-01-05  0.908127  0.696900  0.491621  0.193043     0.314086  0.693539   \n",
       "\n",
       "    v-wind1  pressure1  humidity1  ...     EPNP1  SOI1      NAO2      PNA2  \\\n",
       "0       NaN        NaN        NaN  ...       NaN   NaN       NaN       NaN   \n",
       "1  0.473178   0.516700   0.384348  ...  0.608403  0.45       NaN       NaN   \n",
       "2  0.427545   0.410524   0.316522  ...  0.608403  0.45  0.718531  0.650442   \n",
       "3  0.550553   0.469706   0.200000  ...  0.608403  0.45  0.718531  0.650442   \n",
       "4  0.417617   0.548576   0.064348  ...  0.608403  0.45  0.718531  0.650442   \n",
       "\n",
       "      EPNP2  SOI2      NAO3      PNA3     EPNP3  SOI3  \n",
       "0       NaN   NaN       NaN       NaN       NaN   NaN  \n",
       "1       NaN   NaN       NaN       NaN       NaN   NaN  \n",
       "2  0.608403  0.45       NaN       NaN       NaN   NaN  \n",
       "3  0.608403  0.45  0.718531  0.650442  0.608403  0.45  \n",
       "4  0.608403  0.45  0.718531  0.650442  0.608403  0.45  \n",
       "\n",
       "[5 rows x 45 columns]"
      ]
     },
     "execution_count": 33,
     "metadata": {},
     "output_type": "execute_result"
    }
   ],
   "source": [
    "# normalize the input data\n",
    "\n",
    "scaler_train = MinMaxScaler(feature_range=(0,1))\n",
    "input_columns = df_merge.iloc[:,1:].columns\n",
    "standard_array = scaler_train.fit_transform(df_merge.iloc[:,1:].values) \n",
    "df_norm = pd.DataFrame(standard_array)\n",
    "df_norm.columns = input_columns\n",
    "\n",
    "# reset the index for the date dataframe\n",
    "df_norm = pd.concat([df_merge.iloc[:,0].to_frame().reset_index(drop=True), df_norm], axis = 1)\n",
    "df_norm.head()"
   ]
  },
  {
   "cell_type": "code",
   "execution_count": 34,
   "metadata": {
    "colab": {
     "base_uri": "https://localhost:8080/",
     "height": 580
    },
    "id": "HRLuHcHn-CEc",
    "outputId": "74be97ff-3cf8-47f0-acf5-3f1fb460e42e"
   },
   "outputs": [
    {
     "data": {
      "text/html": [
       "<div>\n",
       "<style scoped>\n",
       "    .dataframe tbody tr th:only-of-type {\n",
       "        vertical-align: middle;\n",
       "    }\n",
       "\n",
       "    .dataframe tbody tr th {\n",
       "        vertical-align: top;\n",
       "    }\n",
       "\n",
       "    .dataframe thead th {\n",
       "        text-align: right;\n",
       "    }\n",
       "</style>\n",
       "<table border=\"1\" class=\"dataframe\">\n",
       "  <thead>\n",
       "    <tr style=\"text-align: right;\">\n",
       "      <th></th>\n",
       "      <th>Ice</th>\n",
       "      <th>Ice1</th>\n",
       "      <th>Ice2</th>\n",
       "      <th>Ice3</th>\n",
       "      <th>u-wind</th>\n",
       "      <th>v-wind</th>\n",
       "      <th>pressure</th>\n",
       "      <th>humidity</th>\n",
       "      <th>temperature</th>\n",
       "      <th>u-wind1</th>\n",
       "      <th>...</th>\n",
       "      <th>EPNP1</th>\n",
       "      <th>SOI1</th>\n",
       "      <th>NAO2</th>\n",
       "      <th>PNA2</th>\n",
       "      <th>EPNP2</th>\n",
       "      <th>SOI2</th>\n",
       "      <th>NAO3</th>\n",
       "      <th>PNA3</th>\n",
       "      <th>EPNP3</th>\n",
       "      <th>SOI3</th>\n",
       "    </tr>\n",
       "    <tr>\n",
       "      <th>Date</th>\n",
       "      <th></th>\n",
       "      <th></th>\n",
       "      <th></th>\n",
       "      <th></th>\n",
       "      <th></th>\n",
       "      <th></th>\n",
       "      <th></th>\n",
       "      <th></th>\n",
       "      <th></th>\n",
       "      <th></th>\n",
       "      <th></th>\n",
       "      <th></th>\n",
       "      <th></th>\n",
       "      <th></th>\n",
       "      <th></th>\n",
       "      <th></th>\n",
       "      <th></th>\n",
       "      <th></th>\n",
       "      <th></th>\n",
       "      <th></th>\n",
       "      <th></th>\n",
       "    </tr>\n",
       "  </thead>\n",
       "  <tbody>\n",
       "    <tr>\n",
       "      <th>1995-01-01</th>\n",
       "      <td>0.000000</td>\n",
       "      <td>NaN</td>\n",
       "      <td>NaN</td>\n",
       "      <td>NaN</td>\n",
       "      <td>0.615115</td>\n",
       "      <td>0.473178</td>\n",
       "      <td>0.516700</td>\n",
       "      <td>0.384348</td>\n",
       "      <td>0.417669</td>\n",
       "      <td>NaN</td>\n",
       "      <td>...</td>\n",
       "      <td>NaN</td>\n",
       "      <td>NaN</td>\n",
       "      <td>NaN</td>\n",
       "      <td>NaN</td>\n",
       "      <td>NaN</td>\n",
       "      <td>NaN</td>\n",
       "      <td>NaN</td>\n",
       "      <td>NaN</td>\n",
       "      <td>NaN</td>\n",
       "      <td>NaN</td>\n",
       "    </tr>\n",
       "    <tr>\n",
       "      <th>1995-01-02</th>\n",
       "      <td>0.000000</td>\n",
       "      <td>0.000000</td>\n",
       "      <td>NaN</td>\n",
       "      <td>NaN</td>\n",
       "      <td>0.711702</td>\n",
       "      <td>0.427545</td>\n",
       "      <td>0.410524</td>\n",
       "      <td>0.316522</td>\n",
       "      <td>0.372446</td>\n",
       "      <td>0.615115</td>\n",
       "      <td>...</td>\n",
       "      <td>0.608403</td>\n",
       "      <td>0.45</td>\n",
       "      <td>NaN</td>\n",
       "      <td>NaN</td>\n",
       "      <td>NaN</td>\n",
       "      <td>NaN</td>\n",
       "      <td>NaN</td>\n",
       "      <td>NaN</td>\n",
       "      <td>NaN</td>\n",
       "      <td>NaN</td>\n",
       "    </tr>\n",
       "    <tr>\n",
       "      <th>1995-01-03</th>\n",
       "      <td>0.000000</td>\n",
       "      <td>0.000000</td>\n",
       "      <td>0.0</td>\n",
       "      <td>NaN</td>\n",
       "      <td>0.823125</td>\n",
       "      <td>0.550553</td>\n",
       "      <td>0.469706</td>\n",
       "      <td>0.200000</td>\n",
       "      <td>0.334305</td>\n",
       "      <td>0.711702</td>\n",
       "      <td>...</td>\n",
       "      <td>0.608403</td>\n",
       "      <td>0.45</td>\n",
       "      <td>0.718531</td>\n",
       "      <td>0.650442</td>\n",
       "      <td>0.608403</td>\n",
       "      <td>0.45</td>\n",
       "      <td>NaN</td>\n",
       "      <td>NaN</td>\n",
       "      <td>NaN</td>\n",
       "      <td>NaN</td>\n",
       "    </tr>\n",
       "    <tr>\n",
       "      <th>1995-01-04</th>\n",
       "      <td>0.000000</td>\n",
       "      <td>0.000000</td>\n",
       "      <td>0.0</td>\n",
       "      <td>0.0</td>\n",
       "      <td>0.693539</td>\n",
       "      <td>0.417617</td>\n",
       "      <td>0.548576</td>\n",
       "      <td>0.064348</td>\n",
       "      <td>0.222110</td>\n",
       "      <td>0.823125</td>\n",
       "      <td>...</td>\n",
       "      <td>0.608403</td>\n",
       "      <td>0.45</td>\n",
       "      <td>0.718531</td>\n",
       "      <td>0.650442</td>\n",
       "      <td>0.608403</td>\n",
       "      <td>0.45</td>\n",
       "      <td>0.718531</td>\n",
       "      <td>0.650442</td>\n",
       "      <td>0.608403</td>\n",
       "      <td>0.45</td>\n",
       "    </tr>\n",
       "    <tr>\n",
       "      <th>1995-01-05</th>\n",
       "      <td>0.000000</td>\n",
       "      <td>0.000000</td>\n",
       "      <td>0.0</td>\n",
       "      <td>0.0</td>\n",
       "      <td>0.908127</td>\n",
       "      <td>0.696900</td>\n",
       "      <td>0.491621</td>\n",
       "      <td>0.193043</td>\n",
       "      <td>0.314086</td>\n",
       "      <td>0.693539</td>\n",
       "      <td>...</td>\n",
       "      <td>0.608403</td>\n",
       "      <td>0.45</td>\n",
       "      <td>0.718531</td>\n",
       "      <td>0.650442</td>\n",
       "      <td>0.608403</td>\n",
       "      <td>0.45</td>\n",
       "      <td>0.718531</td>\n",
       "      <td>0.650442</td>\n",
       "      <td>0.608403</td>\n",
       "      <td>0.45</td>\n",
       "    </tr>\n",
       "    <tr>\n",
       "      <th>1995-01-06</th>\n",
       "      <td>0.000000</td>\n",
       "      <td>0.000000</td>\n",
       "      <td>0.0</td>\n",
       "      <td>0.0</td>\n",
       "      <td>0.812893</td>\n",
       "      <td>0.670948</td>\n",
       "      <td>0.310442</td>\n",
       "      <td>0.469565</td>\n",
       "      <td>0.396245</td>\n",
       "      <td>0.908127</td>\n",
       "      <td>...</td>\n",
       "      <td>0.608403</td>\n",
       "      <td>0.45</td>\n",
       "      <td>0.718531</td>\n",
       "      <td>0.650442</td>\n",
       "      <td>0.608403</td>\n",
       "      <td>0.45</td>\n",
       "      <td>0.718531</td>\n",
       "      <td>0.650442</td>\n",
       "      <td>0.608403</td>\n",
       "      <td>0.45</td>\n",
       "    </tr>\n",
       "    <tr>\n",
       "      <th>1995-01-07</th>\n",
       "      <td>0.000000</td>\n",
       "      <td>0.000000</td>\n",
       "      <td>0.0</td>\n",
       "      <td>0.0</td>\n",
       "      <td>0.481618</td>\n",
       "      <td>0.299704</td>\n",
       "      <td>0.388609</td>\n",
       "      <td>0.073043</td>\n",
       "      <td>0.271408</td>\n",
       "      <td>0.812893</td>\n",
       "      <td>...</td>\n",
       "      <td>0.608403</td>\n",
       "      <td>0.45</td>\n",
       "      <td>0.718531</td>\n",
       "      <td>0.650442</td>\n",
       "      <td>0.608403</td>\n",
       "      <td>0.45</td>\n",
       "      <td>0.718531</td>\n",
       "      <td>0.650442</td>\n",
       "      <td>0.608403</td>\n",
       "      <td>0.45</td>\n",
       "    </tr>\n",
       "    <tr>\n",
       "      <th>1995-01-08</th>\n",
       "      <td>0.000000</td>\n",
       "      <td>0.000000</td>\n",
       "      <td>0.0</td>\n",
       "      <td>0.0</td>\n",
       "      <td>0.693795</td>\n",
       "      <td>0.656318</td>\n",
       "      <td>0.402438</td>\n",
       "      <td>0.123478</td>\n",
       "      <td>0.317334</td>\n",
       "      <td>0.481618</td>\n",
       "      <td>...</td>\n",
       "      <td>0.608403</td>\n",
       "      <td>0.45</td>\n",
       "      <td>0.718531</td>\n",
       "      <td>0.650442</td>\n",
       "      <td>0.608403</td>\n",
       "      <td>0.45</td>\n",
       "      <td>0.718531</td>\n",
       "      <td>0.650442</td>\n",
       "      <td>0.608403</td>\n",
       "      <td>0.45</td>\n",
       "    </tr>\n",
       "    <tr>\n",
       "      <th>1995-01-09</th>\n",
       "      <td>62.446242</td>\n",
       "      <td>0.000000</td>\n",
       "      <td>0.0</td>\n",
       "      <td>0.0</td>\n",
       "      <td>0.712981</td>\n",
       "      <td>0.459854</td>\n",
       "      <td>0.593343</td>\n",
       "      <td>0.074783</td>\n",
       "      <td>0.283050</td>\n",
       "      <td>0.693795</td>\n",
       "      <td>...</td>\n",
       "      <td>0.608403</td>\n",
       "      <td>0.45</td>\n",
       "      <td>0.718531</td>\n",
       "      <td>0.650442</td>\n",
       "      <td>0.608403</td>\n",
       "      <td>0.45</td>\n",
       "      <td>0.718531</td>\n",
       "      <td>0.650442</td>\n",
       "      <td>0.608403</td>\n",
       "      <td>0.45</td>\n",
       "    </tr>\n",
       "    <tr>\n",
       "      <th>1995-01-10</th>\n",
       "      <td>77.650264</td>\n",
       "      <td>62.446242</td>\n",
       "      <td>0.0</td>\n",
       "      <td>0.0</td>\n",
       "      <td>0.346039</td>\n",
       "      <td>0.405817</td>\n",
       "      <td>0.762569</td>\n",
       "      <td>0.163478</td>\n",
       "      <td>0.196717</td>\n",
       "      <td>0.712981</td>\n",
       "      <td>...</td>\n",
       "      <td>0.608403</td>\n",
       "      <td>0.45</td>\n",
       "      <td>0.718531</td>\n",
       "      <td>0.650442</td>\n",
       "      <td>0.608403</td>\n",
       "      <td>0.45</td>\n",
       "      <td>0.718531</td>\n",
       "      <td>0.650442</td>\n",
       "      <td>0.608403</td>\n",
       "      <td>0.45</td>\n",
       "    </tr>\n",
       "  </tbody>\n",
       "</table>\n",
       "<p>10 rows × 48 columns</p>\n",
       "</div>"
      ],
      "text/plain": [
       "                  Ice       Ice1  Ice2  Ice3    u-wind    v-wind  pressure  \\\n",
       "Date                                                                         \n",
       "1995-01-01   0.000000        NaN   NaN   NaN  0.615115  0.473178  0.516700   \n",
       "1995-01-02   0.000000   0.000000   NaN   NaN  0.711702  0.427545  0.410524   \n",
       "1995-01-03   0.000000   0.000000   0.0   NaN  0.823125  0.550553  0.469706   \n",
       "1995-01-04   0.000000   0.000000   0.0   0.0  0.693539  0.417617  0.548576   \n",
       "1995-01-05   0.000000   0.000000   0.0   0.0  0.908127  0.696900  0.491621   \n",
       "1995-01-06   0.000000   0.000000   0.0   0.0  0.812893  0.670948  0.310442   \n",
       "1995-01-07   0.000000   0.000000   0.0   0.0  0.481618  0.299704  0.388609   \n",
       "1995-01-08   0.000000   0.000000   0.0   0.0  0.693795  0.656318  0.402438   \n",
       "1995-01-09  62.446242   0.000000   0.0   0.0  0.712981  0.459854  0.593343   \n",
       "1995-01-10  77.650264  62.446242   0.0   0.0  0.346039  0.405817  0.762569   \n",
       "\n",
       "            humidity  temperature   u-wind1  ...     EPNP1  SOI1      NAO2  \\\n",
       "Date                                         ...                             \n",
       "1995-01-01  0.384348     0.417669       NaN  ...       NaN   NaN       NaN   \n",
       "1995-01-02  0.316522     0.372446  0.615115  ...  0.608403  0.45       NaN   \n",
       "1995-01-03  0.200000     0.334305  0.711702  ...  0.608403  0.45  0.718531   \n",
       "1995-01-04  0.064348     0.222110  0.823125  ...  0.608403  0.45  0.718531   \n",
       "1995-01-05  0.193043     0.314086  0.693539  ...  0.608403  0.45  0.718531   \n",
       "1995-01-06  0.469565     0.396245  0.908127  ...  0.608403  0.45  0.718531   \n",
       "1995-01-07  0.073043     0.271408  0.812893  ...  0.608403  0.45  0.718531   \n",
       "1995-01-08  0.123478     0.317334  0.481618  ...  0.608403  0.45  0.718531   \n",
       "1995-01-09  0.074783     0.283050  0.693795  ...  0.608403  0.45  0.718531   \n",
       "1995-01-10  0.163478     0.196717  0.712981  ...  0.608403  0.45  0.718531   \n",
       "\n",
       "                PNA2     EPNP2  SOI2      NAO3      PNA3     EPNP3  SOI3  \n",
       "Date                                                                      \n",
       "1995-01-01       NaN       NaN   NaN       NaN       NaN       NaN   NaN  \n",
       "1995-01-02       NaN       NaN   NaN       NaN       NaN       NaN   NaN  \n",
       "1995-01-03  0.650442  0.608403  0.45       NaN       NaN       NaN   NaN  \n",
       "1995-01-04  0.650442  0.608403  0.45  0.718531  0.650442  0.608403  0.45  \n",
       "1995-01-05  0.650442  0.608403  0.45  0.718531  0.650442  0.608403  0.45  \n",
       "1995-01-06  0.650442  0.608403  0.45  0.718531  0.650442  0.608403  0.45  \n",
       "1995-01-07  0.650442  0.608403  0.45  0.718531  0.650442  0.608403  0.45  \n",
       "1995-01-08  0.650442  0.608403  0.45  0.718531  0.650442  0.608403  0.45  \n",
       "1995-01-09  0.650442  0.608403  0.45  0.718531  0.650442  0.608403  0.45  \n",
       "1995-01-10  0.650442  0.608403  0.45  0.718531  0.650442  0.608403  0.45  \n",
       "\n",
       "[10 rows x 48 columns]"
      ]
     },
     "execution_count": 34,
     "metadata": {},
     "output_type": "execute_result"
    }
   ],
   "source": [
    "df_data = ice_data.merge(df_norm, on = 'Date', how = 'inner')\n",
    "df_data = df_data.set_index('Date')\n",
    "df_data.head(10)"
   ]
  },
  {
   "cell_type": "code",
   "execution_count": 35,
   "metadata": {
    "colab": {
     "base_uri": "https://localhost:8080/",
     "height": 580
    },
    "id": "g4RpqsM_HcLR",
    "outputId": "3f0602ac-c840-4a07-e544-0194b3843240"
   },
   "outputs": [
    {
     "data": {
      "text/html": [
       "<div>\n",
       "<style scoped>\n",
       "    .dataframe tbody tr th:only-of-type {\n",
       "        vertical-align: middle;\n",
       "    }\n",
       "\n",
       "    .dataframe tbody tr th {\n",
       "        vertical-align: top;\n",
       "    }\n",
       "\n",
       "    .dataframe thead th {\n",
       "        text-align: right;\n",
       "    }\n",
       "</style>\n",
       "<table border=\"1\" class=\"dataframe\">\n",
       "  <thead>\n",
       "    <tr style=\"text-align: right;\">\n",
       "      <th></th>\n",
       "      <th>Ice</th>\n",
       "      <th>Ice1</th>\n",
       "      <th>Ice2</th>\n",
       "      <th>Ice3</th>\n",
       "      <th>u-wind</th>\n",
       "      <th>v-wind</th>\n",
       "      <th>pressure</th>\n",
       "      <th>humidity</th>\n",
       "      <th>temperature</th>\n",
       "      <th>u-wind1</th>\n",
       "      <th>...</th>\n",
       "      <th>EPNP1</th>\n",
       "      <th>SOI1</th>\n",
       "      <th>NAO2</th>\n",
       "      <th>PNA2</th>\n",
       "      <th>EPNP2</th>\n",
       "      <th>SOI2</th>\n",
       "      <th>NAO3</th>\n",
       "      <th>PNA3</th>\n",
       "      <th>EPNP3</th>\n",
       "      <th>SOI3</th>\n",
       "    </tr>\n",
       "    <tr>\n",
       "      <th>Date</th>\n",
       "      <th></th>\n",
       "      <th></th>\n",
       "      <th></th>\n",
       "      <th></th>\n",
       "      <th></th>\n",
       "      <th></th>\n",
       "      <th></th>\n",
       "      <th></th>\n",
       "      <th></th>\n",
       "      <th></th>\n",
       "      <th></th>\n",
       "      <th></th>\n",
       "      <th></th>\n",
       "      <th></th>\n",
       "      <th></th>\n",
       "      <th></th>\n",
       "      <th></th>\n",
       "      <th></th>\n",
       "      <th></th>\n",
       "      <th></th>\n",
       "      <th></th>\n",
       "    </tr>\n",
       "  </thead>\n",
       "  <tbody>\n",
       "    <tr>\n",
       "      <th>2021-06-21</th>\n",
       "      <td>0.0</td>\n",
       "      <td>0.0</td>\n",
       "      <td>0.0</td>\n",
       "      <td>0.0</td>\n",
       "      <td>0.536508</td>\n",
       "      <td>0.449694</td>\n",
       "      <td>0.222665</td>\n",
       "      <td>0.520000</td>\n",
       "      <td>0.708856</td>\n",
       "      <td>0.565975</td>\n",
       "      <td>...</td>\n",
       "      <td>0.391597</td>\n",
       "      <td>0.583333</td>\n",
       "      <td>0.690559</td>\n",
       "      <td>0.652655</td>\n",
       "      <td>0.391597</td>\n",
       "      <td>0.583333</td>\n",
       "      <td>0.690559</td>\n",
       "      <td>0.652655</td>\n",
       "      <td>0.391597</td>\n",
       "      <td>0.583333</td>\n",
       "    </tr>\n",
       "    <tr>\n",
       "      <th>2021-06-22</th>\n",
       "      <td>0.0</td>\n",
       "      <td>0.0</td>\n",
       "      <td>0.0</td>\n",
       "      <td>0.0</td>\n",
       "      <td>0.591544</td>\n",
       "      <td>0.423147</td>\n",
       "      <td>0.441502</td>\n",
       "      <td>0.274783</td>\n",
       "      <td>0.653810</td>\n",
       "      <td>0.536508</td>\n",
       "      <td>...</td>\n",
       "      <td>0.391597</td>\n",
       "      <td>0.583333</td>\n",
       "      <td>0.690559</td>\n",
       "      <td>0.652655</td>\n",
       "      <td>0.391597</td>\n",
       "      <td>0.583333</td>\n",
       "      <td>0.690559</td>\n",
       "      <td>0.652655</td>\n",
       "      <td>0.391597</td>\n",
       "      <td>0.583333</td>\n",
       "    </tr>\n",
       "    <tr>\n",
       "      <th>2021-06-23</th>\n",
       "      <td>0.0</td>\n",
       "      <td>0.0</td>\n",
       "      <td>0.0</td>\n",
       "      <td>0.0</td>\n",
       "      <td>0.539980</td>\n",
       "      <td>0.649380</td>\n",
       "      <td>0.512442</td>\n",
       "      <td>0.330435</td>\n",
       "      <td>0.716457</td>\n",
       "      <td>0.591544</td>\n",
       "      <td>...</td>\n",
       "      <td>0.391597</td>\n",
       "      <td>0.583333</td>\n",
       "      <td>0.690559</td>\n",
       "      <td>0.652655</td>\n",
       "      <td>0.391597</td>\n",
       "      <td>0.583333</td>\n",
       "      <td>0.690559</td>\n",
       "      <td>0.652655</td>\n",
       "      <td>0.391597</td>\n",
       "      <td>0.583333</td>\n",
       "    </tr>\n",
       "    <tr>\n",
       "      <th>2021-06-24</th>\n",
       "      <td>0.0</td>\n",
       "      <td>0.0</td>\n",
       "      <td>0.0</td>\n",
       "      <td>0.0</td>\n",
       "      <td>0.611472</td>\n",
       "      <td>0.784246</td>\n",
       "      <td>0.472128</td>\n",
       "      <td>0.518261</td>\n",
       "      <td>0.798457</td>\n",
       "      <td>0.539980</td>\n",
       "      <td>...</td>\n",
       "      <td>0.391597</td>\n",
       "      <td>0.583333</td>\n",
       "      <td>0.690559</td>\n",
       "      <td>0.652655</td>\n",
       "      <td>0.391597</td>\n",
       "      <td>0.583333</td>\n",
       "      <td>0.690559</td>\n",
       "      <td>0.652655</td>\n",
       "      <td>0.391597</td>\n",
       "      <td>0.583333</td>\n",
       "    </tr>\n",
       "    <tr>\n",
       "      <th>2021-06-25</th>\n",
       "      <td>0.0</td>\n",
       "      <td>0.0</td>\n",
       "      <td>0.0</td>\n",
       "      <td>0.0</td>\n",
       "      <td>0.462518</td>\n",
       "      <td>0.629235</td>\n",
       "      <td>0.481151</td>\n",
       "      <td>0.605217</td>\n",
       "      <td>0.767096</td>\n",
       "      <td>0.611472</td>\n",
       "      <td>...</td>\n",
       "      <td>0.391597</td>\n",
       "      <td>0.583333</td>\n",
       "      <td>0.690559</td>\n",
       "      <td>0.652655</td>\n",
       "      <td>0.391597</td>\n",
       "      <td>0.583333</td>\n",
       "      <td>0.690559</td>\n",
       "      <td>0.652655</td>\n",
       "      <td>0.391597</td>\n",
       "      <td>0.583333</td>\n",
       "    </tr>\n",
       "    <tr>\n",
       "      <th>2021-06-26</th>\n",
       "      <td>0.0</td>\n",
       "      <td>0.0</td>\n",
       "      <td>0.0</td>\n",
       "      <td>0.0</td>\n",
       "      <td>0.427313</td>\n",
       "      <td>0.540233</td>\n",
       "      <td>0.454510</td>\n",
       "      <td>0.457391</td>\n",
       "      <td>0.777870</td>\n",
       "      <td>0.462518</td>\n",
       "      <td>...</td>\n",
       "      <td>0.391597</td>\n",
       "      <td>0.583333</td>\n",
       "      <td>0.690559</td>\n",
       "      <td>0.652655</td>\n",
       "      <td>0.391597</td>\n",
       "      <td>0.583333</td>\n",
       "      <td>0.690559</td>\n",
       "      <td>0.652655</td>\n",
       "      <td>0.391597</td>\n",
       "      <td>0.583333</td>\n",
       "    </tr>\n",
       "    <tr>\n",
       "      <th>2021-06-27</th>\n",
       "      <td>0.0</td>\n",
       "      <td>0.0</td>\n",
       "      <td>0.0</td>\n",
       "      <td>0.0</td>\n",
       "      <td>0.453114</td>\n",
       "      <td>0.452684</td>\n",
       "      <td>0.406305</td>\n",
       "      <td>0.697391</td>\n",
       "      <td>0.793817</td>\n",
       "      <td>0.427313</td>\n",
       "      <td>...</td>\n",
       "      <td>0.391597</td>\n",
       "      <td>0.583333</td>\n",
       "      <td>0.690559</td>\n",
       "      <td>0.652655</td>\n",
       "      <td>0.391597</td>\n",
       "      <td>0.583333</td>\n",
       "      <td>0.690559</td>\n",
       "      <td>0.652655</td>\n",
       "      <td>0.391597</td>\n",
       "      <td>0.583333</td>\n",
       "    </tr>\n",
       "    <tr>\n",
       "      <th>2021-06-28</th>\n",
       "      <td>0.0</td>\n",
       "      <td>0.0</td>\n",
       "      <td>0.0</td>\n",
       "      <td>0.0</td>\n",
       "      <td>0.546229</td>\n",
       "      <td>0.513905</td>\n",
       "      <td>0.564749</td>\n",
       "      <td>0.551304</td>\n",
       "      <td>0.839706</td>\n",
       "      <td>0.453114</td>\n",
       "      <td>...</td>\n",
       "      <td>0.391597</td>\n",
       "      <td>0.583333</td>\n",
       "      <td>0.690559</td>\n",
       "      <td>0.652655</td>\n",
       "      <td>0.391597</td>\n",
       "      <td>0.583333</td>\n",
       "      <td>0.690559</td>\n",
       "      <td>0.652655</td>\n",
       "      <td>0.391597</td>\n",
       "      <td>0.583333</td>\n",
       "    </tr>\n",
       "    <tr>\n",
       "      <th>2021-06-29</th>\n",
       "      <td>0.0</td>\n",
       "      <td>0.0</td>\n",
       "      <td>0.0</td>\n",
       "      <td>0.0</td>\n",
       "      <td>0.473042</td>\n",
       "      <td>0.607013</td>\n",
       "      <td>0.604711</td>\n",
       "      <td>0.615652</td>\n",
       "      <td>0.830244</td>\n",
       "      <td>0.546229</td>\n",
       "      <td>...</td>\n",
       "      <td>0.391597</td>\n",
       "      <td>0.583333</td>\n",
       "      <td>0.690559</td>\n",
       "      <td>0.652655</td>\n",
       "      <td>0.391597</td>\n",
       "      <td>0.583333</td>\n",
       "      <td>0.690559</td>\n",
       "      <td>0.652655</td>\n",
       "      <td>0.391597</td>\n",
       "      <td>0.583333</td>\n",
       "    </tr>\n",
       "    <tr>\n",
       "      <th>2021-06-30</th>\n",
       "      <td>0.0</td>\n",
       "      <td>0.0</td>\n",
       "      <td>0.0</td>\n",
       "      <td>0.0</td>\n",
       "      <td>0.601301</td>\n",
       "      <td>0.523049</td>\n",
       "      <td>0.537169</td>\n",
       "      <td>0.568696</td>\n",
       "      <td>0.818099</td>\n",
       "      <td>0.473042</td>\n",
       "      <td>...</td>\n",
       "      <td>0.391597</td>\n",
       "      <td>0.583333</td>\n",
       "      <td>0.690559</td>\n",
       "      <td>0.652655</td>\n",
       "      <td>0.391597</td>\n",
       "      <td>0.583333</td>\n",
       "      <td>0.690559</td>\n",
       "      <td>0.652655</td>\n",
       "      <td>0.391597</td>\n",
       "      <td>0.583333</td>\n",
       "    </tr>\n",
       "  </tbody>\n",
       "</table>\n",
       "<p>10 rows × 48 columns</p>\n",
       "</div>"
      ],
      "text/plain": [
       "            Ice  Ice1  Ice2  Ice3    u-wind    v-wind  pressure  humidity  \\\n",
       "Date                                                                        \n",
       "2021-06-21  0.0   0.0   0.0   0.0  0.536508  0.449694  0.222665  0.520000   \n",
       "2021-06-22  0.0   0.0   0.0   0.0  0.591544  0.423147  0.441502  0.274783   \n",
       "2021-06-23  0.0   0.0   0.0   0.0  0.539980  0.649380  0.512442  0.330435   \n",
       "2021-06-24  0.0   0.0   0.0   0.0  0.611472  0.784246  0.472128  0.518261   \n",
       "2021-06-25  0.0   0.0   0.0   0.0  0.462518  0.629235  0.481151  0.605217   \n",
       "2021-06-26  0.0   0.0   0.0   0.0  0.427313  0.540233  0.454510  0.457391   \n",
       "2021-06-27  0.0   0.0   0.0   0.0  0.453114  0.452684  0.406305  0.697391   \n",
       "2021-06-28  0.0   0.0   0.0   0.0  0.546229  0.513905  0.564749  0.551304   \n",
       "2021-06-29  0.0   0.0   0.0   0.0  0.473042  0.607013  0.604711  0.615652   \n",
       "2021-06-30  0.0   0.0   0.0   0.0  0.601301  0.523049  0.537169  0.568696   \n",
       "\n",
       "            temperature   u-wind1  ...     EPNP1      SOI1      NAO2  \\\n",
       "Date                               ...                                 \n",
       "2021-06-21     0.708856  0.565975  ...  0.391597  0.583333  0.690559   \n",
       "2021-06-22     0.653810  0.536508  ...  0.391597  0.583333  0.690559   \n",
       "2021-06-23     0.716457  0.591544  ...  0.391597  0.583333  0.690559   \n",
       "2021-06-24     0.798457  0.539980  ...  0.391597  0.583333  0.690559   \n",
       "2021-06-25     0.767096  0.611472  ...  0.391597  0.583333  0.690559   \n",
       "2021-06-26     0.777870  0.462518  ...  0.391597  0.583333  0.690559   \n",
       "2021-06-27     0.793817  0.427313  ...  0.391597  0.583333  0.690559   \n",
       "2021-06-28     0.839706  0.453114  ...  0.391597  0.583333  0.690559   \n",
       "2021-06-29     0.830244  0.546229  ...  0.391597  0.583333  0.690559   \n",
       "2021-06-30     0.818099  0.473042  ...  0.391597  0.583333  0.690559   \n",
       "\n",
       "                PNA2     EPNP2      SOI2      NAO3      PNA3     EPNP3  \\\n",
       "Date                                                                     \n",
       "2021-06-21  0.652655  0.391597  0.583333  0.690559  0.652655  0.391597   \n",
       "2021-06-22  0.652655  0.391597  0.583333  0.690559  0.652655  0.391597   \n",
       "2021-06-23  0.652655  0.391597  0.583333  0.690559  0.652655  0.391597   \n",
       "2021-06-24  0.652655  0.391597  0.583333  0.690559  0.652655  0.391597   \n",
       "2021-06-25  0.652655  0.391597  0.583333  0.690559  0.652655  0.391597   \n",
       "2021-06-26  0.652655  0.391597  0.583333  0.690559  0.652655  0.391597   \n",
       "2021-06-27  0.652655  0.391597  0.583333  0.690559  0.652655  0.391597   \n",
       "2021-06-28  0.652655  0.391597  0.583333  0.690559  0.652655  0.391597   \n",
       "2021-06-29  0.652655  0.391597  0.583333  0.690559  0.652655  0.391597   \n",
       "2021-06-30  0.652655  0.391597  0.583333  0.690559  0.652655  0.391597   \n",
       "\n",
       "                SOI3  \n",
       "Date                  \n",
       "2021-06-21  0.583333  \n",
       "2021-06-22  0.583333  \n",
       "2021-06-23  0.583333  \n",
       "2021-06-24  0.583333  \n",
       "2021-06-25  0.583333  \n",
       "2021-06-26  0.583333  \n",
       "2021-06-27  0.583333  \n",
       "2021-06-28  0.583333  \n",
       "2021-06-29  0.583333  \n",
       "2021-06-30  0.583333  \n",
       "\n",
       "[10 rows x 48 columns]"
      ]
     },
     "execution_count": 35,
     "metadata": {},
     "output_type": "execute_result"
    }
   ],
   "source": [
    "df_data.tail(10)"
   ]
  },
  {
   "cell_type": "markdown",
   "metadata": {},
   "source": [
    "#### 3. Modeling - XGBoost for 7 days forecast(shortterm)"
   ]
  },
  {
   "cell_type": "code",
   "execution_count": 36,
   "metadata": {
    "id": "1eRBSWF3-CEd"
   },
   "outputs": [],
   "source": [
    "# Importing packages for XGBoost and K-fold Gridsearch\n",
    "# In Anaconda command propmpt execute the command --> conda install -c anaconda py-xgboost\n",
    "from xgboost import XGBRegressor\n",
    "import xgboost as xgb\n",
    "from sklearn.model_selection import TimeSeriesSplit, GridSearchCV, KFold\n",
    "from sklearn.model_selection import train_test_split\n",
    "from sklearn.metrics import mean_absolute_error, mean_squared_error"
   ]
  },
  {
   "cell_type": "code",
   "execution_count": 37,
   "metadata": {
    "id": "8vEGSlKU_RCC",
    "scrolled": true
   },
   "outputs": [
    {
     "data": {
      "text/html": [
       "<div>\n",
       "<style scoped>\n",
       "    .dataframe tbody tr th:only-of-type {\n",
       "        vertical-align: middle;\n",
       "    }\n",
       "\n",
       "    .dataframe tbody tr th {\n",
       "        vertical-align: top;\n",
       "    }\n",
       "\n",
       "    .dataframe thead th {\n",
       "        text-align: right;\n",
       "    }\n",
       "</style>\n",
       "<table border=\"1\" class=\"dataframe\">\n",
       "  <thead>\n",
       "    <tr style=\"text-align: right;\">\n",
       "      <th></th>\n",
       "      <th>Ice1</th>\n",
       "      <th>Ice2</th>\n",
       "      <th>Ice3</th>\n",
       "      <th>u-wind</th>\n",
       "      <th>v-wind</th>\n",
       "      <th>pressure</th>\n",
       "      <th>humidity</th>\n",
       "      <th>temperature</th>\n",
       "      <th>u-wind1</th>\n",
       "      <th>v-wind1</th>\n",
       "      <th>...</th>\n",
       "      <th>EPNP1</th>\n",
       "      <th>SOI1</th>\n",
       "      <th>NAO2</th>\n",
       "      <th>PNA2</th>\n",
       "      <th>EPNP2</th>\n",
       "      <th>SOI2</th>\n",
       "      <th>NAO3</th>\n",
       "      <th>PNA3</th>\n",
       "      <th>EPNP3</th>\n",
       "      <th>SOI3</th>\n",
       "    </tr>\n",
       "    <tr>\n",
       "      <th>Date</th>\n",
       "      <th></th>\n",
       "      <th></th>\n",
       "      <th></th>\n",
       "      <th></th>\n",
       "      <th></th>\n",
       "      <th></th>\n",
       "      <th></th>\n",
       "      <th></th>\n",
       "      <th></th>\n",
       "      <th></th>\n",
       "      <th></th>\n",
       "      <th></th>\n",
       "      <th></th>\n",
       "      <th></th>\n",
       "      <th></th>\n",
       "      <th></th>\n",
       "      <th></th>\n",
       "      <th></th>\n",
       "      <th></th>\n",
       "      <th></th>\n",
       "      <th></th>\n",
       "    </tr>\n",
       "  </thead>\n",
       "  <tbody>\n",
       "    <tr>\n",
       "      <th>1995-01-01</th>\n",
       "      <td>NaN</td>\n",
       "      <td>NaN</td>\n",
       "      <td>NaN</td>\n",
       "      <td>0.615115</td>\n",
       "      <td>0.473178</td>\n",
       "      <td>0.516700</td>\n",
       "      <td>0.384348</td>\n",
       "      <td>0.417669</td>\n",
       "      <td>NaN</td>\n",
       "      <td>NaN</td>\n",
       "      <td>...</td>\n",
       "      <td>NaN</td>\n",
       "      <td>NaN</td>\n",
       "      <td>NaN</td>\n",
       "      <td>NaN</td>\n",
       "      <td>NaN</td>\n",
       "      <td>NaN</td>\n",
       "      <td>NaN</td>\n",
       "      <td>NaN</td>\n",
       "      <td>NaN</td>\n",
       "      <td>NaN</td>\n",
       "    </tr>\n",
       "    <tr>\n",
       "      <th>1995-01-02</th>\n",
       "      <td>0.0</td>\n",
       "      <td>NaN</td>\n",
       "      <td>NaN</td>\n",
       "      <td>0.711702</td>\n",
       "      <td>0.427545</td>\n",
       "      <td>0.410524</td>\n",
       "      <td>0.316522</td>\n",
       "      <td>0.372446</td>\n",
       "      <td>0.615115</td>\n",
       "      <td>0.473178</td>\n",
       "      <td>...</td>\n",
       "      <td>0.608403</td>\n",
       "      <td>0.45</td>\n",
       "      <td>NaN</td>\n",
       "      <td>NaN</td>\n",
       "      <td>NaN</td>\n",
       "      <td>NaN</td>\n",
       "      <td>NaN</td>\n",
       "      <td>NaN</td>\n",
       "      <td>NaN</td>\n",
       "      <td>NaN</td>\n",
       "    </tr>\n",
       "    <tr>\n",
       "      <th>1995-01-03</th>\n",
       "      <td>0.0</td>\n",
       "      <td>0.0</td>\n",
       "      <td>NaN</td>\n",
       "      <td>0.823125</td>\n",
       "      <td>0.550553</td>\n",
       "      <td>0.469706</td>\n",
       "      <td>0.200000</td>\n",
       "      <td>0.334305</td>\n",
       "      <td>0.711702</td>\n",
       "      <td>0.427545</td>\n",
       "      <td>...</td>\n",
       "      <td>0.608403</td>\n",
       "      <td>0.45</td>\n",
       "      <td>0.718531</td>\n",
       "      <td>0.650442</td>\n",
       "      <td>0.608403</td>\n",
       "      <td>0.45</td>\n",
       "      <td>NaN</td>\n",
       "      <td>NaN</td>\n",
       "      <td>NaN</td>\n",
       "      <td>NaN</td>\n",
       "    </tr>\n",
       "    <tr>\n",
       "      <th>1995-01-04</th>\n",
       "      <td>0.0</td>\n",
       "      <td>0.0</td>\n",
       "      <td>0.0</td>\n",
       "      <td>0.693539</td>\n",
       "      <td>0.417617</td>\n",
       "      <td>0.548576</td>\n",
       "      <td>0.064348</td>\n",
       "      <td>0.222110</td>\n",
       "      <td>0.823125</td>\n",
       "      <td>0.550553</td>\n",
       "      <td>...</td>\n",
       "      <td>0.608403</td>\n",
       "      <td>0.45</td>\n",
       "      <td>0.718531</td>\n",
       "      <td>0.650442</td>\n",
       "      <td>0.608403</td>\n",
       "      <td>0.45</td>\n",
       "      <td>0.718531</td>\n",
       "      <td>0.650442</td>\n",
       "      <td>0.608403</td>\n",
       "      <td>0.45</td>\n",
       "    </tr>\n",
       "    <tr>\n",
       "      <th>1995-01-05</th>\n",
       "      <td>0.0</td>\n",
       "      <td>0.0</td>\n",
       "      <td>0.0</td>\n",
       "      <td>0.908127</td>\n",
       "      <td>0.696900</td>\n",
       "      <td>0.491621</td>\n",
       "      <td>0.193043</td>\n",
       "      <td>0.314086</td>\n",
       "      <td>0.693539</td>\n",
       "      <td>0.417617</td>\n",
       "      <td>...</td>\n",
       "      <td>0.608403</td>\n",
       "      <td>0.45</td>\n",
       "      <td>0.718531</td>\n",
       "      <td>0.650442</td>\n",
       "      <td>0.608403</td>\n",
       "      <td>0.45</td>\n",
       "      <td>0.718531</td>\n",
       "      <td>0.650442</td>\n",
       "      <td>0.608403</td>\n",
       "      <td>0.45</td>\n",
       "    </tr>\n",
       "  </tbody>\n",
       "</table>\n",
       "<p>5 rows × 47 columns</p>\n",
       "</div>"
      ],
      "text/plain": [
       "            Ice1  Ice2  Ice3    u-wind    v-wind  pressure  humidity  \\\n",
       "Date                                                                   \n",
       "1995-01-01   NaN   NaN   NaN  0.615115  0.473178  0.516700  0.384348   \n",
       "1995-01-02   0.0   NaN   NaN  0.711702  0.427545  0.410524  0.316522   \n",
       "1995-01-03   0.0   0.0   NaN  0.823125  0.550553  0.469706  0.200000   \n",
       "1995-01-04   0.0   0.0   0.0  0.693539  0.417617  0.548576  0.064348   \n",
       "1995-01-05   0.0   0.0   0.0  0.908127  0.696900  0.491621  0.193043   \n",
       "\n",
       "            temperature   u-wind1   v-wind1  ...     EPNP1  SOI1      NAO2  \\\n",
       "Date                                         ...                             \n",
       "1995-01-01     0.417669       NaN       NaN  ...       NaN   NaN       NaN   \n",
       "1995-01-02     0.372446  0.615115  0.473178  ...  0.608403  0.45       NaN   \n",
       "1995-01-03     0.334305  0.711702  0.427545  ...  0.608403  0.45  0.718531   \n",
       "1995-01-04     0.222110  0.823125  0.550553  ...  0.608403  0.45  0.718531   \n",
       "1995-01-05     0.314086  0.693539  0.417617  ...  0.608403  0.45  0.718531   \n",
       "\n",
       "                PNA2     EPNP2  SOI2      NAO3      PNA3     EPNP3  SOI3  \n",
       "Date                                                                      \n",
       "1995-01-01       NaN       NaN   NaN       NaN       NaN       NaN   NaN  \n",
       "1995-01-02       NaN       NaN   NaN       NaN       NaN       NaN   NaN  \n",
       "1995-01-03  0.650442  0.608403  0.45       NaN       NaN       NaN   NaN  \n",
       "1995-01-04  0.650442  0.608403  0.45  0.718531  0.650442  0.608403  0.45  \n",
       "1995-01-05  0.650442  0.608403  0.45  0.718531  0.650442  0.608403  0.45  \n",
       "\n",
       "[5 rows x 47 columns]"
      ]
     },
     "execution_count": 37,
     "metadata": {},
     "output_type": "execute_result"
    }
   ],
   "source": [
    "X = df_data.drop(['Ice'], axis = 1) ####### This is to include ice lags\n",
    "#X = df_data.drop(['Ice', 'Ice1', 'Ice2', 'Ice3'], axis = 1) ########## This is to exclude ice lags\n",
    "y = df_data['Ice']\n",
    "X.head()"
   ]
  },
  {
   "cell_type": "code",
   "execution_count": 38,
   "metadata": {},
   "outputs": [
    {
     "data": {
      "text/plain": [
       "Date\n",
       "1995-01-01    0.0\n",
       "1995-01-02    0.0\n",
       "1995-01-03    0.0\n",
       "1995-01-04    0.0\n",
       "1995-01-05    0.0\n",
       "Name: Ice, dtype: float64"
      ]
     },
     "execution_count": 38,
     "metadata": {},
     "output_type": "execute_result"
    }
   ],
   "source": [
    "y.head()"
   ]
  },
  {
   "cell_type": "code",
   "execution_count": 39,
   "metadata": {
    "colab": {
     "base_uri": "https://localhost:8080/"
    },
    "id": "KvK6b_E3_RNn",
    "outputId": "4d70257f-ced2-4f7d-bd9a-fff3ff964062"
   },
   "outputs": [
    {
     "name": "stdout",
     "output_type": "stream",
     "text": [
      "(5844, 47) (5844,)\n",
      "(2008, 47) (2008,)\n"
     ]
    }
   ],
   "source": [
    "# Diving X & y into 3 parts - Training(60%) - 1996 to 2010; Validation(20%) - 2011 to 2015; Test(20%) - 2016 to 2021\n",
    "X_train = X['1995-01-01':'2010-12-31']\n",
    "X_test = X['2016-01-01':'2021-06-30']\n",
    "y_train = y['1995-01-01':'2010-12-31']\n",
    "y_test = y['2016-01-01':'2021-06-30']\n",
    "\n",
    "print(X_train.shape, y_train.shape)\n",
    "print(X_test.shape, y_test.shape)"
   ]
  },
  {
   "cell_type": "code",
   "execution_count": 40,
   "metadata": {
    "id": "FkU-70Of_RR9"
   },
   "outputs": [
    {
     "name": "stdout",
     "output_type": "stream",
     "text": [
      "(1826, 47) (1826,)\n"
     ]
    }
   ],
   "source": [
    "X_valid = X['2011-01-01':'2015-12-31']\n",
    "y_valid = y['2011-01-01':'2015-12-31']\n",
    "print(X_valid.shape, y_valid.shape)"
   ]
  },
  {
   "cell_type": "code",
   "execution_count": 41,
   "metadata": {
    "colab": {
     "base_uri": "https://localhost:8080/"
    },
    "id": "6zEfraJ3_RUq",
    "outputId": "4b52a845-d4ed-4efe-e4d0-05c6c60558e7"
   },
   "outputs": [
    {
     "name": "stdout",
     "output_type": "stream",
     "text": [
      "Fitting 5 folds for each of 1 candidates, totalling 5 fits\n",
      "0.950596069024314\n",
      "{'colsample_bytree': 1.0, 'learning_rate': 0.005, 'max_depth': 4, 'n_estimators': 350, 'objective': 'reg:squarederror', 'subsample': 0.8}\n",
      "Time to train = 15.56 seconds\n"
     ]
    }
   ],
   "source": [
    "# Running the XGBoost regressor with a wide range of hyper parameters and 5 CV timeseries splits\n",
    "import time\n",
    "t0 = time.time()\n",
    "\n",
    "xgb1 = xgb.XGBRegressor()\n",
    "parameters = {'objective':['reg:squarederror'],\n",
    "              'learning_rate': [0.005],\n",
    "              'max_depth': [4],\n",
    "              'subsample': [0.8],\n",
    "              'colsample_bytree': [1.0],\n",
    "              'n_estimators': [350]}\n",
    "\n",
    "tscv = TimeSeriesSplit(n_splits=5)\n",
    "\n",
    "xgb_grid = GridSearchCV(xgb1,\n",
    "                        parameters,\n",
    "                        n_jobs = -1,\n",
    "                        cv = tscv,\n",
    "                        verbose=True)\n",
    "\n",
    "xgb_grid.fit(X_train, y_train)\n",
    "\n",
    "tF = time.time()\n",
    "\n",
    "print(xgb_grid.best_score_)\n",
    "print(xgb_grid.best_params_)\n",
    "\n",
    "print('Time to train = %.2f seconds' % (tF - t0))"
   ]
  },
  {
   "cell_type": "code",
   "execution_count": 42,
   "metadata": {
    "colab": {
     "base_uri": "https://localhost:8080/"
    },
    "id": "OkihhgTO_RXO",
    "outputId": "88ebb084-3424-477d-a53f-2226143f66f1"
   },
   "outputs": [
    {
     "name": "stdout",
     "output_type": "stream",
     "text": [
      "5.123391112727007\n",
      "8.921066430462078\n"
     ]
    }
   ],
   "source": [
    "# Predicting on the training data and calculating the mean absolute error\n",
    "\n",
    "y_train_pred = xgb_grid.predict(X_train)\n",
    "\n",
    "print(mean_absolute_error(y_train, y_train_pred))\n",
    "print(math.sqrt(mean_squared_error(y_train, y_train_pred)))"
   ]
  },
  {
   "cell_type": "code",
   "execution_count": 43,
   "metadata": {
    "colab": {
     "base_uri": "https://localhost:8080/"
    },
    "id": "mirdeLBG_Raq",
    "outputId": "42221a57-b269-4525-e6be-83118e9c0b79"
   },
   "outputs": [
    {
     "name": "stdout",
     "output_type": "stream",
     "text": [
      "5.500803430689949\n",
      "9.581726879479712\n"
     ]
    }
   ],
   "source": [
    "# Predicting on the validation data and calculating the mean absolute error\n",
    "\n",
    "y_valid_pred = xgb_grid.predict(X_valid)\n",
    "\n",
    "print(mean_absolute_error(y_valid, y_valid_pred))\n",
    "print(math.sqrt(mean_squared_error(y_valid, y_valid_pred)))"
   ]
  },
  {
   "cell_type": "code",
   "execution_count": 44,
   "metadata": {
    "colab": {
     "base_uri": "https://localhost:8080/"
    },
    "id": "b30qkdwV_Reh",
    "outputId": "fae7ce56-15bf-4acd-c4ea-78423f75ce05"
   },
   "outputs": [
    {
     "name": "stdout",
     "output_type": "stream",
     "text": [
      "5.359520672468456\n",
      "9.20604719035649\n"
     ]
    }
   ],
   "source": [
    "# Predicting on the test data and calculating the mean absolute error\n",
    "\n",
    "y_test_pred = xgb_grid.predict(X_test)\n",
    "\n",
    "print(mean_absolute_error(y_test, y_test_pred))\n",
    "print(math.sqrt(mean_squared_error(y_test, y_test_pred)))"
   ]
  },
  {
   "cell_type": "code",
   "execution_count": 45,
   "metadata": {
    "colab": {
     "base_uri": "https://localhost:8080/",
     "height": 880
    },
    "id": "lYH5_baf_RhE",
    "outputId": "b4195c49-3c9f-4bb3-e4b6-3bb00ebdf452",
    "scrolled": true
   },
   "outputs": [
    {
     "data": {
      "text/plain": [
       "<AxesSubplot:ylabel='feature'>"
      ]
     },
     "execution_count": 45,
     "metadata": {},
     "output_type": "execute_result"
    },
    {
     "data": {
      "image/png": "[encoded data removed]",
      "text/plain": [
       "<Figure size 1440x1080 with 1 Axes>"
      ]
     },
     "metadata": {
      "needs_background": "light"
     },
     "output_type": "display_data"
    }
   ],
   "source": [
    "# Calculating variable importance as per the XGBoost model WITH ICE lags\n",
    "\n",
    "var_importance = pd.DataFrame(xgb_grid.best_estimator_.feature_importances_)\n",
    "features = pd.DataFrame(X_test.columns)\n",
    "df_var_imp = pd.concat([features, var_importance], axis = 1)\n",
    "df_var_imp.columns = ['feature', 'importance']\n",
    "df_var_imp = df_var_imp.sort_values(by = ['importance'], ascending = False)\n",
    "df_var_imp = df_var_imp.set_index(['feature'])\n",
    "\n",
    "# Displaying the variable importance\n",
    "\n",
    "%matplotlib inline\n",
    "fig, ax = plt.subplots(figsize=(20, 15))\n",
    "#plt.figure(figsize=(10,10))\n",
    "df_var_imp['importance'].plot(kind = 'barh')"
   ]
  },
  {
   "cell_type": "code",
   "execution_count": 46,
   "metadata": {
    "colab": {
     "base_uri": "https://localhost:8080/",
     "height": 718
    },
    "id": "rvG9CBeN_RkD",
    "outputId": "410a23ce-c280-45bb-8a1b-885da9306e42"
   },
   "outputs": [
    {
     "name": "stderr",
     "output_type": "stream",
     "text": [
      "<ipython-input-46-d76c8be97a10>:3: SettingWithCopyWarning: \n",
      "A value is trying to be set on a copy of a slice from a DataFrame.\n",
      "Try using .loc[row_indexer,col_indexer] = value instead\n",
      "\n",
      "See the caveats in the documentation: https://pandas.pydata.org/pandas-docs/stable/user_guide/indexing.html#returning-a-view-versus-a-copy\n",
      "  X_train['Ice'] = y_train\n",
      "<ipython-input-46-d76c8be97a10>:4: SettingWithCopyWarning: \n",
      "A value is trying to be set on a copy of a slice from a DataFrame.\n",
      "Try using .loc[row_indexer,col_indexer] = value instead\n",
      "\n",
      "See the caveats in the documentation: https://pandas.pydata.org/pandas-docs/stable/user_guide/indexing.html#returning-a-view-versus-a-copy\n",
      "  X_train['Ice_pred'] = y_train_pred\n"
     ]
    },
    {
     "data": {
      "text/plain": [
       "<matplotlib.legend.Legend at 0x1ea695540d0>"
      ]
     },
     "execution_count": 46,
     "metadata": {},
     "output_type": "execute_result"
    },
    {
     "data": {
      "image/png": "[encoded data removed]",
      "text/plain": [
       "<Figure size 1080x576 with 1 Axes>"
      ]
     },
     "metadata": {
      "needs_background": "light"
     },
     "output_type": "display_data"
    }
   ],
   "source": [
    "# Overlaying the training predictions on top of training data\n",
    "\n",
    "X_train['Ice'] = y_train\n",
    "X_train['Ice_pred'] = y_train_pred\n",
    "\n",
    "plt.figure(figsize=(15,8))\n",
    "X_train['Ice'].plot(label = 'actual ice cover', color='black')\n",
    "X_train['Ice_pred'].plot(label = 'predicted ice cover', color = 'red')\n",
    "plt.legend(loc=\"upper right\")"
   ]
  },
  {
   "cell_type": "code",
   "execution_count": 47,
   "metadata": {
    "colab": {
     "base_uri": "https://localhost:8080/",
     "height": 718
    },
    "id": "GqTo678TW8Yn",
    "outputId": "eda8b204-7281-45e7-f4ed-51a91212ce78"
   },
   "outputs": [
    {
     "name": "stderr",
     "output_type": "stream",
     "text": [
      "<ipython-input-47-7a88c8d2ca6b>:3: SettingWithCopyWarning: \n",
      "A value is trying to be set on a copy of a slice from a DataFrame.\n",
      "Try using .loc[row_indexer,col_indexer] = value instead\n",
      "\n",
      "See the caveats in the documentation: https://pandas.pydata.org/pandas-docs/stable/user_guide/indexing.html#returning-a-view-versus-a-copy\n",
      "  X_valid['Ice'] = y_valid\n",
      "<ipython-input-47-7a88c8d2ca6b>:4: SettingWithCopyWarning: \n",
      "A value is trying to be set on a copy of a slice from a DataFrame.\n",
      "Try using .loc[row_indexer,col_indexer] = value instead\n",
      "\n",
      "See the caveats in the documentation: https://pandas.pydata.org/pandas-docs/stable/user_guide/indexing.html#returning-a-view-versus-a-copy\n",
      "  X_valid['Ice_pred'] = y_valid_pred\n"
     ]
    },
    {
     "data": {
      "text/plain": [
       "<matplotlib.legend.Legend at 0x1ea6971ea90>"
      ]
     },
     "execution_count": 47,
     "metadata": {},
     "output_type": "execute_result"
    },
    {
     "data": {
      "image/png": "[encoded data removed]",
      "text/plain": [
       "<Figure size 1080x576 with 1 Axes>"
      ]
     },
     "metadata": {
      "needs_background": "light"
     },
     "output_type": "display_data"
    }
   ],
   "source": [
    "# Overlaying the training predictions on top of validation data\n",
    "\n",
    "X_valid['Ice'] = y_valid\n",
    "X_valid['Ice_pred'] = y_valid_pred\n",
    "\n",
    "plt.figure(figsize=(15,8))\n",
    "X_valid['Ice'].plot(label = 'actual ice cover', color='black')\n",
    "X_valid['Ice_pred'].plot(label = 'predicted ice cover', color = 'red')\n",
    "plt.legend(loc=\"upper right\")"
   ]
  },
  {
   "cell_type": "code",
   "execution_count": 48,
   "metadata": {
    "colab": {
     "base_uri": "https://localhost:8080/",
     "height": 718
    },
    "id": "a-bWfk-r_Rne",
    "outputId": "fb3df2c4-3e1a-4fff-9abd-f1cd18951024"
   },
   "outputs": [
    {
     "name": "stderr",
     "output_type": "stream",
     "text": [
      "<ipython-input-48-ecf8eb0d0521>:3: SettingWithCopyWarning: \n",
      "A value is trying to be set on a copy of a slice from a DataFrame.\n",
      "Try using .loc[row_indexer,col_indexer] = value instead\n",
      "\n",
      "See the caveats in the documentation: https://pandas.pydata.org/pandas-docs/stable/user_guide/indexing.html#returning-a-view-versus-a-copy\n",
      "  X_test['Ice'] = y_test\n",
      "<ipython-input-48-ecf8eb0d0521>:4: SettingWithCopyWarning: \n",
      "A value is trying to be set on a copy of a slice from a DataFrame.\n",
      "Try using .loc[row_indexer,col_indexer] = value instead\n",
      "\n",
      "See the caveats in the documentation: https://pandas.pydata.org/pandas-docs/stable/user_guide/indexing.html#returning-a-view-versus-a-copy\n",
      "  X_test['Ice_pred'] = y_test_pred\n"
     ]
    },
    {
     "data": {
      "text/plain": [
       "<matplotlib.legend.Legend at 0x1ea697d0700>"
      ]
     },
     "execution_count": 48,
     "metadata": {},
     "output_type": "execute_result"
    },
    {
     "data": {
      "image/png": "[encoded data removed]",
      "text/plain": [
       "<Figure size 1080x576 with 1 Axes>"
      ]
     },
     "metadata": {
      "needs_background": "light"
     },
     "output_type": "display_data"
    }
   ],
   "source": [
    "# Overlaying the training predictions on top of validation data\n",
    "\n",
    "X_test['Ice'] = y_test\n",
    "X_test['Ice_pred'] = y_test_pred\n",
    "\n",
    "plt.figure(figsize=(15,8))\n",
    "X_test['Ice'].plot(label = 'actual ice cover', color='black')\n",
    "X_test['Ice_pred'].plot(label = 'predicted ice cover', color='red')\n",
    "plt.legend(loc=\"upper right\")"
   ]
  },
  {
   "cell_type": "code",
   "execution_count": 49,
   "metadata": {
    "colab": {
     "base_uri": "https://localhost:8080/"
    },
    "id": "qV5PFVx4YuSC",
    "outputId": "aca23140-4cbd-420a-f9d0-71ab3ef74efe"
   },
   "outputs": [
    {
     "name": "stdout",
     "output_type": "stream",
     "text": [
      "(9528, 47) (9528,)\n",
      "(1, 47) (1,)\n",
      "Fitting 5 folds for each of 1 candidates, totalling 5 fits\n",
      "0.9487987442994568\n",
      "{'colsample_bytree': 1.0, 'learning_rate': 0.005, 'max_depth': 4, 'n_estimators': 350, 'objective': 'reg:squarederror', 'subsample': 0.8}\n"
     ]
    }
   ],
   "source": [
    "### XGBoost model to forecast the ice for the next 7 days. Here we select 2019-02-01 as the split date\n",
    "\n",
    "split_date = '2021-02-01'\n",
    "\n",
    "df_data_train = df_data.loc[df_data.index < split_date].copy()\n",
    "df_data_test = df_data.loc[df_data.index == split_date].copy()\n",
    "\n",
    "X_train = df_data_train.drop(['Ice'], axis = 1)\n",
    "X_test = df_data_test.drop(['Ice'], axis = 1)\n",
    "y_train = df_data_train['Ice']\n",
    "y_test = df_data_test['Ice']\n",
    "\n",
    "print(X_train.shape, y_train.shape)\n",
    "print(X_test.shape, y_test.shape)\n",
    "\n",
    "xgb1 = xgb.XGBRegressor()\n",
    "parameters = {'objective':['reg:squarederror'],\n",
    "              'learning_rate': [0.005],\n",
    "              'max_depth': [4],\n",
    "              'subsample': [0.8],\n",
    "              'colsample_bytree': [1.0],\n",
    "              'n_estimators': [350]}\n",
    "\n",
    "tscv = TimeSeriesSplit(n_splits=5)\n",
    "\n",
    "xgb_grid = GridSearchCV(xgb1,\n",
    "                        parameters,\n",
    "                        n_jobs = -1,\n",
    "                        cv = tscv,\n",
    "                        verbose=True)\n",
    "\n",
    "xgb_grid.fit(X_train, y_train)\n",
    "\n",
    "print(xgb_grid.best_score_)\n",
    "print(xgb_grid.best_params_)"
   ]
  },
  {
   "cell_type": "code",
   "execution_count": 50,
   "metadata": {
    "colab": {
     "base_uri": "https://localhost:8080/"
    },
    "id": "mAq4JrI-YuyE",
    "outputId": "940b2a8f-c701-4c27-f04d-5c08e6e0f42a"
   },
   "outputs": [
    {
     "data": {
      "text/plain": [
       "array([74.660706], dtype=float32)"
      ]
     },
     "execution_count": 50,
     "metadata": {},
     "output_type": "execute_result"
    }
   ],
   "source": [
    "### Predict ice cover on the day of the test data\n",
    "\n",
    "y_test_pred = xgb_grid.predict(X_test)\n",
    "\n",
    "y_test_pred"
   ]
  },
  {
   "cell_type": "code",
   "execution_count": 51,
   "metadata": {
    "colab": {
     "base_uri": "https://localhost:8080/"
    },
    "id": "HgShYyuLYvC5",
    "outputId": "30855507-b8c7-48ad-86c9-1000b0b2d2e2"
   },
   "outputs": [
    {
     "data": {
      "text/plain": [
       "Date\n",
       "2021-02-01    91.106271\n",
       "Name: Ice, dtype: float64"
      ]
     },
     "execution_count": 51,
     "metadata": {},
     "output_type": "execute_result"
    }
   ],
   "source": [
    "### Actual ice cover on the day of the test data\n",
    "\n",
    "y_test"
   ]
  },
  {
   "cell_type": "code",
   "execution_count": 52,
   "metadata": {
    "colab": {
     "base_uri": "https://localhost:8080/"
    },
    "id": "_nP76jKTYvXC",
    "outputId": "5ed4444e-22c7-4f42-d6ab-527d3a6ff9e1"
   },
   "outputs": [
    {
     "name": "stdout",
     "output_type": "stream",
     "text": [
      "16.445565548458617\n"
     ]
    }
   ],
   "source": [
    "## calculating the mean absolute error\n",
    "\n",
    "print(mean_absolute_error(y_test, y_test_pred))"
   ]
  },
  {
   "cell_type": "code",
   "execution_count": 53,
   "metadata": {
    "colab": {
     "base_uri": "https://localhost:8080/"
    },
    "id": "hDco-DCz-CEd",
    "outputId": "287fe75e-984a-4596-b506-fa46ba22ec1f"
   },
   "outputs": [
    {
     "name": "stdout",
     "output_type": "stream",
     "text": [
      "2021-02-02 Date\n",
      "2021-02-02    89.67481\n",
      "Name: Ice, dtype: float64 [60.270145]\n",
      "2021-02-03 Date\n",
      "2021-02-03    93.026478\n",
      "Name: Ice, dtype: float64 [52.882393]\n",
      "2021-02-04 Date\n",
      "2021-02-04    93.026478\n",
      "Name: Ice, dtype: float64 [47.132183]\n",
      "2021-02-05 Date\n",
      "2021-02-05    84.3233\n",
      "Name: Ice, dtype: float64 [40.96953]\n",
      "2021-02-06 Date\n",
      "2021-02-06    87.133699\n",
      "Name: Ice, dtype: float64 [35.177723]\n",
      "2021-02-07 Date\n",
      "2021-02-07    89.512511\n",
      "Name: Ice, dtype: float64 [34.58035]\n",
      "2021-02-08 Date\n",
      "2021-02-08    90.16137\n",
      "Name: Ice, dtype: float64 [34.528133]\n"
     ]
    }
   ],
   "source": [
    "######### Using the predicted value on any date as ground truth and then forecast for next 7 days #################\n",
    "\n",
    "from datetime import datetime, timedelta\n",
    "\n",
    "for i in range(1, 8):\n",
    "    X_test['Ice3'] = X_test['Ice2']\n",
    "    X_test['Ice2'] = X_test['Ice1']\n",
    "    X_test['Ice1'] = y_test_pred\n",
    "    \n",
    "    res = (datetime.strptime(split_date, '%Y-%m-%d') + timedelta(days=i)).strftime('%Y-%m-%d')\n",
    "    \n",
    "    df_data_test = df_data.loc[df_data.index == res].copy()\n",
    "    \n",
    "    y_test = df_data_test['Ice']\n",
    "    \n",
    "    y_test_pred = xgb_grid.predict(X_test)\n",
    "    \n",
    "    print(res, y_test, y_test_pred)"
   ]
  },
  {
   "cell_type": "code",
   "execution_count": 54,
   "metadata": {
    "colab": {
     "base_uri": "https://localhost:8080/"
    },
    "id": "l3x_VJ8F-CEd",
    "outputId": "ceee6f5d-2d3e-4e19-f16c-908ec3ee2e59"
   },
   "outputs": [
    {
     "name": "stdout",
     "output_type": "stream",
     "text": [
      "55.63323696239574\n"
     ]
    }
   ],
   "source": [
    "print(mean_absolute_error(y_test, y_test_pred))"
   ]
  },
  {
   "cell_type": "markdown",
   "metadata": {},
   "source": [
    "##### After trying out different parameters , this is the optimal run "
   ]
  },
  {
   "cell_type": "code",
   "execution_count": 55,
   "metadata": {},
   "outputs": [],
   "source": [
    "X = df_data.drop(['Ice'], axis = 1) ####### This is to include ice lags\n",
    "y = df_data['Ice']\n",
    "X_train = X['1995-01-01':'2010-12-31']\n",
    "X_valid = X['2011-01-01':'2015-12-31']\n",
    "y_train = y['1995-01-01':'2010-12-31']\n",
    "y_valid = y['2011-01-01':'2015-12-31']\n",
    "X_test = X['2016-01-01':'2021-06-30']\n",
    "y_test = y['2016-01-01':'2021-06-30']"
   ]
  },
  {
   "cell_type": "code",
   "execution_count": 56,
   "metadata": {},
   "outputs": [
    {
     "name": "stdout",
     "output_type": "stream",
     "text": [
      "Fitting 10 folds for each of 12 candidates, totalling 120 fits\n",
      "[09:26:45] WARNING: ..\\src\\learner.cc:541: \n",
      "Parameters: { early_stopping_rounds, eval_set } might not be used.\n",
      "\n",
      "  This may not be accurate due to some parameters are only used in language bindings but\n",
      "  passed down to XGBoost core.  Or some parameters are not used but slip through this\n",
      "  verification. Please open an issue if you find above cases.\n",
      "\n",
      "\n",
      "0.9947098489054376\n",
      "{'booster': 'gbtree', 'colsample_bytree': 0.6, 'early_stopping_rounds': 20, 'eval_metric': 'rmse', 'eval_set': [                 Ice1       Ice2       Ice3    u-wind    v-wind  pressure  \\\n",
      "Date                                                                        \n",
      "2011-01-01  90.160346  89.930617  93.241438  0.494847  0.702764  0.300207   \n",
      "2011-01-02  90.160346  90.160346  89.930617  0.761438  0.670542  0.419040   \n",
      "2011-01-03  85.904482  90.160346  90.160346  0.656702  0.591091  0.508692   \n",
      "2011-01-04  79.836571  85.904482  90.160346  0.519295  0.520480  0.421384   \n",
      "2011-01-05  82.417372  79.836571  85.904482  0.617125  0.544239  0.443924   \n",
      "...               ...        ...        ...       ...       ...       ...   \n",
      "2015-12-27   0.000000   0.648664   0.648664  0.492106  0.301649  0.661901   \n",
      "2015-12-28   3.459539   0.000000   0.648664  0.334015  0.379721  0.850112   \n",
      "2015-12-29   0.972933   3.459539   0.000000  0.153413  0.398009  0.533654   \n",
      "2015-12-30   4.621434   0.972933   3.459539  0.385640  0.460783  0.595687   \n",
      "2015-12-31  10.998947   4.621434   0.972933  0.632266  0.523063  0.554592   \n",
      "\n",
      "            humidity  temperature   u-wind1   v-wind1  ...     EPNP1  \\\n",
      "Date                                                   ...             \n",
      "2011-01-01  0.549565     0.513129  0.386250  0.716494  ...  0.431933   \n",
      "2011-01-02  0.205217     0.319676  0.494847  0.702764  ...  0.364706   \n",
      "2011-01-03  0.165217     0.342083  0.761438  0.670542  ...  0.364706   \n",
      "2011-01-04  0.286957     0.354067  0.656702  0.591091  ...  0.364706   \n",
      "2011-01-05  0.250435     0.349298  0.519295  0.520480  ...  0.364706   \n",
      "...              ...          ...       ...       ...  ...       ...   \n",
      "2015-12-27  0.533913     0.451492  0.466513  0.494760  ...  0.431933   \n",
      "2015-12-28  0.212174     0.327819  0.492106  0.301649  ...  0.431933   \n",
      "2015-12-29  0.622609     0.341707  0.334015  0.379721  ...  0.431933   \n",
      "2015-12-30  0.495652     0.372027  0.153413  0.398009  ...  0.431933   \n",
      "2015-12-31  0.452174     0.404085  0.385640  0.460783  ...  0.431933   \n",
      "\n",
      "                SOI1      NAO2      PNA2     EPNP2      SOI2      NAO3  \\\n",
      "Date                                                                     \n",
      "2011-01-01  1.000000  0.232517  0.110619  0.431933  1.000000  0.232517   \n",
      "2011-01-02  0.900000  0.232517  0.110619  0.431933  1.000000  0.232517   \n",
      "2011-01-03  0.900000  0.402098  0.789823  0.364706  0.900000  0.232517   \n",
      "2011-01-04  0.900000  0.402098  0.789823  0.364706  0.900000  0.402098   \n",
      "2011-01-05  0.900000  0.402098  0.789823  0.364706  0.900000  0.402098   \n",
      "...              ...       ...       ...       ...       ...       ...   \n",
      "2015-12-27  0.416667  0.947552  0.676991  0.431933  0.416667  0.947552   \n",
      "2015-12-28  0.416667  0.947552  0.676991  0.431933  0.416667  0.947552   \n",
      "2015-12-29  0.416667  0.947552  0.676991  0.431933  0.416667  0.947552   \n",
      "2015-12-30  0.416667  0.947552  0.676991  0.431933  0.416667  0.947552   \n",
      "2015-12-31  0.416667  0.947552  0.676991  0.431933  0.416667  0.947552   \n",
      "\n",
      "                PNA3     EPNP3      SOI3  \n",
      "Date                                      \n",
      "2011-01-01  0.110619  0.431933  1.000000  \n",
      "2011-01-02  0.110619  0.431933  1.000000  \n",
      "2011-01-03  0.110619  0.431933  1.000000  \n",
      "2011-01-04  0.789823  0.364706  0.900000  \n",
      "2011-01-05  0.789823  0.364706  0.900000  \n",
      "...              ...       ...       ...  \n",
      "2015-12-27  0.676991  0.431933  0.416667  \n",
      "2015-12-28  0.676991  0.431933  0.416667  \n",
      "2015-12-29  0.676991  0.431933  0.416667  \n",
      "2015-12-30  0.676991  0.431933  0.416667  \n",
      "2015-12-31  0.676991  0.431933  0.416667  \n",
      "\n",
      "[1826 rows x 47 columns], Date\n",
      "2011-01-01    90.160346\n",
      "2011-01-02    85.904482\n",
      "2011-01-03    79.836571\n",
      "2011-01-04    82.417372\n",
      "2011-01-05    79.971685\n",
      "                ...    \n",
      "2015-12-27     3.459539\n",
      "2015-12-28     0.972933\n",
      "2015-12-29     4.621434\n",
      "2015-12-30    10.998947\n",
      "2015-12-31    16.742850\n",
      "Name: Ice, Length: 1826, dtype: float64], 'learning_rate': 0.005, 'max_depth': 3, 'n_estimators': 1500, 'objective': 'reg:squarederror', 'subsample': 0.6}\n",
      "Time to train = 337.09 seconds\n"
     ]
    }
   ],
   "source": [
    "# Running the XGBoost regressor with a wide range of hyper parameters and timeseries split\n",
    "import time\n",
    "t0 = time.time()\n",
    "\n",
    "xgb1 = xgb.XGBRegressor()\n",
    "parameters = {'objective' : ['reg:squarederror'],\n",
    "              #'objective':['reg:tweedie'],\n",
    "              'booster': ['gbtree', 'gblinear'],\n",
    "              'early_stopping_rounds' : [20],\n",
    "              'learning_rate': [0.005],\n",
    "              'max_depth': [3],\n",
    "              'subsample': [0.5, 0.6, 0.7],\n",
    "              'colsample_bytree': [0.5, 0.6],\n",
    "              'n_estimators': [1500],\n",
    "              'eval_metric' : ['rmse'],\n",
    "              'eval_set' : [[X_valid, y_valid]]}\n",
    "\n",
    "tscv = TimeSeriesSplit(n_splits=10)\n",
    "\n",
    "xgb_grid = GridSearchCV(xgb1,\n",
    "                        parameters,\n",
    "                        n_jobs = -1,\n",
    "                        cv = tscv,\n",
    "                        verbose=True)\n",
    "\n",
    "xgb_grid.fit(X_train, y_train)\n",
    "\n",
    "tF = time.time()\n",
    "\n",
    "print(xgb_grid.best_score_)\n",
    "print(xgb_grid.best_params_)\n",
    "\n",
    "print('Time to train = %.2f seconds' % (tF - t0))"
   ]
  },
  {
   "cell_type": "code",
   "execution_count": 57,
   "metadata": {},
   "outputs": [
    {
     "name": "stdout",
     "output_type": "stream",
     "text": [
      "0.8233428477513919\n",
      "2.0682420160765833\n"
     ]
    }
   ],
   "source": [
    "# Predicting on the Training data and calculating the mean absolute error\n",
    "\n",
    "y_train_pred = xgb_grid.predict(X_train)\n",
    "\n",
    "print(mean_absolute_error(y_train, y_train_pred))\n",
    "print(math.sqrt(mean_squared_error(y_train, y_train_pred)))"
   ]
  },
  {
   "cell_type": "code",
   "execution_count": 58,
   "metadata": {},
   "outputs": [
    {
     "name": "stdout",
     "output_type": "stream",
     "text": [
      "1.3405807415717583\n",
      "4.098970066527247\n"
     ]
    }
   ],
   "source": [
    "# Predicting on the Validation data and calculating the mean absolute error\n",
    "\n",
    "y_valid_pred = xgb_grid.predict(X_valid)\n",
    "\n",
    "print(mean_absolute_error(y_valid, y_valid_pred))\n",
    "print(math.sqrt(mean_squared_error(y_valid, y_valid_pred)))"
   ]
  },
  {
   "cell_type": "code",
   "execution_count": 59,
   "metadata": {},
   "outputs": [
    {
     "name": "stdout",
     "output_type": "stream",
     "text": [
      "1.5916996995074646\n",
      "3.876240320471173\n"
     ]
    }
   ],
   "source": [
    "# Predicting on the test data and calculating the mean absolute error\n",
    "\n",
    "y_test_pred = xgb_grid.predict(X_test)\n",
    "\n",
    "print(mean_absolute_error(y_test, y_test_pred))\n",
    "print(math.sqrt(mean_squared_error(y_test, y_test_pred)))"
   ]
  },
  {
   "cell_type": "code",
   "execution_count": 60,
   "metadata": {},
   "outputs": [
    {
     "data": {
      "text/plain": [
       "<AxesSubplot:ylabel='feature'>"
      ]
     },
     "execution_count": 60,
     "metadata": {},
     "output_type": "execute_result"
    },
    {
     "data": {
      "image/png": "[encoded data removed]",
      "text/plain": [
       "<Figure size 1440x1080 with 1 Axes>"
      ]
     },
     "metadata": {
      "needs_background": "light"
     },
     "output_type": "display_data"
    }
   ],
   "source": [
    "# Calculating variable importance as per the XGBoost model.\n",
    "\n",
    "var_importance = pd.DataFrame(xgb_grid.best_estimator_.feature_importances_)\n",
    "features = pd.DataFrame(X_test.columns)\n",
    "df_var_imp = pd.concat([features, var_importance], axis = 1)\n",
    "df_var_imp.columns = ['feature', 'importance']\n",
    "df_var_imp = df_var_imp.sort_values(by = ['importance'], ascending = False)\n",
    "df_var_imp = df_var_imp.set_index(['feature'])\n",
    "\n",
    "# Displaying the variable importance\n",
    "\n",
    "%matplotlib inline\n",
    "fig, ax = plt.subplots(figsize=(20, 15))\n",
    "#plt.figure(figsize=(10,10))\n",
    "df_var_imp['importance'].plot(kind = 'barh')"
   ]
  },
  {
   "cell_type": "code",
   "execution_count": 61,
   "metadata": {},
   "outputs": [
    {
     "name": "stderr",
     "output_type": "stream",
     "text": [
      "<ipython-input-61-785c215a319c>:3: SettingWithCopyWarning: \n",
      "A value is trying to be set on a copy of a slice from a DataFrame.\n",
      "Try using .loc[row_indexer,col_indexer] = value instead\n",
      "\n",
      "See the caveats in the documentation: https://pandas.pydata.org/pandas-docs/stable/user_guide/indexing.html#returning-a-view-versus-a-copy\n",
      "  X_train['Ice'] = y_train\n",
      "<ipython-input-61-785c215a319c>:4: SettingWithCopyWarning: \n",
      "A value is trying to be set on a copy of a slice from a DataFrame.\n",
      "Try using .loc[row_indexer,col_indexer] = value instead\n",
      "\n",
      "See the caveats in the documentation: https://pandas.pydata.org/pandas-docs/stable/user_guide/indexing.html#returning-a-view-versus-a-copy\n",
      "  X_train['Ice_pred'] = y_train_pred\n"
     ]
    },
    {
     "data": {
      "text/plain": [
       "<matplotlib.legend.Legend at 0x1ea6a1c3dc0>"
      ]
     },
     "execution_count": 61,
     "metadata": {},
     "output_type": "execute_result"
    },
    {
     "data": {
      "image/png": "[encoded data removed]",
      "text/plain": [
       "<Figure size 1080x576 with 1 Axes>"
      ]
     },
     "metadata": {
      "needs_background": "light"
     },
     "output_type": "display_data"
    }
   ],
   "source": [
    "# Overlaying the training predictions on top of training data\n",
    "\n",
    "X_train['Ice'] = y_train\n",
    "X_train['Ice_pred'] = y_train_pred\n",
    "\n",
    "plt.figure(figsize=(15,8))\n",
    "X_train['Ice'].plot(label = 'actual ice cover', color = 'black')\n",
    "X_train['Ice_pred'].plot(label = 'predicted ice cover', color = 'red')\n",
    "plt.legend(loc=\"upper right\")"
   ]
  },
  {
   "cell_type": "code",
   "execution_count": 62,
   "metadata": {},
   "outputs": [
    {
     "name": "stderr",
     "output_type": "stream",
     "text": [
      "<ipython-input-62-03a5112f9934>:3: SettingWithCopyWarning: \n",
      "A value is trying to be set on a copy of a slice from a DataFrame.\n",
      "Try using .loc[row_indexer,col_indexer] = value instead\n",
      "\n",
      "See the caveats in the documentation: https://pandas.pydata.org/pandas-docs/stable/user_guide/indexing.html#returning-a-view-versus-a-copy\n",
      "  X_valid['Ice'] = y_valid\n",
      "<ipython-input-62-03a5112f9934>:4: SettingWithCopyWarning: \n",
      "A value is trying to be set on a copy of a slice from a DataFrame.\n",
      "Try using .loc[row_indexer,col_indexer] = value instead\n",
      "\n",
      "See the caveats in the documentation: https://pandas.pydata.org/pandas-docs/stable/user_guide/indexing.html#returning-a-view-versus-a-copy\n",
      "  X_valid['Ice_pred'] = y_valid_pred\n"
     ]
    },
    {
     "data": {
      "text/plain": [
       "<matplotlib.legend.Legend at 0x1ea6a56cf10>"
      ]
     },
     "execution_count": 62,
     "metadata": {},
     "output_type": "execute_result"
    },
    {
     "data": {
      "image/png": "[encoded data removed]",
      "text/plain": [
       "<Figure size 1080x576 with 1 Axes>"
      ]
     },
     "metadata": {
      "needs_background": "light"
     },
     "output_type": "display_data"
    }
   ],
   "source": [
    "# Overlaying the training predictions on top of validation data\n",
    "\n",
    "X_valid['Ice'] = y_valid\n",
    "X_valid['Ice_pred'] = y_valid_pred\n",
    "\n",
    "plt.figure(figsize=(15,8))\n",
    "X_valid['Ice'].plot(label = 'actual ice cover', color = 'black')\n",
    "X_valid['Ice_pred'].plot(label = 'predicted ice cover', color = 'red')\n",
    "plt.legend(loc=\"upper right\")"
   ]
  },
  {
   "cell_type": "code",
   "execution_count": 63,
   "metadata": {},
   "outputs": [
    {
     "name": "stderr",
     "output_type": "stream",
     "text": [
      "<ipython-input-63-57b7eda339b9>:3: SettingWithCopyWarning: \n",
      "A value is trying to be set on a copy of a slice from a DataFrame.\n",
      "Try using .loc[row_indexer,col_indexer] = value instead\n",
      "\n",
      "See the caveats in the documentation: https://pandas.pydata.org/pandas-docs/stable/user_guide/indexing.html#returning-a-view-versus-a-copy\n",
      "  X_test['Ice'] = y_test\n",
      "<ipython-input-63-57b7eda339b9>:4: SettingWithCopyWarning: \n",
      "A value is trying to be set on a copy of a slice from a DataFrame.\n",
      "Try using .loc[row_indexer,col_indexer] = value instead\n",
      "\n",
      "See the caveats in the documentation: https://pandas.pydata.org/pandas-docs/stable/user_guide/indexing.html#returning-a-view-versus-a-copy\n",
      "  X_test['Ice_pred'] = y_test_pred\n"
     ]
    },
    {
     "data": {
      "text/plain": [
       "<matplotlib.legend.Legend at 0x1ea6a65c670>"
      ]
     },
     "execution_count": 63,
     "metadata": {},
     "output_type": "execute_result"
    },
    {
     "data": {
      "image/png": "[encoded data removed]",
      "text/plain": [
       "<Figure size 1080x576 with 1 Axes>"
      ]
     },
     "metadata": {
      "needs_background": "light"
     },
     "output_type": "display_data"
    }
   ],
   "source": [
    "# Overlaying the training predictions on top of validation data\n",
    "\n",
    "X_test['Ice'] = y_test\n",
    "X_test['Ice_pred'] = y_test_pred\n",
    "\n",
    "plt.figure(figsize=(15,8))\n",
    "X_test['Ice'].plot(label = 'actual ice cover', color = 'black')\n",
    "X_test['Ice_pred'].plot(label = 'predicted ice cover', color = 'red')\n",
    "plt.legend(loc=\"upper right\")"
   ]
  },
  {
   "cell_type": "code",
   "execution_count": 64,
   "metadata": {},
   "outputs": [
    {
     "data": {
      "text/plain": [
       "Index(['Ice', 'Ice1', 'Ice2', 'Ice3', 'u-wind', 'v-wind', 'pressure',\n",
       "       'humidity', 'temperature', 'u-wind1', 'v-wind1', 'pressure1',\n",
       "       'humidity1', 'temperature1', 'u-wind2', 'v-wind2', 'pressure2',\n",
       "       'humidity2', 'temperature2', 'u-wind3', 'v-wind3', 'pressure3',\n",
       "       'humidity3', 'temperature3', 'Sup.', 'Huron', 'Sup.1', 'Huron1',\n",
       "       'Sup.2', 'Huron2', 'Sup.3', 'Huron3', 'NAO', 'PNA', 'EPNP', 'SOI',\n",
       "       'NAO1', 'PNA1', 'EPNP1', 'SOI1', 'NAO2', 'PNA2', 'EPNP2', 'SOI2',\n",
       "       'NAO3', 'PNA3', 'EPNP3', 'SOI3'],\n",
       "      dtype='object')"
      ]
     },
     "execution_count": 64,
     "metadata": {},
     "output_type": "execute_result"
    }
   ],
   "source": [
    "df_data.columns"
   ]
  },
  {
   "cell_type": "code",
   "execution_count": 65,
   "metadata": {},
   "outputs": [
    {
     "name": "stdout",
     "output_type": "stream",
     "text": [
      "(9528, 47) (9528,)\n",
      "(1, 47) (1,)\n",
      "Fitting 10 folds for each of 2 candidates, totalling 20 fits\n",
      "[09:30:51] WARNING: ..\\src\\learner.cc:541: \n",
      "Parameters: { early_stopping_rounds, eval_set } might not be used.\n",
      "\n",
      "  This may not be accurate due to some parameters are only used in language bindings but\n",
      "  passed down to XGBoost core.  Or some parameters are not used but slip through this\n",
      "  verification. Please open an issue if you find above cases.\n",
      "\n",
      "\n",
      "0.9918888760998128\n",
      "{'booster': 'gbtree', 'colsample_bytree': 0.5, 'early_stopping_rounds': 20, 'eval_metric': 'rmse', 'eval_set': [                 Ice1       Ice2       Ice3    u-wind    v-wind  pressure  \\\n",
      "Date                                                                        \n",
      "2011-01-01  90.160346  89.930617  93.241438  0.494847  0.702764  0.300207   \n",
      "2011-01-02  90.160346  90.160346  89.930617  0.761438  0.670542  0.419040   \n",
      "2011-01-03  85.904482  90.160346  90.160346  0.656702  0.591091  0.508692   \n",
      "2011-01-04  79.836571  85.904482  90.160346  0.519295  0.520480  0.421384   \n",
      "2011-01-05  82.417372  79.836571  85.904482  0.617125  0.544239  0.443924   \n",
      "...               ...        ...        ...       ...       ...       ...   \n",
      "2015-12-27   0.000000   0.648664   0.648664  0.492106  0.301649  0.661901   \n",
      "2015-12-28   3.459539   0.000000   0.648664  0.334015  0.379721  0.850112   \n",
      "2015-12-29   0.972933   3.459539   0.000000  0.153413  0.398009  0.533654   \n",
      "2015-12-30   4.621434   0.972933   3.459539  0.385640  0.460783  0.595687   \n",
      "2015-12-31  10.998947   4.621434   0.972933  0.632266  0.523063  0.554592   \n",
      "\n",
      "            humidity  temperature   u-wind1   v-wind1  ...      NAO2  \\\n",
      "Date                                                   ...             \n",
      "2011-01-01  0.549565     0.513129  0.386250  0.716494  ...  0.232517   \n",
      "2011-01-02  0.205217     0.319676  0.494847  0.702764  ...  0.232517   \n",
      "2011-01-03  0.165217     0.342083  0.761438  0.670542  ...  0.402098   \n",
      "2011-01-04  0.286957     0.354067  0.656702  0.591091  ...  0.402098   \n",
      "2011-01-05  0.250435     0.349298  0.519295  0.520480  ...  0.402098   \n",
      "...              ...          ...       ...       ...  ...       ...   \n",
      "2015-12-27  0.533913     0.451492  0.466513  0.494760  ...  0.947552   \n",
      "2015-12-28  0.212174     0.327819  0.492106  0.301649  ...  0.947552   \n",
      "2015-12-29  0.622609     0.341707  0.334015  0.379721  ...  0.947552   \n",
      "2015-12-30  0.495652     0.372027  0.153413  0.398009  ...  0.947552   \n",
      "2015-12-31  0.452174     0.404085  0.385640  0.460783  ...  0.947552   \n",
      "\n",
      "                PNA2     EPNP2      SOI2      NAO3      PNA3     EPNP3  \\\n",
      "Date                                                                     \n",
      "2011-01-01  0.110619  0.431933  1.000000  0.232517  0.110619  0.431933   \n",
      "2011-01-02  0.110619  0.431933  1.000000  0.232517  0.110619  0.431933   \n",
      "2011-01-03  0.789823  0.364706  0.900000  0.232517  0.110619  0.431933   \n",
      "2011-01-04  0.789823  0.364706  0.900000  0.402098  0.789823  0.364706   \n",
      "2011-01-05  0.789823  0.364706  0.900000  0.402098  0.789823  0.364706   \n",
      "...              ...       ...       ...       ...       ...       ...   \n",
      "2015-12-27  0.676991  0.431933  0.416667  0.947552  0.676991  0.431933   \n",
      "2015-12-28  0.676991  0.431933  0.416667  0.947552  0.676991  0.431933   \n",
      "2015-12-29  0.676991  0.431933  0.416667  0.947552  0.676991  0.431933   \n",
      "2015-12-30  0.676991  0.431933  0.416667  0.947552  0.676991  0.431933   \n",
      "2015-12-31  0.676991  0.431933  0.416667  0.947552  0.676991  0.431933   \n",
      "\n",
      "                SOI3        Ice   Ice_pred  \n",
      "Date                                        \n",
      "2011-01-01  1.000000  90.160346  87.008667  \n",
      "2011-01-02  1.000000  85.904482  88.098976  \n",
      "2011-01-03  1.000000  79.836571  85.341965  \n",
      "2011-01-04  0.900000  82.417372  80.977638  \n",
      "2011-01-05  0.900000  79.971685  84.127876  \n",
      "...              ...        ...        ...  \n",
      "2015-12-27  0.416667   3.459539   0.185236  \n",
      "2015-12-28  0.416667   0.972933   2.382342  \n",
      "2015-12-29  0.416667   4.621434   2.844104  \n",
      "2015-12-30  0.416667  10.998947   5.580397  \n",
      "2015-12-31  0.416667  16.742850  10.033165  \n",
      "\n",
      "[1826 rows x 49 columns], Date\n",
      "2011-01-01    90.160346\n",
      "2011-01-02    85.904482\n",
      "2011-01-03    79.836571\n",
      "2011-01-04    82.417372\n",
      "2011-01-05    79.971685\n",
      "                ...    \n",
      "2015-12-27     3.459539\n",
      "2015-12-28     0.972933\n",
      "2015-12-29     4.621434\n",
      "2015-12-30    10.998947\n",
      "2015-12-31    16.742850\n",
      "Name: Ice, Length: 1826, dtype: float64], 'learning_rate': 0.005, 'max_depth': 3, 'n_estimators': 1500, 'objective': 'reg:squarederror', 'subsample': 0.5}\n"
     ]
    }
   ],
   "source": [
    "### XGBoost model to forecast the ice for the next 7 days. Here we select 2019-02-01 as the split date\n",
    "\n",
    "split_date = '2021-02-01'\n",
    "\n",
    "df_data_train = df_data.loc[df_data.index < split_date].copy()\n",
    "df_data_test = df_data.loc[df_data.index == split_date].copy()\n",
    "\n",
    "X_train = df_data_train.drop(['Ice'], axis = 1)\n",
    "X_test = df_data_test.drop(['Ice'], axis = 1)\n",
    "y_train = df_data_train['Ice']\n",
    "y_test = df_data_test['Ice']\n",
    "\n",
    "print(X_train.shape, y_train.shape)\n",
    "print(X_test.shape, y_test.shape)\n",
    "\n",
    "xgb1 = xgb.XGBRegressor()\n",
    "parameters = {'objective' : ['reg:squarederror'],\n",
    "              #'objective':['reg:tweedie'],\n",
    "              'booster': ['gbtree', 'gblinear'],\n",
    "              'early_stopping_rounds' : [20],\n",
    "              'learning_rate': [0.005],\n",
    "              'max_depth': [3],\n",
    "              'subsample': [0.5],\n",
    "              'colsample_bytree': [0.5],\n",
    "              'n_estimators': [1500],\n",
    "              'eval_metric' : ['rmse'],\n",
    "              'eval_set' : [[X_valid, y_valid]]}\n",
    "\n",
    "tscv = TimeSeriesSplit(n_splits=10)\n",
    "\n",
    "xgb_grid = GridSearchCV(xgb1,\n",
    "                        parameters,\n",
    "                        n_jobs = -1,\n",
    "                        cv = tscv,\n",
    "                        verbose=True)\n",
    "\n",
    "xgb_grid.fit(X_train, y_train)\n",
    "\n",
    "print(xgb_grid.best_score_)\n",
    "print(xgb_grid.best_params_)"
   ]
  },
  {
   "cell_type": "code",
   "execution_count": 66,
   "metadata": {},
   "outputs": [
    {
     "data": {
      "text/plain": [
       "array([89.485504], dtype=float32)"
      ]
     },
     "execution_count": 66,
     "metadata": {},
     "output_type": "execute_result"
    }
   ],
   "source": [
    "### Predict ice cover on the day of the test data\n",
    "\n",
    "y_test_pred = xgb_grid.predict(X_test)\n",
    "\n",
    "y_test_pred"
   ]
  },
  {
   "cell_type": "code",
   "execution_count": 67,
   "metadata": {},
   "outputs": [
    {
     "data": {
      "text/plain": [
       "Date\n",
       "2021-02-01    91.106271\n",
       "Name: Ice, dtype: float64"
      ]
     },
     "execution_count": 67,
     "metadata": {},
     "output_type": "execute_result"
    }
   ],
   "source": [
    "### Actual ice cover on the day of the test data\n",
    "\n",
    "y_test"
   ]
  },
  {
   "cell_type": "code",
   "execution_count": 68,
   "metadata": {},
   "outputs": [
    {
     "name": "stdout",
     "output_type": "stream",
     "text": [
      "1.6207669644742424\n"
     ]
    }
   ],
   "source": [
    "## calculating the mean absolute error\n",
    "\n",
    "print(mean_absolute_error(y_test, y_test_pred))"
   ]
  },
  {
   "cell_type": "code",
   "execution_count": 69,
   "metadata": {},
   "outputs": [
    {
     "name": "stdout",
     "output_type": "stream",
     "text": [
      "2021-02-02 Date\n",
      "2021-02-02    89.67481\n",
      "Name: Ice, dtype: float64 [89.01145]\n",
      "2021-02-03 Date\n",
      "2021-02-03    93.026478\n",
      "Name: Ice, dtype: float64 [88.56412]\n",
      "2021-02-04 Date\n",
      "2021-02-04    93.026478\n",
      "Name: Ice, dtype: float64 [88.13323]\n",
      "2021-02-05 Date\n",
      "2021-02-05    84.3233\n",
      "Name: Ice, dtype: float64 [88.1195]\n",
      "2021-02-06 Date\n",
      "2021-02-06    87.133699\n",
      "Name: Ice, dtype: float64 [88.08629]\n",
      "2021-02-07 Date\n",
      "2021-02-07    89.512511\n",
      "Name: Ice, dtype: float64 [88.08725]\n",
      "2021-02-08 Date\n",
      "2021-02-08    90.16137\n",
      "Name: Ice, dtype: float64 [88.08725]\n"
     ]
    }
   ],
   "source": [
    "######### Using the predicted value on any date as ground truth and then forecast for next 5 days #################\n",
    "\n",
    "from datetime import datetime, timedelta\n",
    "\n",
    "for i in range(1, 8):\n",
    "    X_test['Ice3'] = X_test['Ice2']\n",
    "    X_test['Ice2'] = X_test['Ice1']\n",
    "    X_test['Ice1'] = y_test_pred\n",
    "    \n",
    "    res = (datetime.strptime(split_date, '%Y-%m-%d') + timedelta(days=i)).strftime('%Y-%m-%d')\n",
    "    \n",
    "    df_data_test = df_data.loc[df_data.index == res].copy()\n",
    "    \n",
    "    y_test = df_data_test['Ice']\n",
    "    \n",
    "    y_test_pred = xgb_grid.predict(X_test)\n",
    "    \n",
    "    print(res, y_test, y_test_pred)"
   ]
  },
  {
   "cell_type": "code",
   "execution_count": 70,
   "metadata": {},
   "outputs": [
    {
     "name": "stdout",
     "output_type": "stream",
     "text": [
      "2.0741205988703513\n"
     ]
    }
   ],
   "source": [
    "print(mean_absolute_error(y_test, y_test_pred))"
   ]
  },
  {
   "cell_type": "code",
   "execution_count": 71,
   "metadata": {},
   "outputs": [
    {
     "data": {
      "text/html": [
       "<div>\n",
       "<style scoped>\n",
       "    .dataframe tbody tr th:only-of-type {\n",
       "        vertical-align: middle;\n",
       "    }\n",
       "\n",
       "    .dataframe tbody tr th {\n",
       "        vertical-align: top;\n",
       "    }\n",
       "\n",
       "    .dataframe thead th {\n",
       "        text-align: right;\n",
       "    }\n",
       "</style>\n",
       "<table border=\"1\" class=\"dataframe\">\n",
       "  <thead>\n",
       "    <tr style=\"text-align: right;\">\n",
       "      <th></th>\n",
       "      <th>Ice1</th>\n",
       "      <th>Ice2</th>\n",
       "      <th>Ice3</th>\n",
       "      <th>u-wind</th>\n",
       "      <th>v-wind</th>\n",
       "      <th>pressure</th>\n",
       "      <th>humidity</th>\n",
       "      <th>temperature</th>\n",
       "      <th>u-wind1</th>\n",
       "      <th>v-wind1</th>\n",
       "      <th>...</th>\n",
       "      <th>EPNP1</th>\n",
       "      <th>SOI1</th>\n",
       "      <th>NAO2</th>\n",
       "      <th>PNA2</th>\n",
       "      <th>EPNP2</th>\n",
       "      <th>SOI2</th>\n",
       "      <th>NAO3</th>\n",
       "      <th>PNA3</th>\n",
       "      <th>EPNP3</th>\n",
       "      <th>SOI3</th>\n",
       "    </tr>\n",
       "    <tr>\n",
       "      <th>Date</th>\n",
       "      <th></th>\n",
       "      <th></th>\n",
       "      <th></th>\n",
       "      <th></th>\n",
       "      <th></th>\n",
       "      <th></th>\n",
       "      <th></th>\n",
       "      <th></th>\n",
       "      <th></th>\n",
       "      <th></th>\n",
       "      <th></th>\n",
       "      <th></th>\n",
       "      <th></th>\n",
       "      <th></th>\n",
       "      <th></th>\n",
       "      <th></th>\n",
       "      <th></th>\n",
       "      <th></th>\n",
       "      <th></th>\n",
       "      <th></th>\n",
       "      <th></th>\n",
       "    </tr>\n",
       "  </thead>\n",
       "  <tbody>\n",
       "    <tr>\n",
       "      <th>2021-02-01</th>\n",
       "      <td>88.08725</td>\n",
       "      <td>88.086288</td>\n",
       "      <td>88.119499</td>\n",
       "      <td>0.400977</td>\n",
       "      <td>0.42933</td>\n",
       "      <td>0.666745</td>\n",
       "      <td>0.18087</td>\n",
       "      <td>0.327677</td>\n",
       "      <td>0.271037</td>\n",
       "      <td>0.515908</td>\n",
       "      <td>...</td>\n",
       "      <td>0.315966</td>\n",
       "      <td>0.833333</td>\n",
       "      <td>0.361888</td>\n",
       "      <td>0.54646</td>\n",
       "      <td>0.315966</td>\n",
       "      <td>0.833333</td>\n",
       "      <td>0.361888</td>\n",
       "      <td>0.54646</td>\n",
       "      <td>0.315966</td>\n",
       "      <td>0.833333</td>\n",
       "    </tr>\n",
       "  </tbody>\n",
       "</table>\n",
       "<p>1 rows × 47 columns</p>\n",
       "</div>"
      ],
      "text/plain": [
       "                Ice1       Ice2       Ice3    u-wind   v-wind  pressure  \\\n",
       "Date                                                                      \n",
       "2021-02-01  88.08725  88.086288  88.119499  0.400977  0.42933  0.666745   \n",
       "\n",
       "            humidity  temperature   u-wind1   v-wind1  ...     EPNP1  \\\n",
       "Date                                                   ...             \n",
       "2021-02-01   0.18087     0.327677  0.271037  0.515908  ...  0.315966   \n",
       "\n",
       "                SOI1      NAO2     PNA2     EPNP2      SOI2      NAO3  \\\n",
       "Date                                                                    \n",
       "2021-02-01  0.833333  0.361888  0.54646  0.315966  0.833333  0.361888   \n",
       "\n",
       "               PNA3     EPNP3      SOI3  \n",
       "Date                                     \n",
       "2021-02-01  0.54646  0.315966  0.833333  \n",
       "\n",
       "[1 rows x 47 columns]"
      ]
     },
     "execution_count": 71,
     "metadata": {},
     "output_type": "execute_result"
    }
   ],
   "source": [
    "X_test"
   ]
  },
  {
   "cell_type": "markdown",
   "metadata": {},
   "source": [
    "### Using Sherpa library for Hyperparameter Optimization"
   ]
  },
  {
   "cell_type": "code",
   "execution_count": 72,
   "metadata": {},
   "outputs": [
    {
     "name": "stdout",
     "output_type": "stream",
     "text": [
      "Trial  1  with parameters  {'n_estimators': 4, 'criterion': 'entropy', 'max_features': 0.23927978340701747}\n",
      "Score:  nan\n"
     ]
    },
    {
     "ename": "KeyError",
     "evalue": "nan",
     "output_type": "error",
     "traceback": [
      "\u001b[1;31m---------------------------------------------------------------------------\u001b[0m",
      "\u001b[1;31mKeyError\u001b[0m                                  Traceback (most recent call last)",
      "\u001b[1;32m~\\anaconda3\\lib\\site-packages\\pandas\\core\\indexes\\base.py\u001b[0m in \u001b[0;36mget_loc\u001b[1;34m(self, key, method, tolerance)\u001b[0m\n\u001b[0;32m   3079\u001b[0m             \u001b[1;32mtry\u001b[0m\u001b[1;33m:\u001b[0m\u001b[1;33m\u001b[0m\u001b[1;33m\u001b[0m\u001b[0m\n\u001b[1;32m-> 3080\u001b[1;33m                 \u001b[1;32mreturn\u001b[0m \u001b[0mself\u001b[0m\u001b[1;33m.\u001b[0m\u001b[0m_engine\u001b[0m\u001b[1;33m.\u001b[0m\u001b[0mget_loc\u001b[0m\u001b[1;33m(\u001b[0m\u001b[0mcasted_key\u001b[0m\u001b[1;33m)\u001b[0m\u001b[1;33m\u001b[0m\u001b[1;33m\u001b[0m\u001b[0m\n\u001b[0m\u001b[0;32m   3081\u001b[0m             \u001b[1;32mexcept\u001b[0m \u001b[0mKeyError\u001b[0m \u001b[1;32mas\u001b[0m \u001b[0merr\u001b[0m\u001b[1;33m:\u001b[0m\u001b[1;33m\u001b[0m\u001b[1;33m\u001b[0m\u001b[0m\n",
      "\u001b[1;32mpandas\\_libs\\index.pyx\u001b[0m in \u001b[0;36mpandas._libs.index.IndexEngine.get_loc\u001b[1;34m()\u001b[0m\n",
      "\u001b[1;32mpandas\\_libs\\index.pyx\u001b[0m in \u001b[0;36mpandas._libs.index.IndexEngine.get_loc\u001b[1;34m()\u001b[0m\n",
      "\u001b[1;32mpandas\\_libs\\index_class_helper.pxi\u001b[0m in \u001b[0;36mpandas._libs.index.Int64Engine._check_type\u001b[1;34m()\u001b[0m\n",
      "\u001b[1;31mKeyError\u001b[0m: nan",
      "\nThe above exception was the direct cause of the following exception:\n",
      "\u001b[1;31mKeyError\u001b[0m                                  Traceback (most recent call last)",
      "\u001b[1;32m<ipython-input-72-073274913577>\u001b[0m in \u001b[0;36m<module>\u001b[1;34m\u001b[0m\n\u001b[0;32m     31\u001b[0m     \u001b[0mprint\u001b[0m\u001b[1;33m(\u001b[0m\u001b[1;34m\"Score: \"\u001b[0m\u001b[1;33m,\u001b[0m \u001b[0mscores\u001b[0m\u001b[1;33m.\u001b[0m\u001b[0mmean\u001b[0m\u001b[1;33m(\u001b[0m\u001b[1;33m)\u001b[0m\u001b[1;33m)\u001b[0m\u001b[1;33m\u001b[0m\u001b[1;33m\u001b[0m\u001b[0m\n\u001b[0;32m     32\u001b[0m     \u001b[0mstudy\u001b[0m\u001b[1;33m.\u001b[0m\u001b[0madd_observation\u001b[0m\u001b[1;33m(\u001b[0m\u001b[0mtrial\u001b[0m\u001b[1;33m,\u001b[0m \u001b[0miteration\u001b[0m\u001b[1;33m=\u001b[0m\u001b[1;36m1\u001b[0m\u001b[1;33m,\u001b[0m \u001b[0mobjective\u001b[0m\u001b[1;33m=\u001b[0m\u001b[0mscores\u001b[0m\u001b[1;33m.\u001b[0m\u001b[0mmean\u001b[0m\u001b[1;33m(\u001b[0m\u001b[1;33m)\u001b[0m\u001b[1;33m)\u001b[0m\u001b[1;33m\u001b[0m\u001b[1;33m\u001b[0m\u001b[0m\n\u001b[1;32m---> 33\u001b[1;33m     \u001b[0mstudy\u001b[0m\u001b[1;33m.\u001b[0m\u001b[0mfinalize\u001b[0m\u001b[1;33m(\u001b[0m\u001b[0mtrial\u001b[0m\u001b[1;33m)\u001b[0m\u001b[1;33m\u001b[0m\u001b[1;33m\u001b[0m\u001b[0m\n\u001b[0m\u001b[0;32m     34\u001b[0m     \u001b[0mprint\u001b[0m\u001b[1;33m(\u001b[0m\u001b[0mstudy\u001b[0m\u001b[1;33m.\u001b[0m\u001b[0mget_best_result\u001b[0m\u001b[1;33m(\u001b[0m\u001b[1;33m)\u001b[0m\u001b[1;33m)\u001b[0m\u001b[1;33m\u001b[0m\u001b[1;33m\u001b[0m\u001b[0m\n\u001b[0;32m     35\u001b[0m \u001b[1;33m\u001b[0m\u001b[0m\n",
      "\u001b[1;32m~\\anaconda3\\lib\\site-packages\\sherpa\\core.py\u001b[0m in \u001b[0;36mfinalize\u001b[1;34m(self, trial, status)\u001b[0m\n\u001b[0;32m    185\u001b[0m                     else rows['Objective'].idxmax())\n\u001b[0;32m    186\u001b[0m         \u001b[1;32mtry\u001b[0m\u001b[1;33m:\u001b[0m\u001b[1;33m\u001b[0m\u001b[1;33m\u001b[0m\u001b[0m\n\u001b[1;32m--> 187\u001b[1;33m             \u001b[0mbest_row\u001b[0m \u001b[1;33m=\u001b[0m \u001b[0mrows\u001b[0m\u001b[1;33m.\u001b[0m\u001b[0mloc\u001b[0m\u001b[1;33m[\u001b[0m\u001b[0mbest_idx\u001b[0m\u001b[1;33m]\u001b[0m\u001b[1;33m.\u001b[0m\u001b[0mcopy\u001b[0m\u001b[1;33m(\u001b[0m\u001b[1;33m)\u001b[0m\u001b[1;33m\u001b[0m\u001b[1;33m\u001b[0m\u001b[0m\n\u001b[0m\u001b[0;32m    188\u001b[0m         \u001b[1;32mexcept\u001b[0m \u001b[0mTypeError\u001b[0m\u001b[1;33m:\u001b[0m\u001b[1;33m\u001b[0m\u001b[1;33m\u001b[0m\u001b[0m\n\u001b[0;32m    189\u001b[0m             warnings.warn(\"Could not finalize trial {}. Only NaNs \"\n",
      "\u001b[1;32m~\\anaconda3\\lib\\site-packages\\pandas\\core\\indexing.py\u001b[0m in \u001b[0;36m__getitem__\u001b[1;34m(self, key)\u001b[0m\n\u001b[0;32m    893\u001b[0m \u001b[1;33m\u001b[0m\u001b[0m\n\u001b[0;32m    894\u001b[0m             \u001b[0mmaybe_callable\u001b[0m \u001b[1;33m=\u001b[0m \u001b[0mcom\u001b[0m\u001b[1;33m.\u001b[0m\u001b[0mapply_if_callable\u001b[0m\u001b[1;33m(\u001b[0m\u001b[0mkey\u001b[0m\u001b[1;33m,\u001b[0m \u001b[0mself\u001b[0m\u001b[1;33m.\u001b[0m\u001b[0mobj\u001b[0m\u001b[1;33m)\u001b[0m\u001b[1;33m\u001b[0m\u001b[1;33m\u001b[0m\u001b[0m\n\u001b[1;32m--> 895\u001b[1;33m             \u001b[1;32mreturn\u001b[0m \u001b[0mself\u001b[0m\u001b[1;33m.\u001b[0m\u001b[0m_getitem_axis\u001b[0m\u001b[1;33m(\u001b[0m\u001b[0mmaybe_callable\u001b[0m\u001b[1;33m,\u001b[0m \u001b[0maxis\u001b[0m\u001b[1;33m=\u001b[0m\u001b[0maxis\u001b[0m\u001b[1;33m)\u001b[0m\u001b[1;33m\u001b[0m\u001b[1;33m\u001b[0m\u001b[0m\n\u001b[0m\u001b[0;32m    896\u001b[0m \u001b[1;33m\u001b[0m\u001b[0m\n\u001b[0;32m    897\u001b[0m     \u001b[1;32mdef\u001b[0m \u001b[0m_is_scalar_access\u001b[0m\u001b[1;33m(\u001b[0m\u001b[0mself\u001b[0m\u001b[1;33m,\u001b[0m \u001b[0mkey\u001b[0m\u001b[1;33m:\u001b[0m \u001b[0mTuple\u001b[0m\u001b[1;33m)\u001b[0m\u001b[1;33m:\u001b[0m\u001b[1;33m\u001b[0m\u001b[1;33m\u001b[0m\u001b[0m\n",
      "\u001b[1;32m~\\anaconda3\\lib\\site-packages\\pandas\\core\\indexing.py\u001b[0m in \u001b[0;36m_getitem_axis\u001b[1;34m(self, key, axis)\u001b[0m\n\u001b[0;32m   1122\u001b[0m         \u001b[1;31m# fall thru to straight lookup\u001b[0m\u001b[1;33m\u001b[0m\u001b[1;33m\u001b[0m\u001b[1;33m\u001b[0m\u001b[0m\n\u001b[0;32m   1123\u001b[0m         \u001b[0mself\u001b[0m\u001b[1;33m.\u001b[0m\u001b[0m_validate_key\u001b[0m\u001b[1;33m(\u001b[0m\u001b[0mkey\u001b[0m\u001b[1;33m,\u001b[0m \u001b[0maxis\u001b[0m\u001b[1;33m)\u001b[0m\u001b[1;33m\u001b[0m\u001b[1;33m\u001b[0m\u001b[0m\n\u001b[1;32m-> 1124\u001b[1;33m         \u001b[1;32mreturn\u001b[0m \u001b[0mself\u001b[0m\u001b[1;33m.\u001b[0m\u001b[0m_get_label\u001b[0m\u001b[1;33m(\u001b[0m\u001b[0mkey\u001b[0m\u001b[1;33m,\u001b[0m \u001b[0maxis\u001b[0m\u001b[1;33m=\u001b[0m\u001b[0maxis\u001b[0m\u001b[1;33m)\u001b[0m\u001b[1;33m\u001b[0m\u001b[1;33m\u001b[0m\u001b[0m\n\u001b[0m\u001b[0;32m   1125\u001b[0m \u001b[1;33m\u001b[0m\u001b[0m\n\u001b[0;32m   1126\u001b[0m     \u001b[1;32mdef\u001b[0m \u001b[0m_get_slice_axis\u001b[0m\u001b[1;33m(\u001b[0m\u001b[0mself\u001b[0m\u001b[1;33m,\u001b[0m \u001b[0mslice_obj\u001b[0m\u001b[1;33m:\u001b[0m \u001b[0mslice\u001b[0m\u001b[1;33m,\u001b[0m \u001b[0maxis\u001b[0m\u001b[1;33m:\u001b[0m \u001b[0mint\u001b[0m\u001b[1;33m)\u001b[0m\u001b[1;33m:\u001b[0m\u001b[1;33m\u001b[0m\u001b[1;33m\u001b[0m\u001b[0m\n",
      "\u001b[1;32m~\\anaconda3\\lib\\site-packages\\pandas\\core\\indexing.py\u001b[0m in \u001b[0;36m_get_label\u001b[1;34m(self, label, axis)\u001b[0m\n\u001b[0;32m   1071\u001b[0m     \u001b[1;32mdef\u001b[0m \u001b[0m_get_label\u001b[0m\u001b[1;33m(\u001b[0m\u001b[0mself\u001b[0m\u001b[1;33m,\u001b[0m \u001b[0mlabel\u001b[0m\u001b[1;33m,\u001b[0m \u001b[0maxis\u001b[0m\u001b[1;33m:\u001b[0m \u001b[0mint\u001b[0m\u001b[1;33m)\u001b[0m\u001b[1;33m:\u001b[0m\u001b[1;33m\u001b[0m\u001b[1;33m\u001b[0m\u001b[0m\n\u001b[0;32m   1072\u001b[0m         \u001b[1;31m# GH#5667 this will fail if the label is not present in the axis.\u001b[0m\u001b[1;33m\u001b[0m\u001b[1;33m\u001b[0m\u001b[1;33m\u001b[0m\u001b[0m\n\u001b[1;32m-> 1073\u001b[1;33m         \u001b[1;32mreturn\u001b[0m \u001b[0mself\u001b[0m\u001b[1;33m.\u001b[0m\u001b[0mobj\u001b[0m\u001b[1;33m.\u001b[0m\u001b[0mxs\u001b[0m\u001b[1;33m(\u001b[0m\u001b[0mlabel\u001b[0m\u001b[1;33m,\u001b[0m \u001b[0maxis\u001b[0m\u001b[1;33m=\u001b[0m\u001b[0maxis\u001b[0m\u001b[1;33m)\u001b[0m\u001b[1;33m\u001b[0m\u001b[1;33m\u001b[0m\u001b[0m\n\u001b[0m\u001b[0;32m   1074\u001b[0m \u001b[1;33m\u001b[0m\u001b[0m\n\u001b[0;32m   1075\u001b[0m     \u001b[1;32mdef\u001b[0m \u001b[0m_handle_lowerdim_multi_index_axis0\u001b[0m\u001b[1;33m(\u001b[0m\u001b[0mself\u001b[0m\u001b[1;33m,\u001b[0m \u001b[0mtup\u001b[0m\u001b[1;33m:\u001b[0m \u001b[0mTuple\u001b[0m\u001b[1;33m)\u001b[0m\u001b[1;33m:\u001b[0m\u001b[1;33m\u001b[0m\u001b[1;33m\u001b[0m\u001b[0m\n",
      "\u001b[1;32m~\\anaconda3\\lib\\site-packages\\pandas\\core\\generic.py\u001b[0m in \u001b[0;36mxs\u001b[1;34m(self, key, axis, level, drop_level)\u001b[0m\n\u001b[0;32m   3737\u001b[0m                 \u001b[1;32mraise\u001b[0m \u001b[0mTypeError\u001b[0m\u001b[1;33m(\u001b[0m\u001b[1;34mf\"Expected label or tuple of labels, got {key}\"\u001b[0m\u001b[1;33m)\u001b[0m \u001b[1;32mfrom\u001b[0m \u001b[0me\u001b[0m\u001b[1;33m\u001b[0m\u001b[1;33m\u001b[0m\u001b[0m\n\u001b[0;32m   3738\u001b[0m         \u001b[1;32melse\u001b[0m\u001b[1;33m:\u001b[0m\u001b[1;33m\u001b[0m\u001b[1;33m\u001b[0m\u001b[0m\n\u001b[1;32m-> 3739\u001b[1;33m             \u001b[0mloc\u001b[0m \u001b[1;33m=\u001b[0m \u001b[0mindex\u001b[0m\u001b[1;33m.\u001b[0m\u001b[0mget_loc\u001b[0m\u001b[1;33m(\u001b[0m\u001b[0mkey\u001b[0m\u001b[1;33m)\u001b[0m\u001b[1;33m\u001b[0m\u001b[1;33m\u001b[0m\u001b[0m\n\u001b[0m\u001b[0;32m   3740\u001b[0m \u001b[1;33m\u001b[0m\u001b[0m\n\u001b[0;32m   3741\u001b[0m             \u001b[1;32mif\u001b[0m \u001b[0misinstance\u001b[0m\u001b[1;33m(\u001b[0m\u001b[0mloc\u001b[0m\u001b[1;33m,\u001b[0m \u001b[0mnp\u001b[0m\u001b[1;33m.\u001b[0m\u001b[0mndarray\u001b[0m\u001b[1;33m)\u001b[0m\u001b[1;33m:\u001b[0m\u001b[1;33m\u001b[0m\u001b[1;33m\u001b[0m\u001b[0m\n",
      "\u001b[1;32m~\\anaconda3\\lib\\site-packages\\pandas\\core\\indexes\\base.py\u001b[0m in \u001b[0;36mget_loc\u001b[1;34m(self, key, method, tolerance)\u001b[0m\n\u001b[0;32m   3080\u001b[0m                 \u001b[1;32mreturn\u001b[0m \u001b[0mself\u001b[0m\u001b[1;33m.\u001b[0m\u001b[0m_engine\u001b[0m\u001b[1;33m.\u001b[0m\u001b[0mget_loc\u001b[0m\u001b[1;33m(\u001b[0m\u001b[0mcasted_key\u001b[0m\u001b[1;33m)\u001b[0m\u001b[1;33m\u001b[0m\u001b[1;33m\u001b[0m\u001b[0m\n\u001b[0;32m   3081\u001b[0m             \u001b[1;32mexcept\u001b[0m \u001b[0mKeyError\u001b[0m \u001b[1;32mas\u001b[0m \u001b[0merr\u001b[0m\u001b[1;33m:\u001b[0m\u001b[1;33m\u001b[0m\u001b[1;33m\u001b[0m\u001b[0m\n\u001b[1;32m-> 3082\u001b[1;33m                 \u001b[1;32mraise\u001b[0m \u001b[0mKeyError\u001b[0m\u001b[1;33m(\u001b[0m\u001b[0mkey\u001b[0m\u001b[1;33m)\u001b[0m \u001b[1;32mfrom\u001b[0m \u001b[0merr\u001b[0m\u001b[1;33m\u001b[0m\u001b[1;33m\u001b[0m\u001b[0m\n\u001b[0m\u001b[0;32m   3083\u001b[0m \u001b[1;33m\u001b[0m\u001b[0m\n\u001b[0;32m   3084\u001b[0m         \u001b[1;32mif\u001b[0m \u001b[0mtolerance\u001b[0m \u001b[1;32mis\u001b[0m \u001b[1;32mnot\u001b[0m \u001b[1;32mNone\u001b[0m\u001b[1;33m:\u001b[0m\u001b[1;33m\u001b[0m\u001b[1;33m\u001b[0m\u001b[0m\n",
      "\u001b[1;31mKeyError\u001b[0m: nan"
     ]
    }
   ],
   "source": [
    "from sklearn.ensemble import RandomForestClassifier\n",
    "from sklearn.model_selection import cross_val_score\n",
    "import time\n",
    "import sherpa\n",
    "import sherpa.algorithms.bayesian_optimization as bayesian_optimization\n",
    "\n",
    "parameters = [sherpa.Discrete('n_estimators', [2, 50]),\n",
    "sherpa.Choice('criterion', ['gini', 'entropy']),\n",
    "sherpa.Continuous('max_features', [0.1, 0.9])]\n",
    "\n",
    "algorithm = bayesian_optimization.GPyOpt(max_concurrent=1,\n",
    "model_type='GP_MCMC',\n",
    "acquisition_type='EI_MCMC',\n",
    "max_num_trials=100)\n",
    "\n",
    "#X, y = load_breast_cancer(return_X_y=True)\n",
    "X = df_data.drop(['Ice'], axis = 1) ####### This is to include ice lags\n",
    "y = df_data['Ice']\n",
    "study = sherpa.Study(parameters=parameters,\n",
    "algorithm=algorithm,\n",
    "disable_dashboard=True,\n",
    "lower_is_better=False)\n",
    "\n",
    "for trial in study:\n",
    "    print(\"Trial \", trial.id, \" with parameters \", trial.parameters)\n",
    "    clf = RandomForestClassifier(criterion=trial.parameters['criterion'],\n",
    "    max_features=trial.parameters['max_features'],\n",
    "    n_estimators=trial.parameters['n_estimators'],\n",
    "    random_state=0)\n",
    "    scores = cross_val_score(clf, X, y, cv=5)\n",
    "    print(\"Score: \", scores.mean())\n",
    "    study.add_observation(trial, iteration=1, objective=scores.mean())\n",
    "    study.finalize(trial)\n",
    "    print(study.get_best_result())\n",
    "\n",
    "study.save(\".\")"
   ]
  },
  {
   "cell_type": "code",
   "execution_count": null,
   "metadata": {},
   "outputs": [],
   "source": []
  },
  {
   "cell_type": "code",
   "execution_count": null,
   "metadata": {},
   "outputs": [],
   "source": []
  },
  {
   "cell_type": "code",
   "execution_count": null,
   "metadata": {},
   "outputs": [],
   "source": []
  },
  {
   "cell_type": "code",
   "execution_count": null,
   "metadata": {},
   "outputs": [],
   "source": []
  },
  {
   "cell_type": "code",
   "execution_count": null,
   "metadata": {},
   "outputs": [],
   "source": []
  },
  {
   "cell_type": "code",
   "execution_count": null,
   "metadata": {},
   "outputs": [],
   "source": []
  },
  {
   "cell_type": "code",
   "execution_count": null,
   "metadata": {},
   "outputs": [],
   "source": []
  },
  {
   "cell_type": "code",
   "execution_count": null,
   "metadata": {},
   "outputs": [],
   "source": []
  },
  {
   "cell_type": "code",
   "execution_count": null,
   "metadata": {},
   "outputs": [],
   "source": []
  },
  {
   "cell_type": "code",
   "execution_count": null,
   "metadata": {},
   "outputs": [],
   "source": []
  },
  {
   "cell_type": "markdown",
   "metadata": {
    "id": "4Rc_-BuP-CEd"
   },
   "source": [
    "Checking for Stationarity of the series ice_data1, surface_temp1, climate_ind_d1, meterology1"
   ]
  },
  {
   "cell_type": "code",
   "execution_count": null,
   "metadata": {},
   "outputs": [],
   "source": [
    "meterology1.head()"
   ]
  },
  {
   "cell_type": "code",
   "execution_count": null,
   "metadata": {
    "id": "hMKtQPAo-CEd"
   },
   "outputs": [],
   "source": [
    "meterology1.plot(subplots=True, figsize=(15,6), color='black')"
   ]
  },
  {
   "cell_type": "code",
   "execution_count": null,
   "metadata": {},
   "outputs": [],
   "source": [
    "#Vizualising temperature at granulaity - month\n",
    "ax = meterology1.loc['2020-01-01':'2020-12-31', 'temperature'].plot(marker='o', linestyle='-',color='black')\n",
    "ax.set_ylabel('temperature');"
   ]
  },
  {
   "cell_type": "code",
   "execution_count": null,
   "metadata": {
    "id": "-P5ur0Xq-CEe",
    "scrolled": true
   },
   "outputs": [],
   "source": [
    "meterology1.hist(color='black')"
   ]
  },
  {
   "cell_type": "code",
   "execution_count": null,
   "metadata": {},
   "outputs": [],
   "source": [
    "surface_temp1.plot(subplots=True, figsize=(15,6), color='black')"
   ]
  },
  {
   "cell_type": "code",
   "execution_count": null,
   "metadata": {},
   "outputs": [],
   "source": [
    "surface_temp1.hist(color='black')"
   ]
  },
  {
   "cell_type": "code",
   "execution_count": null,
   "metadata": {},
   "outputs": [],
   "source": [
    "climate_ind_d1.plot(subplots=True, figsize=(15,6), color='black')"
   ]
  },
  {
   "cell_type": "code",
   "execution_count": null,
   "metadata": {},
   "outputs": [],
   "source": [
    "climate_ind_d1.hist(color='black')"
   ]
  },
  {
   "cell_type": "code",
   "execution_count": null,
   "metadata": {},
   "outputs": [],
   "source": [
    "ice_data1.plot(subplots=True, figsize=(15,6), color='black')"
   ]
  },
  {
   "cell_type": "code",
   "execution_count": null,
   "metadata": {},
   "outputs": [],
   "source": [
    "ice_data1.hist(color='black')"
   ]
  },
  {
   "cell_type": "code",
   "execution_count": null,
   "metadata": {
    "id": "wIZvpGtg-CEe"
   },
   "outputs": [],
   "source": [
    "from pandas import read_csv\n",
    "from statsmodels.tsa.stattools import adfuller\n",
    "X = meterology1.values\n",
    "result = adfuller(X)\n",
    "print('ADF Statistic: %f' % result[0])\n",
    "print('p-value: %f' % result[1])\n",
    "print('Critical Values:')\n",
    "for key, value in result[4].items():\n",
    "\tprint('\\t%s: %.3f' % (key, value))"
   ]
  },
  {
   "cell_type": "code",
   "execution_count": null,
   "metadata": {
    "id": "UPS4o4eb-CEe"
   },
   "outputs": [],
   "source": [
    "# Converting last column i.e 'November' to Series\n",
    "temp1 = meterology1.i[:,3]\n",
    "  \n",
    "print(\"\\nLast column as a Series:\\n\")\n",
    "print(temp1)\n",
    "  \n",
    "# Checking type\n",
    "print(type(temp1))"
   ]
  },
  {
   "cell_type": "code",
   "execution_count": null,
   "metadata": {
    "id": "zdJtaTqQ-CEg"
   },
   "outputs": [],
   "source": []
  },
  {
   "cell_type": "code",
   "execution_count": null,
   "metadata": {
    "id": "_pwQ1540-CEg"
   },
   "outputs": [],
   "source": []
  },
  {
   "cell_type": "code",
   "execution_count": null,
   "metadata": {
    "id": "N8roIS9y-CEg"
   },
   "outputs": [],
   "source": []
  },
  {
   "cell_type": "code",
   "execution_count": null,
   "metadata": {
    "id": "KEg-gmn3-CEg"
   },
   "outputs": [],
   "source": []
  },
  {
   "cell_type": "code",
   "execution_count": null,
   "metadata": {
    "id": "YCawBCV2-CEg"
   },
   "outputs": [],
   "source": []
  },
  {
   "cell_type": "code",
   "execution_count": null,
   "metadata": {
    "id": "i77-5jvf-CEg"
   },
   "outputs": [],
   "source": []
  },
  {
   "cell_type": "code",
   "execution_count": null,
   "metadata": {
    "id": "d5Ki0UuO-CEg"
   },
   "outputs": [],
   "source": []
  },
  {
   "cell_type": "code",
   "execution_count": null,
   "metadata": {
    "id": "0EaSWdX_-CEg"
   },
   "outputs": [],
   "source": []
  },
  {
   "cell_type": "code",
   "execution_count": null,
   "metadata": {
    "id": "9csgE2m5-CEg"
   },
   "outputs": [],
   "source": []
  },
  {
   "cell_type": "code",
   "execution_count": null,
   "metadata": {
    "id": "ikTdyISO-CEh"
   },
   "outputs": [],
   "source": []
  },
  {
   "cell_type": "code",
   "execution_count": null,
   "metadata": {
    "id": "X-Lxedcn-CEh",
    "scrolled": false
   },
   "outputs": [],
   "source": [
    "#df_dtlm4_clim"
   ]
  },
  {
   "cell_type": "code",
   "execution_count": null,
   "metadata": {
    "id": "qkh3JYCZ-CEh"
   },
   "outputs": [],
   "source": [
    "#df_dtlm4_clim.index"
   ]
  },
  {
   "cell_type": "code",
   "execution_count": null,
   "metadata": {
    "id": "Wn-DW2HD-CEh"
   },
   "outputs": [],
   "source": [
    "#print(df_dtlm4_d.shape)\n",
    "#print(df_dtlm4_clim.shape)"
   ]
  },
  {
   "cell_type": "code",
   "execution_count": null,
   "metadata": {
    "id": "19hEjv_m-CEh"
   },
   "outputs": [],
   "source": [
    "#Checking the mising data in the dataframe\n",
    "#\"True\" indicates missing value and \"False\" indicates no missing values\n",
    "#missing_data = df_dtlm4.isnull()\n",
    "#missing_data.head()"
   ]
  },
  {
   "cell_type": "code",
   "execution_count": null,
   "metadata": {
    "id": "m5V491b--CEh"
   },
   "outputs": [],
   "source": [
    "#counting the missing values in all features.\n",
    "#True indicates missing values\n",
    "#for column in missing_data.columns.values.tolist():\n",
    "#    print(column)\n",
    "#   print (missing_data[column].value_counts())\n",
    "#    print(\"\") "
   ]
  },
  {
   "cell_type": "code",
   "execution_count": null,
   "metadata": {
    "id": "uAhUdx23-CEh"
   },
   "outputs": [],
   "source": [
    "# Dropping the features with mostly missing values \n",
    "\n",
    "#df_dtlm4_d = df_dtlm4_d.drop(['WVHT', 'DPD', 'APD', 'MWD', 'WTMP', 'DEWP', 'VIS', 'TIDE'], axis = 1)"
   ]
  },
  {
   "cell_type": "code",
   "execution_count": null,
   "metadata": {
    "id": "SjyTiAkU-CEi"
   },
   "outputs": [],
   "source": [
    "# Reading the Ice data using glob package into a list of dataframes\n",
    "# Raw data has Ice cover values for the 4 stations and mean ice coverage from years 2004 to 2020\n",
    "# the output is a list of dataframes\n",
    "\n",
    "#filenames = glob('C:/Users/santh/OneDrive/Desktop/XGBoost/Ice_data/timeseries*.xlsx')\n",
    "#dataframes_ice = [pd.read_excel(f, index_col = 0, header = 0) for f in filenames]"
   ]
  },
  {
   "cell_type": "code",
   "execution_count": null,
   "metadata": {
    "id": "zCzCDT_Y-CEi"
   },
   "outputs": [],
   "source": [
    "#Concatenating the dataframes into a single dataframe\n",
    "#df_ice_dtlm4 = pd.concat(dataframes_ice, sort = False)\n",
    "#df_ice_dtlm4.head()"
   ]
  },
  {
   "cell_type": "code",
   "execution_count": null,
   "metadata": {
    "id": "XsJMf7eg-CEi"
   },
   "outputs": [],
   "source": [
    "#df_ice_dtlm4.tail()"
   ]
  },
  {
   "cell_type": "code",
   "execution_count": null,
   "metadata": {
    "id": "h_-3J-Bh-CEi"
   },
   "outputs": [],
   "source": [
    "#index = df_ice_dtlm4.index\n",
    "\n",
    "#for i in index:\n",
    "#    print(i)"
   ]
  },
  {
   "cell_type": "code",
   "execution_count": null,
   "metadata": {
    "id": "2LYCg3j0-CEi"
   },
   "outputs": [],
   "source": [
    "#df_ice_dtlm4.reset_index(inplace=True)\n",
    "#df_ice_dtlm4.head(5)"
   ]
  },
  {
   "cell_type": "code",
   "execution_count": null,
   "metadata": {
    "id": "ubIJzUFo-CEi"
   },
   "outputs": [],
   "source": [
    "#start_date = \"2007-01-01\"\n",
    "#end_date = \"2020-04-22\"\n",
    "\n",
    "after_start_date = df_ice_dtlm4[\"date\"] >= start_date\n",
    "before_end_date = df_ice_dtlm4[\"date\"] <= end_date\n",
    "between_two_dates = after_start_date & before_end_date\n",
    "filtered_dates = df_ice_dtlm4.loc[between_two_dates]\n",
    "\n",
    "print(filtered_dates)"
   ]
  },
  {
   "cell_type": "code",
   "execution_count": null,
   "metadata": {
    "id": "Y81Omsi3-CEj"
   },
   "outputs": [],
   "source": [
    "df_ice_dtlm4.loc[:,[\"DTLM\",\"date\"]]"
   ]
  },
  {
   "cell_type": "code",
   "execution_count": null,
   "metadata": {
    "id": "dqw8Y_Pd-CEj"
   },
   "outputs": [],
   "source": [
    "df_ice_dtlm4.describe()"
   ]
  },
  {
   "cell_type": "code",
   "execution_count": null,
   "metadata": {
    "id": "wYK5PSKR-CEj"
   },
   "outputs": [],
   "source": [
    "# Retaining just the Ice cover of the station DTLM4 from the ice dataframe i.e. retaining only \"DTLM\" column\n",
    "\n",
    "df_ice_dtlm4 = df_ice_dtlm4.drop(['mean_icecoverage', 'LTRM', 'SWPM', 'WNEM'], axis = 1)"
   ]
  },
  {
   "cell_type": "code",
   "execution_count": null,
   "metadata": {
    "id": "xed5a86w-CEj"
   },
   "outputs": [],
   "source": [
    "# Merging the weather station dataframe with the ice dataframe\n",
    "\n",
    "df_merge = pd.merge(df_dtlm4_d, df_ice_dtlm4, how = 'inner', left_index = True, right_index = True)\n",
    "df_merge.head()"
   ]
  },
  {
   "cell_type": "code",
   "execution_count": null,
   "metadata": {
    "id": "q6DsbIWs-CEj"
   },
   "outputs": [],
   "source": [
    "df_merge.tail()"
   ]
  },
  {
   "cell_type": "code",
   "execution_count": null,
   "metadata": {
    "id": "pO0Hz6nS-CEj"
   },
   "outputs": [],
   "source": [
    "#In addition to the numeric values, WDIR - wind direction has the direction labels as well. i.e. North-West, South etc.\n",
    "#Analysing these directions here\n",
    "\n",
    "def label_wdir(data):\n",
    "    if data['WDIR'] == 0.0 :\n",
    "        return 'North'\n",
    "    if data['WDIR'] == 90.0 :\n",
    "        return 'East'\n",
    "    if data['WDIR'] == 180.0 :\n",
    "        return 'South'\n",
    "    if data['WDIR'] == 270.0 :\n",
    "        return 'West'\n",
    "    if 0 < data['WDIR'] < 90 :\n",
    "        return 'North-East'\n",
    "    if 90 < data['WDIR'] < 180 :\n",
    "        return 'South-East'\n",
    "    if 180 < data['WDIR'] < 270 :\n",
    "        return 'South-West'\n",
    "    if 270 < data['WDIR'] < 360 :\n",
    "        return 'North-West'\n",
    "    return 'Unknown'\n",
    "df_merge['Direction'] = df_merge.apply(lambda data: label_wdir(data), axis = 1)"
   ]
  },
  {
   "cell_type": "code",
   "execution_count": null,
   "metadata": {
    "id": "Q-gckiRS-CEk"
   },
   "outputs": [],
   "source": [
    "df_merge['Direction'].value_counts()"
   ]
  },
  {
   "cell_type": "code",
   "execution_count": null,
   "metadata": {
    "id": "EDMZ2hD--CEk"
   },
   "outputs": [],
   "source": [
    "df_merge = df_merge[df_merge['Direction'] != 'Unknown']"
   ]
  },
  {
   "cell_type": "code",
   "execution_count": null,
   "metadata": {
    "id": "NaxDmGij-CEk"
   },
   "outputs": [],
   "source": [
    "#Breaking WDIR into degrees in specific directions \n",
    "\n",
    "def wind_magnitude(data) :\n",
    "    if 90 < data['WDIR'] < 180:\n",
    "        return data['WDIR']-90\n",
    "    if 180 < data['WDIR'] < 270:\n",
    "        return data['WDIR']-180\n",
    "    if 270 < data['WDIR'] < 360:\n",
    "        return data['WDIR']-270\n",
    "    return data['WDIR']\n",
    "\n",
    "df_merge['WDIR_New'] = df_merge.apply(lambda data: wind_magnitude(data), axis = 1)\n",
    "\n",
    "df_merge['WDIR_New'].describe()"
   ]
  },
  {
   "cell_type": "code",
   "execution_count": null,
   "metadata": {
    "id": "yNhjpc6t-CEk"
   },
   "outputs": [],
   "source": [
    "df_merge = pd.get_dummies(df_merge, prefix=['Wind'], columns = ['Direction'], drop_first=True)\n",
    "df_merge.head()"
   ]
  },
  {
   "cell_type": "code",
   "execution_count": null,
   "metadata": {
    "id": "LLhevsD3-CEk"
   },
   "outputs": [],
   "source": [
    "df_merge = df_merge.drop(['WDIR'], axis = 1)\n",
    "df_merge.head()"
   ]
  },
  {
   "cell_type": "code",
   "execution_count": null,
   "metadata": {
    "id": "fczooAxh-CEk"
   },
   "outputs": [],
   "source": [
    "df_merge.shape"
   ]
  },
  {
   "cell_type": "code",
   "execution_count": null,
   "metadata": {
    "id": "qPSWqUlVkK4n"
   },
   "outputs": [],
   "source": []
  },
  {
   "cell_type": "code",
   "execution_count": null,
   "metadata": {
    "id": "QwwZKqm1kLQd"
   },
   "outputs": [],
   "source": []
  },
  {
   "cell_type": "code",
   "execution_count": null,
   "metadata": {
    "id": "XMDH3INZkLqx"
   },
   "outputs": [],
   "source": []
  },
  {
   "cell_type": "code",
   "execution_count": null,
   "metadata": {
    "id": "MeBXZgyIkLzO"
   },
   "outputs": [],
   "source": []
  },
  {
   "cell_type": "markdown",
   "metadata": {
    "id": "IwEVedD6-CEk"
   },
   "source": [
    "#### 3. XGBoost Model development - DTLM4"
   ]
  },
  {
   "cell_type": "code",
   "execution_count": null,
   "metadata": {
    "id": "Q64imrYs-CEl",
    "scrolled": true
   },
   "outputs": [],
   "source": [
    "######### Creating lags and moving averages for Ice cover (DTLM) and Air Temperature(ATMP) features ################\n",
    "\n",
    "for i in range(1,6):\n",
    "    col = 'ATMP_lag_' + str(i)\n",
    "    df_merge[col] = df_merge['ATMP'].shift(i)\n",
    "\n",
    "for i in range(1,6):\n",
    "    col = 'Ice_lag_' + str(i)\n",
    "    df_merge[col] = df_merge['DTLM'].shift(i)\n",
    "\n",
    "for i in range(3,6):\n",
    "    col = 'ATMP_RM_' + str(i)\n",
    "    df_merge[col] = df_merge['ATMP'].rolling(i).mean()\n",
    "    df_merge[col] = df_merge[col].shift(1)\n",
    "\n",
    "for i in range(3,6):\n",
    "    col = 'Ice_RM_' + str(i)\n",
    "    df_merge[col] = df_merge['DTLM'].rolling(i).mean()\n",
    "    df_merge[col] = df_merge[col].shift(1)\n",
    "\n",
    "df_merge.head()"
   ]
  },
  {
   "cell_type": "code",
   "execution_count": null,
   "metadata": {
    "id": "4MkjYZlt-CEl"
   },
   "outputs": [],
   "source": [
    "df_merge.tail()"
   ]
  },
  {
   "cell_type": "code",
   "execution_count": null,
   "metadata": {
    "id": "BipV0w38-CEl"
   },
   "outputs": [],
   "source": [
    "df_merge['PRES'].describe()"
   ]
  },
  {
   "cell_type": "code",
   "execution_count": null,
   "metadata": {
    "id": "aM4kIimf-CEl"
   },
   "outputs": [],
   "source": [
    "# For Pressure feature, creating z-score as an additional feature\n",
    "cols = ['PRES']\n",
    "\n",
    "for col in cols:\n",
    "    col_zscore = col + '_zscore'\n",
    "    df_merge[col_zscore] = (df_merge[col] - df_merge[col].mean())/df_merge[col].std(ddof=0)\n",
    "\n",
    "df_merge.head()"
   ]
  },
  {
   "cell_type": "code",
   "execution_count": null,
   "metadata": {
    "id": "8NG0z-jy-CEl",
    "scrolled": true
   },
   "outputs": [],
   "source": [
    "df_merge[['WSPD', 'GST', 'PRES', 'ATMP', 'DTLM', 'PRES_zscore']].head()"
   ]
  },
  {
   "cell_type": "code",
   "execution_count": null,
   "metadata": {
    "id": "2QYv5fiq-CEl"
   },
   "outputs": [],
   "source": [
    "df_merge_ice_on_off = df_merge[['WSPD', 'GST', 'PRES', 'ATMP', 'DTLM']]\n",
    "df_merge_ice_on_off.head(10)"
   ]
  },
  {
   "cell_type": "code",
   "execution_count": null,
   "metadata": {
    "id": "P9DYiDUL-CEm"
   },
   "outputs": [],
   "source": [
    "df_merge_ice_on_off.tail()"
   ]
  },
  {
   "cell_type": "code",
   "execution_count": null,
   "metadata": {
    "id": "NiCYfwLj-CEm"
   },
   "outputs": [],
   "source": [
    "df_merge_ice_on_off['month'] = pd.DatetimeIndex(df_merge_ice_on_off.index).month\n",
    "df_merge_ice_on_off['year'] = pd.DatetimeIndex(df_merge_ice_on_off.index).year\n",
    "df_merge_ice_on_off['day'] = pd.DatetimeIndex(df_merge_ice_on_off.index).day\n",
    "\n",
    "df_merge_ice_on_off['Ice_RM_3'] = df_merge_ice_on_off['DTLM'].rolling(3).mean()\n",
    "\n",
    "df_ice_off = df_merge_ice_on_off[(df_merge_ice_on_off['month'] <= 7) & (df_merge_ice_on_off['month'] > 1)]\n",
    "df_ice_on = df_merge_ice_on_off[(df_merge_ice_on_off['month'] > 7)]\n",
    "\n",
    "df_ice_on['Ice_on_off'] = np.where(df_ice_on['Ice_RM_3'] >= 10, 'Ice_on_date', 'Normal')\n",
    "df_ice_on = df_ice_on[df_ice_on['Ice_on_off'] != 'Normal']\n",
    "df_ice_on = df_ice_on.drop_duplicates(subset=['year', 'Ice_on_off'], keep='first')\n",
    "\n",
    "df_ice_off['Ice_on_off'] = np.where((df_ice_off['month'] > 3) & (df_ice_off['Ice_RM_3'] <= 10), 'Ice_off_date', 'Normal')\n",
    "df_ice_off = df_ice_off[df_ice_off['Ice_on_off'] != 'Normal']\n",
    "df_ice_off = df_ice_off.drop_duplicates(subset=['year', 'Ice_on_off'], keep='first')\n",
    "\n",
    "df_merge_ice_on_off = pd.concat([df_ice_off, df_ice_on], axis = 0)\n",
    "df_merge_ice_on_off = df_merge_ice_on_off.reset_index()\n",
    "df_merge_ice_on_off = df_merge_ice_on_off.sort_values(by = 'index')\n",
    "df_merge_ice_on_off = df_merge_ice_on_off.set_index('index')\n",
    "\n",
    "df_merge_ice_on_off = df_merge_ice_on_off[df_merge_ice_on_off['Ice_on_off'] != 'Normal']\n",
    "\n",
    "df_merge_ice_on_off"
   ]
  },
  {
   "cell_type": "code",
   "execution_count": null,
   "metadata": {
    "id": "tCDuTR7L-CEm"
   },
   "outputs": [],
   "source": [
    "df_ice = pd.concat(dataframes_ice, sort = False)\n",
    "df_ice = df_ice.reset_index()\n",
    "df_ice.head()"
   ]
  },
  {
   "cell_type": "code",
   "execution_count": null,
   "metadata": {
    "id": "UfEwdXdt-CEm"
   },
   "outputs": [],
   "source": [
    "df_ice.tail()"
   ]
  },
  {
   "cell_type": "code",
   "execution_count": null,
   "metadata": {
    "id": "F7nKrOEK-CEm"
   },
   "outputs": [],
   "source": [
    "# Importing packages for XGBoost and K-fold Gridsearch\n",
    "# In Anacomnda command propmpt execute the command conda install -c anaconda py-xgboost\n",
    "from xgboost import XGBRegressor\n",
    "import xgboost as xgb\n",
    "from sklearn.model_selection import TimeSeriesSplit, GridSearchCV, KFold\n",
    "from sklearn.model_selection import train_test_split\n",
    "from sklearn.metrics import mean_absolute_error"
   ]
  },
  {
   "cell_type": "code",
   "execution_count": null,
   "metadata": {
    "id": "jirVIAw8-CEm",
    "scrolled": true
   },
   "outputs": [],
   "source": [
    "df_merge.head()"
   ]
  },
  {
   "cell_type": "code",
   "execution_count": null,
   "metadata": {
    "id": "4g0Z6VHw-CEn"
   },
   "outputs": [],
   "source": [
    "df_merge.tail()"
   ]
  },
  {
   "cell_type": "code",
   "execution_count": null,
   "metadata": {
    "id": "yzaR9SSe-CEn"
   },
   "outputs": [],
   "source": [
    "# Separating the Independent/predictor and dependent/response(Ice cover) variables\n",
    "\n",
    "X = df_merge.drop(['DTLM'], axis = 1)\n",
    "y = df_merge['DTLM']\n",
    "\n",
    "# Creating training and validation data for model building\n",
    "\n",
    "#X_train, X_test, y_train, y_test = train_test_split(X, y, test_size=0.1, shuffle=False)\n",
    "#print(X_train.shape, y_train.shape)\n",
    "#print(X_test.shape, y_test.shape)"
   ]
  },
  {
   "cell_type": "code",
   "execution_count": null,
   "metadata": {
    "id": "Y2Ntpg1c-CEn"
   },
   "outputs": [],
   "source": [
    "y"
   ]
  },
  {
   "cell_type": "code",
   "execution_count": null,
   "metadata": {
    "id": "DO2DaNMG-CEn"
   },
   "outputs": [],
   "source": [
    "X_train = X['2007-01-01':'2015-12-31']\n",
    "X_test = X['2016-01-01':'2019-12-31']\n",
    "y_train = y['2007-01-01':'2015-12-31']\n",
    "y_test = y['2016-01-01':'2019-12-31']\n",
    "\n",
    "print(X_train.shape, y_train.shape)\n",
    "print(X_test.shape, y_test.shape)"
   ]
  },
  {
   "cell_type": "code",
   "execution_count": null,
   "metadata": {
    "id": "kR3cZ1mr-CEo"
   },
   "outputs": [],
   "source": [
    "X_valid = X['2020-01-01':'2020-12-31']\n",
    "y_valid = y['2020-01-01':'2020-12-31']"
   ]
  },
  {
   "cell_type": "code",
   "execution_count": null,
   "metadata": {
    "id": "okQL8K0T-CEo"
   },
   "outputs": [],
   "source": [
    "X_valid"
   ]
  },
  {
   "cell_type": "code",
   "execution_count": null,
   "metadata": {
    "id": "w-HfDgLI-CEo"
   },
   "outputs": [],
   "source": [
    "# Running the XGBoost regressor with a wide range of hyper parameters and 5 CV timeseries splits\n",
    "\n",
    "t0 = time.time()\n",
    "\n",
    "xgb1 = xgb.XGBRegressor()\n",
    "parameters = {'objective':['reg:squarederror'],\n",
    "              'learning_rate': [0.001, 0.01, 0.05, 0.1],\n",
    "              'max_depth': [3, 4, 5],\n",
    "              'subsample': [0.7, 0.8],\n",
    "              'colsample_bytree': [1.0],\n",
    "              'n_estimators': [100, 200]}\n",
    "\n",
    "tscv = TimeSeriesSplit(n_splits=5)\n",
    "\n",
    "xgb_grid = GridSearchCV(xgb1,\n",
    "                        parameters,\n",
    "                        n_jobs = -1,\n",
    "                        cv = tscv,\n",
    "                        verbose=True)\n",
    "\n",
    "xgb_grid.fit(X_train, y_train)\n",
    "\n",
    "tF = time.time()\n",
    "\n",
    "print(xgb_grid.best_score_)\n",
    "print(xgb_grid.best_params_)\n",
    "\n",
    "print('Time to train = %.2f seconds' % (tF - t0))"
   ]
  },
  {
   "cell_type": "code",
   "execution_count": null,
   "metadata": {
    "id": "kOgiteHF-CEo",
    "scrolled": true
   },
   "outputs": [],
   "source": [
    "# Predicting on the training data and calculating the mean absolute error\n",
    "\n",
    "y_train_pred = xgb_grid.predict(X_train)\n",
    "\n",
    "print(mean_absolute_error(y_train, y_train_pred))"
   ]
  },
  {
   "cell_type": "code",
   "execution_count": null,
   "metadata": {
    "id": "rqRQfbu_-CEo",
    "scrolled": true
   },
   "outputs": [],
   "source": [
    "# Predicting on the test data and calculating the mean absolute error\n",
    "\n",
    "y_test_pred = xgb_grid.predict(X_test)\n",
    "\n",
    "print(mean_absolute_error(y_test, y_test_pred))"
   ]
  },
  {
   "cell_type": "code",
   "execution_count": null,
   "metadata": {
    "id": "be-GVu9G-CEo"
   },
   "outputs": [],
   "source": [
    "# Predicting on the validation data and calculating the mean absolute error\n",
    "\n",
    "y_valid_pred = xgb_grid.predict(X_valid)\n",
    "\n",
    "print(mean_absolute_error(y_valid, y_valid_pred))"
   ]
  },
  {
   "cell_type": "code",
   "execution_count": null,
   "metadata": {
    "id": "Oiyoh3hp-CEp"
   },
   "outputs": [],
   "source": [
    "df_train = X_train.copy()\n",
    "df_train['y_train'] = y_train\n",
    "df_train['y_train_pred'] = y_train_pred\n",
    "\n",
    "df_test = X_test.copy()\n",
    "df_test['y_test'] = y_test\n",
    "df_test['y_test_pred'] = y_test_pred\n",
    "\n",
    "df_valid = X_valid.copy()\n",
    "df_valid['y_valid'] = y_valid\n",
    "df_valid['y_valid_pred'] = y_valid_pred"
   ]
  },
  {
   "cell_type": "code",
   "execution_count": null,
   "metadata": {
    "id": "Xj26qAup-CEp"
   },
   "outputs": [],
   "source": [
    "df_test = df_test[['WSPD', 'GST', 'PRES', 'ATMP', 'y_test', 'y_test_pred']]\n",
    "df_valid = df_valid[['WSPD', 'GST', 'PRES', 'ATMP', 'y_valid', 'y_valid_pred']]\n",
    "df_train = df_train[['WSPD', 'GST', 'PRES', 'ATMP', 'y_train', 'y_train_pred']]\n",
    "\n",
    "df_test.columns = ['WSPD', 'GST', 'PRES', 'ATMP', 'DTLM', 'DTLM_Pred']\n",
    "df_valid.columns = ['WSPD', 'GST', 'PRES', 'ATMP', 'DTLM', 'DTLM_Pred']\n",
    "df_train.columns = ['WSPD', 'GST', 'PRES', 'ATMP', 'DTLM', 'DTLM_Pred']\n",
    "\n",
    "\n",
    "df_test['DTLM_Pred_RM_3'] = df_test['DTLM_Pred'].rolling(3).mean()\n",
    "#df_test['DTLM_Pred_RM_3'] = df_test['DTLM_Pred_RM_3'].shift(1)\n",
    "\n",
    "df_valid['DTLM_Pred_RM_3'] = df_valid['DTLM_Pred'].rolling(3).mean()\n",
    "\n",
    "df_train['DTLM_Pred_RM_3'] = df_train['DTLM_Pred'].rolling(3).mean()\n",
    "#df_train['DTLM_Pred_RM_3'] = df_train['DTLM_Pred_RM_3'].shift(1)\n",
    "\n",
    "df_ml = pd.concat([df_train, df_test, df_valid], axis = 0)\n",
    "df_ml.head()"
   ]
  },
  {
   "cell_type": "code",
   "execution_count": null,
   "metadata": {
    "id": "8rPIVzfh-CEp"
   },
   "outputs": [],
   "source": [
    "df_ml.tail()"
   ]
  },
  {
   "cell_type": "code",
   "execution_count": null,
   "metadata": {
    "id": "FQJ9b7MJ-CEp"
   },
   "outputs": [],
   "source": [
    "df_ml['month'] = pd.DatetimeIndex(df_ml.index).month\n",
    "df_ml['year'] = pd.DatetimeIndex(df_ml.index).year\n",
    "df_ml['day'] = pd.DatetimeIndex(df_ml.index).day\n",
    "\n",
    "df_ice_off = df_ml[(df_ml['month'] <= 7) & (df_ml['month'] > 1)]\n",
    "df_ice_on = df_ml[(df_ml['month'] > 7)]\n",
    "\n",
    "df_ice_on['Ice_on_off'] = np.where(df_ice_on['DTLM_Pred_RM_3'] >= 10, 'Ice_on_date', 'Normal')\n",
    "df_ice_on = df_ice_on[df_ice_on['Ice_on_off'] != 'Normal']\n",
    "df_ice_on = df_ice_on.drop_duplicates(subset=['year', 'Ice_on_off'], keep='first')\n",
    "\n",
    "df_ice_off['Ice_on_off'] = np.where((df_ice_off['month'] > 3) & (df_ice_off['DTLM_Pred_RM_3'] <= 10), 'Ice_off_date', 'Normal')\n",
    "df_ice_off = df_ice_off[df_ice_off['Ice_on_off'] != 'Normal']\n",
    "df_ice_off = df_ice_off.drop_duplicates(subset=['year', 'Ice_on_off'], keep='first')\n",
    "\n",
    "df_ml = pd.concat([df_ice_off, df_ice_on], axis = 0)\n",
    "df_ml = df_ml.reset_index()\n",
    "df_ml = df_ml.sort_values(by = 'index')\n",
    "df_ml = df_ml.set_index('index')\n",
    "\n",
    "df_ml"
   ]
  },
  {
   "cell_type": "code",
   "execution_count": null,
   "metadata": {
    "id": "xqgtYuIv-CEp"
   },
   "outputs": [],
   "source": [
    "df_ice_off"
   ]
  },
  {
   "cell_type": "code",
   "execution_count": null,
   "metadata": {
    "id": "37thgDV3-CEp"
   },
   "outputs": [],
   "source": [
    "##################### Creating actual Ice duration dataframe #######################\n",
    "\n",
    "df_merge_ice_on_off = df_merge_ice_on_off.reset_index()\n",
    "df_merge_ice_on_off.rename(columns={'index':'Date'}, inplace = True)\n",
    "\n",
    "df_ice_on = df_merge_ice_on_off[df_merge_ice_on_off['Ice_on_off'] == 'Ice_on_date']\n",
    "df_ice_off = df_merge_ice_on_off[df_merge_ice_on_off['Ice_on_off'] == 'Ice_off_date']\n",
    "\n",
    "df_ice_on.rename(columns={'Date':'Ice_on_date'}, inplace = True)\n",
    "df_ice_off.rename(columns={'Date':'Ice_off_date'}, inplace = True)\n",
    "\n",
    "df_ice_on = df_ice_on[['year', 'Ice_on_date']]\n",
    "df_ice_off = df_ice_off[['year', 'Ice_off_date']]\n",
    "\n",
    "df2 = {'year': 2015, 'Ice_on_date': '2015-12-15'}\n",
    "df_ice_on = df_ice_on.append(df2, ignore_index = True)\n",
    "df_ice_on['Ice_on_date'] = pd.to_datetime(df_ice_on['Ice_on_date'])\n",
    "df_ice_on = df_ice_on.sort_values(by = ['year'])\n",
    "\n",
    "df_actual_ice = df_ice_off.merge(df_ice_on, on = 'year', how = 'left')\n",
    "df_actual_ice['Ice_off_date'] = pd.to_datetime(df_actual_ice['Ice_off_date'])\n",
    "df_actual_ice['Ice_on_date'] = pd.to_datetime(df_actual_ice['Ice_on_date'])\n",
    "df_actual_ice['duration'] = df_actual_ice['Ice_off_date'].shift(-1) - df_actual_ice['Ice_on_date']\n",
    "\n",
    "##################### Creating predicted Ice duration dataframe #######################\n",
    "\n",
    "df_ml = df_ml.reset_index()\n",
    "df_ml.rename(columns={'index':'Date'}, inplace = True)\n",
    "\n",
    "df_ice_on = df_ml[df_ml['Ice_on_off'] == 'Ice_on_date']\n",
    "df_ice_off = df_ml[df_ml['Ice_on_off'] == 'Ice_off_date']\n",
    "\n",
    "df_ice_on.rename(columns={'Date':'Ice_on_date'}, inplace = True)\n",
    "df_ice_off.rename(columns={'Date':'Ice_off_date'}, inplace = True)\n",
    "\n",
    "df_ice_on = df_ice_on[['year', 'Ice_on_date']]\n",
    "df_ice_off = df_ice_off[['year', 'Ice_off_date']]\n",
    "\n",
    "df2 = {'year': 2015, 'Ice_on_date': '2015-12-15'}\n",
    "df_ice_on = df_ice_on.append(df2, ignore_index = True)\n",
    "df_ice_on['Ice_on_date'] = pd.to_datetime(df_ice_on['Ice_on_date'])\n",
    "df_ice_on = df_ice_on.sort_values(by = ['year'])\n",
    "\n",
    "df_predicted_ice = df_ice_off.merge(df_ice_on, on = 'year', how = 'left')\n",
    "df_predicted_ice['Ice_off_date'] = pd.to_datetime(df_predicted_ice['Ice_off_date'])\n",
    "df_predicted_ice['Ice_on_date'] = pd.to_datetime(df_predicted_ice['Ice_on_date'])\n",
    "df_predicted_ice['duration'] = df_predicted_ice['Ice_off_date'].shift(-1) - df_predicted_ice['Ice_on_date']\n",
    "df_predicted_ice"
   ]
  },
  {
   "cell_type": "code",
   "execution_count": null,
   "metadata": {
    "id": "w3Ygr55--CEq"
   },
   "outputs": [],
   "source": [
    "#to use in final merged code later on\n",
    "df_icedur_pred_dtlm4 = df_predicted_ice"
   ]
  },
  {
   "cell_type": "code",
   "execution_count": null,
   "metadata": {
    "id": "-yWujtS--CEq"
   },
   "outputs": [],
   "source": [
    "#to use in final merged code later on\n",
    "df_icedur_act_dtlm4 = df_actual_ice"
   ]
  },
  {
   "cell_type": "code",
   "execution_count": null,
   "metadata": {
    "id": "muDoDQih-CEq"
   },
   "outputs": [],
   "source": [
    "# Draw the Ice-on and Ice-off plots\n",
    "\n",
    "\n",
    "df_original = df_actual_ice\n",
    "df = df_predicted_ice\n",
    "\n",
    "xValue_original = []\n",
    "yValue_original = []\n",
    "xValue = []\n",
    "yValue = []\n",
    "tick_spacing = 5\n",
    "\n",
    "for i in range(1,len(df_original['year'])):\n",
    "    if(int(df_original['Ice_off_date'][i].strftime(\"%m\")) < 11):\n",
    "        xValue_original.append(df_original['year'][i])\n",
    "        xValue_original.append(df_original['year'][i])\n",
    "    else:\n",
    "        xValue_original.append(df_original['year'][i]+1)\n",
    "        xValue_original.append(df_original['year'][i]+1)\n",
    "\n",
    "for i in range(1,len(df['year'])):\n",
    "    if(int(df['Ice_off_date'][i].strftime(\"%m\")) < 11):\n",
    "        xValue.append(df['year'][i])\n",
    "        xValue.append(df['year'][i])\n",
    "    else:\n",
    "        xValue.append(df['year'][i]+1)\n",
    "        xValue.append(df['year'][i]+1)\n",
    "        \n",
    "    \n",
    "for i in range(0,(len(df_original['Ice_off_date'])-1)):\n",
    "    if(int(df_original['Ice_on_date'][i].strftime(\"%m\")) >= 11):\n",
    "        start_date = datetime(int(df_original['Ice_on_date'][i].strftime(\"%Y\")),11,1,0,0,0)\n",
    "    yValue_original.append((df_original['Ice_on_date'][i]-start_date).days)\n",
    "    yValue_original.append((df_original['Ice_off_date'][i+1]-start_date).days)\n",
    "\n",
    "for i in range(0,(len(df['Ice_off_date'])-1)):\n",
    "    if(int(df['Ice_on_date'][i].strftime(\"%m\")) >= 11):\n",
    "        start_date = datetime(int(df['Ice_on_date'][i].strftime(\"%Y\")),11,1,0,0,0)\n",
    "    else:\n",
    "        start_date = datetime(int(df['Ice_on_date'][i].strftime(\"%Y\"))-1,11,1,0,0,0)\n",
    "    yValue.append((df['Ice_on_date'][i]-start_date).days)\n",
    "    yValue.append((df['Ice_off_date'][i+1]-start_date).days)\n",
    "\n",
    "\n",
    "      \n",
    "plt.figure(figsize=(16,8))  \n",
    "\n",
    "for i in range(0, int(len(xValue)/2)):\n",
    "\n",
    "    plt.annotate(df['Ice_on_date'][i].strftime(\"%Y-%m-%d\"),(xValue[2*i],yValue[2*i]), xytext=(xValue[2*i]+0.25,yValue[2*i] -2), fontsize=8)\n",
    "#     plt.annotate(df['Ice_off_date'][i+1].strftime(\"%Y-%m-%d\"),(xValue[2*i+1],yValue[2*i+1]), xytext=(xValue[2*i+1]-0.8,yValue[2*i+1]), fontsize=8)\n",
    "\n",
    "    \n",
    "\n",
    "# for i in range(0, int(len(xValue_original)/2)):\n",
    "#     ice_on_point = plt.scatter(xValue_original[2*i], yValue_original[2*i], color = 'r', s=6. )\n",
    "#     ice_off_point = plt.scatter(xValue_original[2*i+1], yValue_original[2*i+1], color = 'b', s=6.)\n",
    "    \n",
    "# for i in range(0, int(len(xValue)/2)):\n",
    "#     ice_on_point = plt.scatter(xValue[2*i] + 0.3, yValue[2*i], color = 'y', s=6. )\n",
    "#     ice_off_point = plt.scatter(xValue[2*i+1] + 0.3, yValue[2*i+1], color = 'g', s=6.)\n",
    "\n",
    "\n",
    "# l2 = plt.legend([ice_on_point, ice_off_point], labels = ['Ice On Date', 'Ice Off Date'], bbox_to_anchor=(1.05, 0), loc=1, borderaxespad=0)            \n",
    "\n",
    "\n",
    "    \n",
    "for i in range(0, int(len(xValue_original)/2)):\n",
    "    if(i==0):\n",
    "        line1 = plt.plot([xValue_original[2*i], xValue_original[2*i+1]],[yValue_original[2*i], yValue_original[2*i+1]],  color ='k', label = 'Original')\n",
    "        \n",
    "    line1 = plt.plot([xValue_original[2*i], xValue_original[2*i+1]],[yValue_original[2*i], yValue_original[2*i+1]],  color ='k')\n",
    "\n",
    "plt.legend()\n",
    "    #     plt.annotate(df['Ice Duration'][i], ((xValue[2*i]+xValue[2*i+1])/2, (yValue[2*i]+yValue[2*i+1])/2), ((xValue[2*i]+xValue[2*i+1])/2+0.1, (yValue[2*i]+yValue[2*i+1])/2))\n",
    "    \n",
    "for j in range(0, int(len(xValue)/2)):\n",
    "    if(j == 0):\n",
    "        line2 = plt.plot([xValue[2*j] + 0.3, xValue[2*j+1]+0.3],[yValue[2*j], yValue[2*j+1]], label = 'predicted', color = 'r')\n",
    "        \n",
    "    line2 = plt.plot([xValue[2*j] + 0.3, xValue[2*j+1]+0.3],[yValue[2*j], yValue[2*j+1]], color = 'r')  \n",
    "\n",
    "plt.legend(loc='upper right', fontsize = 12)\n",
    "        \n",
    "    \n",
    "# plt.legend([line1, line2], labels=['Original', 'Predicted'], bbox_to_anchor=(1.05, 1), loc=1, borderaxespad=0)\n",
    "\n",
    "\n",
    "# plt.gca().add_artist(l2)\n",
    "\n",
    "\n",
    "\n",
    "\n",
    "plt.title('Ice Season Duration Original vs Predicted for station DTLM4' , fontsize=20)\n",
    "\n",
    "# plt.axis('off')\n",
    "plt.yticks([])\n",
    "\n",
    "\n",
    "frame = plt.gca().axes.get_xaxis().set_visible(False)\n",
    "\n",
    "plt.savefig('ice_duration_DTLM4.png')"
   ]
  },
  {
   "cell_type": "code",
   "execution_count": null,
   "metadata": {
    "id": "kBXr-3Ae-CEq"
   },
   "outputs": [],
   "source": [
    "#df_ml.to_csv('predicted_ice_on_off.csv', index = True)"
   ]
  },
  {
   "cell_type": "code",
   "execution_count": null,
   "metadata": {
    "id": "CMSLOfnX-CEr"
   },
   "outputs": [],
   "source": [
    "# Calculating variable importance as per the XGBoost model.\n",
    "\n",
    "var_importance = pd.DataFrame(xgb_grid.best_estimator_.feature_importances_)\n",
    "features = pd.DataFrame(X_test.columns)\n",
    "df_var_imp = pd.concat([features, var_importance], axis = 1)\n",
    "df_var_imp.columns = ['feature', 'importance']\n",
    "df_var_imp = df_var_imp.sort_values(by = ['importance'], ascending = False)\n",
    "df_var_imp = df_var_imp.set_index(['feature'])"
   ]
  },
  {
   "cell_type": "code",
   "execution_count": null,
   "metadata": {
    "id": "HNC-9zC6-CEr",
    "scrolled": false
   },
   "outputs": [],
   "source": [
    "# Displaying the variable importance\n",
    "\n",
    "%matplotlib inline\n",
    "fig, ax = plt.subplots(figsize=(20, 15))\n",
    "#plt.figure(figsize=(10,10))\n",
    "df_var_imp['importance'].plot(kind = 'barh')"
   ]
  },
  {
   "cell_type": "code",
   "execution_count": null,
   "metadata": {
    "id": "2BSPAJYF-CEr"
   },
   "outputs": [],
   "source": [
    "print(df_var_imp)"
   ]
  },
  {
   "cell_type": "code",
   "execution_count": null,
   "metadata": {
    "id": "3NyWz45_-CEr"
   },
   "outputs": [],
   "source": [
    "# Overlaying the training predictions on top of training data\n",
    "\n",
    "plt.figure(figsize=(15,8))\n",
    "df_train['DTLM'].plot(label = 'actual ice cover')\n",
    "df_train['DTLM_Pred'].plot(label = 'predicted ice cover')\n",
    "plt.legend(loc=\"upper right\")"
   ]
  },
  {
   "cell_type": "code",
   "execution_count": null,
   "metadata": {
    "id": "u_gAwK-2-CEr"
   },
   "outputs": [],
   "source": [
    "########################## Code for Baseline vs Actual vs Predicted Ice cover #######################\n",
    "\n",
    "df_plot = pd.concat([df_train, df_test, df_valid], axis = 0)\n",
    "df_plot = df_plot.drop(['WSPD', 'GST', 'PRES', 'ATMP', 'DTLM_Pred_RM_3'], axis = 1)\n",
    "df_plot['year'] = df_plot.index.year\n",
    "df_plot['month'] = df_plot.index.month\n",
    "df_plot['day'] = df_plot.index.day\n",
    "\n",
    "df_plot_2020 = df_plot[df_plot['year'] == 2020]\n",
    "df_plot_rem = df_plot[df_plot['year'] <= 2019]\n",
    "\n",
    "res = pd.DataFrame(df_plot_rem.groupby(['month', 'day'])['DTLM'].mean().reset_index())\n",
    "res = res.rename(columns = {'DTLM': 'DTLM_Baseline'})\n",
    "df_plot_2020_final = df_plot_2020.merge(res, on = ['month', 'day'], how = 'inner')\n",
    "df_plot_2020_final.index = df_plot_2020.index\n",
    "\n",
    "df_plot_2019 = df_plot[df_plot['year'] == 2019]\n",
    "df_plot_rem = df_plot[df_plot['year'] <= 2018]\n",
    "\n",
    "res = pd.DataFrame(df_plot_rem.groupby(['month', 'day'])['DTLM'].mean().reset_index())\n",
    "res = res.rename(columns = {'DTLM': 'DTLM_Baseline'})\n",
    "df_plot_2019_final = df_plot_2019.merge(res, on = ['month', 'day'], how = 'inner')\n",
    "df_plot_2019_final.index = df_plot_2019.index\n",
    "\n",
    "df_plot_2018 = df_plot[df_plot['year'] == 2018]\n",
    "df_plot_rem = df_plot[df_plot['year'] <= 2017]\n",
    "\n",
    "res = pd.DataFrame(df_plot_rem.groupby(['month', 'day'])['DTLM'].mean().reset_index())\n",
    "res = res.rename(columns = {'DTLM': 'DTLM_Baseline'})\n",
    "df_plot_2018_final = df_plot_2018.merge(res, on = ['month', 'day'], how = 'inner')\n",
    "df_plot_2018_final.index = df_plot_2018.index\n",
    "\n",
    "df_plot_final = pd.concat([df_plot_2018_final, df_plot_2019_final, df_plot_2020_final], axis = 0)\n",
    "df_plot_final"
   ]
  },
  {
   "cell_type": "code",
   "execution_count": null,
   "metadata": {
    "id": "5sUhuDnA-CEr"
   },
   "outputs": [],
   "source": [
    "# Overlaying the 2018 and 2019 predictions and baseline on top of actual data\n",
    "\n",
    "plt.figure(figsize=(15,8))\n",
    "df_subset_2020 = df_plot_final.loc['2018-01-01':'2020-12-31']\n",
    "df_subset = df_plot_final.loc['2018-01-01':'2019-12-31']\n",
    "df_subset['DTLM'].plot(label = 'actual ice cover')\n",
    "df_subset['DTLM_Pred'].plot(label = 'predicted ice cover')\n",
    "df_subset['DTLM_Baseline'].plot(label = 'baseline ice cover')\n",
    "plt.legend(loc=\"lower left\")"
   ]
  },
  {
   "cell_type": "code",
   "execution_count": null,
   "metadata": {
    "id": "NSG6rEPY-CEs"
   },
   "outputs": [],
   "source": [
    "df_dtlm4_2018_2019 = df_subset_2020"
   ]
  },
  {
   "cell_type": "code",
   "execution_count": null,
   "metadata": {
    "id": "QEdRLqpc-CEs"
   },
   "outputs": [],
   "source": [
    "# Overlaying the 2018 and 2019 predictions on top of actual data\n",
    "\n",
    "plt.figure(figsize=(15,8))\n",
    "df_subset = df_plot_final.loc['2018-01-01':'2019-12-31']\n",
    "df_subset['DTLM'].plot(label = 'actual ice cover')\n",
    "df_subset['DTLM_Pred'].plot(label = 'predicted ice cover')\n",
    "plt.legend(loc=\"lower left\")"
   ]
  },
  {
   "cell_type": "code",
   "execution_count": null,
   "metadata": {
    "id": "s55BIfjG-CEs"
   },
   "outputs": [],
   "source": [
    "# Overlaying January 2019 predictions on top of actual data for January 2019\n",
    "\n",
    "plt.figure(figsize=(15,8))\n",
    "df_subset = df_test.loc['2019-01-01':'2019-01-31']\n",
    "df_subset['DTLM'].plot(label = 'actual ice cover')\n",
    "df_subset['DTLM_Pred'].plot(label = 'predicted ice cover')\n",
    "plt.legend(loc=\"upper left\")"
   ]
  },
  {
   "cell_type": "code",
   "execution_count": null,
   "metadata": {
    "id": "LISDmd5_-CEs"
   },
   "outputs": [],
   "source": [
    "### XGBoost model to forecast the ice for the next 14 days. Here we select 2019-02-01 as the split date\n",
    "\n",
    "split_date = '2019-02-01'\n",
    "\n",
    "df_merge_1 = df_merge[['DTLM', 'Ice_lag_1', 'Ice_RM_3', 'Ice_RM_4', 'Ice_RM_5',  \n",
    "                      'ATMP_RM_4', 'ATMP_RM_3', 'ATMP_RM_5', 'Ice_lag_2', 'ATMP_lag_4', 'ATMP', 'Ice_lag_3','Ice_lag_4', 'Ice_lag_5']]\n",
    "\n",
    "df_merge_train = df_merge_1.loc[df_merge.index < split_date].copy()\n",
    "df_merge_test = df_merge_1.loc[df_merge.index == split_date].copy()\n",
    "\n",
    "X_train = df_merge_train.drop(['DTLM'], axis = 1)\n",
    "X_test = df_merge_test.drop(['DTLM'], axis = 1)\n",
    "y_train = df_merge_train['DTLM']\n",
    "y_test = df_merge_test['DTLM']\n",
    "\n",
    "print(X_train.shape, y_train.shape)\n",
    "print(X_test.shape, y_test.shape)\n",
    "\n",
    "xgb1 = xgb.XGBRegressor()\n",
    "parameters = {'objective':['reg:squarederror'],\n",
    "              'learning_rate': [0.001, 0.01, 0.05, 0.1],\n",
    "              'max_depth': [3],\n",
    "              'subsample': [0.7, 0.8],\n",
    "              'colsample_bytree': [1.0],\n",
    "              'n_estimators': [100, 200]}\n",
    "\n",
    "tscv = TimeSeriesSplit(n_splits=5)\n",
    "\n",
    "xgb_grid = GridSearchCV(xgb1,\n",
    "                        parameters,\n",
    "                        n_jobs = -1,\n",
    "                        cv = tscv,\n",
    "                        verbose=True)\n",
    "\n",
    "xgb_grid.fit(X_train, y_train)\n",
    "\n",
    "print(xgb_grid.best_score_)\n",
    "print(xgb_grid.best_params_)"
   ]
  },
  {
   "cell_type": "code",
   "execution_count": null,
   "metadata": {
    "id": "xoN92AjJ-CEs"
   },
   "outputs": [],
   "source": [
    "### Predict ice cover on the day of the test data\n",
    "\n",
    "y_test_pred = xgb_grid.predict(X_test)\n",
    "\n",
    "y_test_pred"
   ]
  },
  {
   "cell_type": "code",
   "execution_count": null,
   "metadata": {
    "id": "L38BwalM-CEs"
   },
   "outputs": [],
   "source": [
    "### Actual ice cover on the day of the test data\n",
    "\n",
    "y_test"
   ]
  },
  {
   "cell_type": "code",
   "execution_count": null,
   "metadata": {
    "id": "0UKCpgBH-CEt"
   },
   "outputs": [],
   "source": [
    "## calculating the mean absolute error\n",
    "\n",
    "print(mean_absolute_error(y_test, y_test_pred))"
   ]
  },
  {
   "cell_type": "code",
   "execution_count": null,
   "metadata": {
    "id": "TSVAR5cn-CEt",
    "scrolled": true
   },
   "outputs": [],
   "source": [
    "X_test.columns"
   ]
  },
  {
   "cell_type": "code",
   "execution_count": null,
   "metadata": {
    "id": "5efQpCwN-CEt"
   },
   "outputs": [],
   "source": [
    "######### Using the predicted value on any date as ground truth and forecasting for next 14 days #################\n",
    "\n",
    "for i in range(1, 15):\n",
    "    X_test['Ice_lag_5'] = X_test['Ice_lag_4']\n",
    "    X_test['Ice_lag_4'] = X_test['Ice_lag_3']\n",
    "    X_test['Ice_lag_3'] = X_test['Ice_lag_2']\n",
    "    X_test['Ice_lag_2'] = X_test['Ice_lag_1']\n",
    "    X_test['Ice_lag_1'] = y_test_pred\n",
    "    \n",
    "    X_test['Ice_RM_3'] = np.mean([X_test['Ice_lag_1'], X_test['Ice_lag_2'], X_test['Ice_lag_3']])\n",
    "    X_test['Ice_RM_4'] = np.mean([X_test['Ice_lag_1'], X_test['Ice_lag_2'], X_test['Ice_lag_3'], X_test['Ice_lag_4']])\n",
    "    X_test['Ice_RM_5'] = np.mean([X_test['Ice_lag_1'], X_test['Ice_lag_2'], X_test['Ice_lag_3'], \n",
    "                              X_test['Ice_lag_4'], X_test['Ice_lag_5']])\n",
    "    \n",
    "    res = (datetime.strptime(split_date, '%Y-%m-%d') + timedelta(days=i)).strftime('%Y-%m-%d')\n",
    "    \n",
    "    df_merge_test = df_merge_1.loc[df_merge.index == res].copy()\n",
    "    \n",
    "    y_test = df_merge_test['DTLM']\n",
    "    \n",
    "    y_test_pred = xgb_grid.predict(X_test)\n",
    "    \n",
    "    print(res, y_test, y_test_pred)"
   ]
  },
  {
   "cell_type": "code",
   "execution_count": null,
   "metadata": {
    "id": "d93rOqB3-CEt"
   },
   "outputs": [],
   "source": [
    "print(mean_absolute_error(y_test, y_test_pred))"
   ]
  },
  {
   "cell_type": "code",
   "execution_count": null,
   "metadata": {
    "id": "px3ie_ER-CEt"
   },
   "outputs": [],
   "source": [
    "######### Using the predicted value on any date as ground truth and forecasting for next 7 days #################\n",
    "\n",
    "for i in range(1, 8):\n",
    "    X_test['Ice_lag_5'] = X_test['Ice_lag_4']\n",
    "    X_test['Ice_lag_4'] = X_test['Ice_lag_3']\n",
    "    X_test['Ice_lag_3'] = X_test['Ice_lag_2']\n",
    "    X_test['Ice_lag_2'] = X_test['Ice_lag_1']\n",
    "    X_test['Ice_lag_1'] = y_test_pred\n",
    "    \n",
    "    X_test['Ice_RM_3'] = np.mean([X_test['Ice_lag_1'], X_test['Ice_lag_2'], X_test['Ice_lag_3']])\n",
    "    X_test['Ice_RM_4'] = np.mean([X_test['Ice_lag_1'], X_test['Ice_lag_2'], X_test['Ice_lag_3'], X_test['Ice_lag_4']])\n",
    "    X_test['Ice_RM_5'] = np.mean([X_test['Ice_lag_1'], X_test['Ice_lag_2'], X_test['Ice_lag_3'], \n",
    "                              X_test['Ice_lag_4'], X_test['Ice_lag_5']])\n",
    "    \n",
    "    res = (datetime.strptime(split_date, '%Y-%m-%d') + timedelta(days=i)).strftime('%Y-%m-%d')\n",
    "    \n",
    "    df_merge_test = df_merge_1.loc[df_merge.index == res].copy()\n",
    "    \n",
    "    y_test = df_merge_test['DTLM']\n",
    "    \n",
    "    y_test_pred = xgb_grid.predict(X_test)\n",
    "    \n",
    "    print(res, y_test, y_test_pred)"
   ]
  },
  {
   "cell_type": "code",
   "execution_count": null,
   "metadata": {
    "id": "VhyqfXft-CEt"
   },
   "outputs": [],
   "source": [
    "df_merge['year'] = pd.DatetimeIndex(df_merge.index).year\n",
    "df_merge['month'] = pd.DatetimeIndex(df_merge.index).month\n",
    "df_merge['day'] = pd.DatetimeIndex(df_merge.index).day\n",
    "df_merge.head()"
   ]
  },
  {
   "cell_type": "code",
   "execution_count": null,
   "metadata": {
    "id": "t5N5Sbud-CEu"
   },
   "outputs": [],
   "source": [
    "########## Freezing Phase: Nov 25 - Jan 30\n",
    "########## Stable Phase: Jan 31 - Mar 25\n",
    "########## Melting Phase: Mar 26 - May 30\n",
    "pd.set_option('display.max_columns', None)\n",
    "pd.set_option('display.max_rows', None)\n",
    "df_freezing = df_merge[df_merge['month'].isin([11, 12, 1])]\n",
    "df_freezing = df_freezing[~((df_freezing['month'] == 11) & (df_freezing['day'] < 1))]\n",
    "df_freezing = df_freezing[~((df_freezing['month'] == 1) & (df_freezing['day'] > 14))]"
   ]
  },
  {
   "cell_type": "code",
   "execution_count": null,
   "metadata": {
    "id": "Ygb0T8Xi-CEu"
   },
   "outputs": [],
   "source": [
    "df_stable = df_merge[df_merge['month'].isin([1, 2, 3])]\n",
    "df_stable = df_stable[~((df_stable['month'] == 1) & (df_stable['day'] < 15))]\n",
    "df_stable = df_stable[~((df_stable['month'] == 3) & (df_stable['day'] > 25))]"
   ]
  },
  {
   "cell_type": "code",
   "execution_count": null,
   "metadata": {
    "id": "RzIrxsnk-CEu"
   },
   "outputs": [],
   "source": [
    "df_melting = df_merge[df_merge['month'].isin([3, 4, 5])]\n",
    "df_melting = df_melting[~((df_melting['month'] == 3) & (df_melting['day'] < 26))]\n",
    "df_melting = df_melting[~((df_melting['month'] == 5) & (df_melting['day'] > 10))]"
   ]
  },
  {
   "cell_type": "code",
   "execution_count": null,
   "metadata": {
    "id": "T0CfIiW1-CEu"
   },
   "outputs": [],
   "source": [
    "df_freezing.head()"
   ]
  },
  {
   "cell_type": "markdown",
   "metadata": {
    "id": "wqJE_TVH-CEu"
   },
   "source": [
    "#### Training XGBoost Model on freezing period DTLM4"
   ]
  },
  {
   "cell_type": "code",
   "execution_count": null,
   "metadata": {
    "id": "VjgULDur-CEu"
   },
   "outputs": [],
   "source": [
    "# Separating the Independent and dependent variables\n",
    "\n",
    "X = df_freezing.drop(['DTLM'], axis = 1)\n",
    "y = df_freezing['DTLM']\n",
    "\n",
    "X = X.drop(['year', 'month', 'day'], axis = 1)"
   ]
  },
  {
   "cell_type": "code",
   "execution_count": null,
   "metadata": {
    "id": "MQp05viH-CEu"
   },
   "outputs": [],
   "source": [
    "########## Freezing Phase: Dec 01 – Jan 14\n",
    "########## Stable Phase: Jan 15 – Apr 05\n",
    "########## Melting Phase: Apr 06 – May 30\n",
    "X_train = X['2007-11-01':'2015-01-14']\n",
    "X_test = X['2016-11-01':'2020-01-14']\n",
    "y_train = y['2007-11-01':'2015-01-14']\n",
    "y_test = y['2016-11-01':'2020-01-14']\n",
    "print(X_train.shape, y_train.shape)\n",
    "print(X_test.shape, y_test.shape)"
   ]
  },
  {
   "cell_type": "code",
   "execution_count": null,
   "metadata": {
    "id": "KkIECLNF-CEv"
   },
   "outputs": [],
   "source": [
    "# Running the XGBoost regressor with a wide range of hyper parameters and 5 CV timeseries splits\n",
    "\n",
    "t0 = time.time()\n",
    "\n",
    "xgb1 = xgb.XGBRegressor()\n",
    "parameters = {'objective':['reg:squarederror'],\n",
    "              'learning_rate': [0.001, 0.01, 0.05, 0.1],\n",
    "              'max_depth': [3, 4],\n",
    "              'subsample': [0.7, 0.8],\n",
    "              'colsample_bytree': [1.0],\n",
    "              'n_estimators': [100, 200]}\n",
    "\n",
    "tscv = TimeSeriesSplit(n_splits=5)\n",
    "\n",
    "xgb_grid = GridSearchCV(xgb1,\n",
    "                        parameters,\n",
    "                        n_jobs = -1,\n",
    "                        cv = tscv,\n",
    "                        verbose=True)\n",
    "\n",
    "xgb_grid.fit(X_train, y_train)\n",
    "\n",
    "tF = time.time()\n",
    "\n",
    "print(xgb_grid.best_score_)\n",
    "print(xgb_grid.best_params_)\n",
    "\n",
    "print('Time to train = %.2f seconds' % (tF - t0))"
   ]
  },
  {
   "cell_type": "code",
   "execution_count": null,
   "metadata": {
    "id": "zmkKBApI-CEv",
    "scrolled": true
   },
   "outputs": [],
   "source": [
    "# Predicting on the training data and calculating the mean absolute error\n",
    "\n",
    "y_train_pred = xgb_grid.predict(X_train)\n",
    "\n",
    "print(mean_absolute_error(y_train, y_train_pred))"
   ]
  },
  {
   "cell_type": "code",
   "execution_count": null,
   "metadata": {
    "id": "rc7eWYw9-CEv"
   },
   "outputs": [],
   "source": [
    "# Predicting on the testation data and calculating the mean absolute error\n",
    "\n",
    "y_test_pred = xgb_grid.predict(X_test)\n",
    "y_test_pred[y_test_pred < 0] = 0\n",
    "\n",
    "print(mean_absolute_error(y_test, y_test_pred))"
   ]
  },
  {
   "cell_type": "code",
   "execution_count": null,
   "metadata": {
    "id": "uH9E8b6t-CEv"
   },
   "outputs": [],
   "source": [
    "df_train = X_train.copy()\n",
    "df_train['y_train'] = y_train\n",
    "df_train['y_train_pred'] = y_train_pred\n",
    "\n",
    "df_test = X_test.copy()\n",
    "df_test['y_test'] = y_test\n",
    "df_test['y_test_pred'] = y_test_pred"
   ]
  },
  {
   "cell_type": "code",
   "execution_count": null,
   "metadata": {
    "id": "yEwJfk0g-CEv"
   },
   "outputs": [],
   "source": [
    "# Calculating variable importance as per the XGBoost model.\n",
    "\n",
    "var_importance = pd.DataFrame(xgb_grid.best_estimator_.feature_importances_)\n",
    "features = pd.DataFrame(X_test.columns)\n",
    "df_var_imp = pd.concat([features, var_importance], axis = 1)\n",
    "df_var_imp.columns = ['feature', 'importance']\n",
    "df_var_imp = df_var_imp.sort_values(by = ['importance'], ascending = False)\n",
    "df_var_imp = df_var_imp.set_index(['feature'])"
   ]
  },
  {
   "cell_type": "code",
   "execution_count": null,
   "metadata": {
    "id": "Cqwk3Tnz-CEw"
   },
   "outputs": [],
   "source": [
    "# Displaying the variable importance\n",
    "\n",
    "#%matplotlib inline\n",
    "#fig, ax = plt.subplots(figsize=(20, 15))\n",
    "#plt.figure(figsize=(10,10))\n",
    "#df_var_imp['importance'].plot(kind = 'barh')"
   ]
  },
  {
   "cell_type": "code",
   "execution_count": null,
   "metadata": {
    "id": "7zptw-Qs-CEw"
   },
   "outputs": [],
   "source": [
    "print(df_var_imp)"
   ]
  },
  {
   "cell_type": "code",
   "execution_count": null,
   "metadata": {
    "id": "RPZQi2ak-CEw"
   },
   "outputs": [],
   "source": [
    "y_train = pd.DataFrame(y_train)\n",
    "y_train = y_train.reset_index()\n",
    "y_train.columns = ['date', 'DTLM']\n",
    "\n",
    "y_train_pred = pd.DataFrame(y_train_pred)\n",
    "y_train_pred['date'] = y_train['date']\n",
    "y_train_pred.columns = ['DTLM', 'date']\n",
    "\n",
    "from datetime import datetime\n",
    "df_date = pd.DataFrame(pd.date_range(start=\"2007-01-01\",end=\"2015-12-31\"))\n",
    "df_date.columns = ['date']\n",
    "\n",
    "y_train = pd.merge(df_date, y_train, on = 'date', how = 'outer')\n",
    "\n",
    "y_train_pred = pd.merge(df_date, y_train_pred, on = 'date', how = 'outer')\n",
    "y_train_pred\n",
    "\n",
    "# Overlaying the training predictions on top of training data\n",
    "plt.figure(figsize=(15,8))\n",
    "\n",
    "y_train = y_train.set_index('date')\n",
    "y_train_pred = y_train_pred.set_index('date')\n",
    "y_train['DTLM'].plot(label = 'actual ice cover')\n",
    "y_train_pred['DTLM'].plot(label = 'predicted ice cover')\n",
    "plt.legend(loc=\"upper right\")"
   ]
  },
  {
   "cell_type": "code",
   "execution_count": null,
   "metadata": {
    "id": "eRnaJ2Qm-CEw"
   },
   "outputs": [],
   "source": [
    "### XGBoost model to forecast the ice for the next 14 days. Here we select 2019-01-01 as the \n",
    "### test data set.\n",
    "\n",
    "split_date = '2019-01-01'\n",
    "\n",
    "df_freeze_1 = df_freezing[['DTLM', 'Ice_lag_1', 'Ice_RM_3', 'Ice_RM_4', 'Ice_RM_5', \n",
    "                           'ATMP_RM_4', 'ATMP_RM_3', 'ATMP_RM_5', 'Ice_lag_2', 'ATMP_lag_4', \n",
    "                           'ATMP', 'Ice_lag_3','Ice_lag_4', 'Ice_lag_5']]\n",
    "\n",
    "df_freeze_train = df_freeze_1.loc[df_freezing.index < split_date].copy()\n",
    "df_freeze_test = df_freeze_1.loc[df_freezing.index == split_date].copy()\n",
    "\n",
    "X_train = df_freeze_train.drop(['DTLM'], axis = 1)\n",
    "X_test = df_freeze_test.drop(['DTLM'], axis = 1)\n",
    "y_train = df_freeze_train['DTLM']\n",
    "y_test = df_freeze_test['DTLM']\n",
    "\n",
    "print(X_train.shape, y_train.shape)\n",
    "print(X_test.shape, y_test.shape)\n",
    "\n",
    "xgb1 = xgb.XGBRegressor()\n",
    "parameters = {'objective':['reg:squarederror'],\n",
    "              'learning_rate': [0.001, 0.01, 0.05, 0.1],\n",
    "              'max_depth': [3],\n",
    "              'subsample': [0.7, 0.8],\n",
    "              'colsample_bytree': [1.0],\n",
    "              'n_estimators': [100, 200]}\n",
    "\n",
    "tscv = TimeSeriesSplit(n_splits=5)\n",
    "\n",
    "xgb_grid = GridSearchCV(xgb1,\n",
    "                        parameters,\n",
    "                        n_jobs = -1,\n",
    "                        cv = tscv,\n",
    "                        verbose=True)\n",
    "\n",
    "xgb_grid.fit(X_train, y_train)\n",
    "\n",
    "print(xgb_grid.best_score_)\n",
    "print(xgb_grid.best_params_)"
   ]
  },
  {
   "cell_type": "code",
   "execution_count": null,
   "metadata": {
    "id": "DmRSDwXL-CEw"
   },
   "outputs": [],
   "source": [
    "### Predict ice cover on the day of the test data\n",
    "\n",
    "y_test_pred = xgb_grid.predict(X_test)\n",
    "\n",
    "y_test_pred"
   ]
  },
  {
   "cell_type": "code",
   "execution_count": null,
   "metadata": {
    "id": "U0iNPOip-CEx"
   },
   "outputs": [],
   "source": [
    "### Actual ice cover on the day of the test data\n",
    "\n",
    "y_test"
   ]
  },
  {
   "cell_type": "code",
   "execution_count": null,
   "metadata": {
    "id": "WG-L9wqi-CEx"
   },
   "outputs": [],
   "source": [
    "## calculating the mean absolute error\n",
    "\n",
    "print(mean_absolute_error(y_test, y_test_pred))"
   ]
  },
  {
   "cell_type": "code",
   "execution_count": null,
   "metadata": {
    "id": "Lv9woUXR-CEx",
    "scrolled": true
   },
   "outputs": [],
   "source": [
    "X_test.columns"
   ]
  },
  {
   "cell_type": "code",
   "execution_count": null,
   "metadata": {
    "id": "uL08pcrl-CEx"
   },
   "outputs": [],
   "source": [
    "######### Using the predicted value on any date as ground truth and forecasting for next 14 days #################\n",
    "\n",
    "for i in range(1, 15):\n",
    "    X_test['Ice_lag_5'] = X_test['Ice_lag_4']\n",
    "    X_test['Ice_lag_4'] = X_test['Ice_lag_3']\n",
    "    X_test['Ice_lag_3'] = X_test['Ice_lag_2']\n",
    "    X_test['Ice_lag_2'] = X_test['Ice_lag_1']\n",
    "    X_test['Ice_lag_1'] = y_test_pred\n",
    "    \n",
    "    X_test['Ice_RM_3'] = np.mean([X_test['Ice_lag_1'], X_test['Ice_lag_2'], X_test['Ice_lag_3']])\n",
    "    X_test['Ice_RM_4'] = np.mean([X_test['Ice_lag_1'], X_test['Ice_lag_2'], X_test['Ice_lag_3'], X_test['Ice_lag_4']])\n",
    "    X_test['Ice_RM_5'] = np.mean([X_test['Ice_lag_1'], X_test['Ice_lag_2'], X_test['Ice_lag_3'], \n",
    "                              X_test['Ice_lag_4'], X_test['Ice_lag_5']])\n",
    "    \n",
    "    res = (datetime.strptime(split_date, '%Y-%m-%d') + timedelta(days=i)).strftime('%Y-%m-%d')\n",
    "    \n",
    "    df_freeze_test = df_freeze_1.loc[df_freeze_1.index == res].copy()\n",
    "    \n",
    "    y_test = df_freeze_test['DTLM']\n",
    "    \n",
    "    y_test_pred = xgb_grid.predict(X_test)\n",
    "    \n",
    "    print(res, y_test, y_test_pred)"
   ]
  },
  {
   "cell_type": "markdown",
   "metadata": {
    "id": "aeiZKwPG-CEx"
   },
   "source": [
    "#### Training XGBoost Model on stable period DTLM4"
   ]
  },
  {
   "cell_type": "code",
   "execution_count": null,
   "metadata": {
    "id": "A4RRNBE1-CEy"
   },
   "outputs": [],
   "source": [
    "# Separating the Independent and dependent variables\n",
    "\n",
    "X = df_stable.drop(['DTLM'], axis = 1)\n",
    "y = df_stable['DTLM']\n",
    "\n",
    "X = X.drop(['year', 'month', 'day'], axis = 1)"
   ]
  },
  {
   "cell_type": "code",
   "execution_count": null,
   "metadata": {
    "id": "fLMM0Iq6-CEy"
   },
   "outputs": [],
   "source": [
    "########## Freezing Phase: Nov 01 – Jan 14\n",
    "########## Stable Phase: Jan 15 – Mar 25\n",
    "########## Melting Phase: Mar 26 – May 10\n",
    "X_train = X['2007-01-15':'2015-03-25']\n",
    "X_test = X['2016-01-15':'2020-03-25']\n",
    "y_train = y['2007-01-15':'2015-03-25']\n",
    "y_test = y['2016-01-15':'2020-03-25']\n",
    "print(X_train.shape, y_train.shape)\n",
    "print(X_test.shape, y_test.shape)"
   ]
  },
  {
   "cell_type": "code",
   "execution_count": null,
   "metadata": {
    "id": "thhhcrcN-CEy"
   },
   "outputs": [],
   "source": [
    "# Running the XGBoost regressor with a wide range of hyper parameters and 5 CV timeseries splits\n",
    "\n",
    "t0 = time.time()\n",
    "\n",
    "xgb1 = xgb.XGBRegressor()\n",
    "parameters = {'objective':['reg:squarederror'],\n",
    "              'learning_rate': [0.001, 0.01, 0.05, 0.1],\n",
    "              'max_depth': [3, 4],\n",
    "              'subsample': [0.7, 0.8],\n",
    "              'colsample_bytree': [1.0, 0.8],\n",
    "              'n_estimators': [100, 200]}\n",
    "\n",
    "tscv = TimeSeriesSplit(n_splits=5)\n",
    "\n",
    "xgb_grid = GridSearchCV(xgb1,\n",
    "                        parameters,\n",
    "                        n_jobs = -1,\n",
    "                        cv = tscv,\n",
    "                        verbose=True)\n",
    "\n",
    "xgb_grid.fit(X_train, y_train)\n",
    "\n",
    "tF = time.time()\n",
    "\n",
    "print(xgb_grid.best_score_)\n",
    "print(xgb_grid.best_params_)\n",
    "print('Time to train = %.2f seconds' % (tF - t0))"
   ]
  },
  {
   "cell_type": "code",
   "execution_count": null,
   "metadata": {
    "id": "LiZO6gGj-CEy",
    "scrolled": true
   },
   "outputs": [],
   "source": [
    "# Predicting on the training data and calculating the mean absolute error\n",
    "\n",
    "y_train_pred = xgb_grid.predict(X_train)\n",
    "\n",
    "print(mean_absolute_error(y_train, y_train_pred))"
   ]
  },
  {
   "cell_type": "code",
   "execution_count": null,
   "metadata": {
    "id": "cCCo9I_h-CEy"
   },
   "outputs": [],
   "source": [
    "# Predicting on the testation data and calculating the mean absolute error\n",
    "\n",
    "y_test_pred = xgb_grid.predict(X_test)\n",
    "y_test_pred[y_test_pred < 0] = 0\n",
    "\n",
    "print(mean_absolute_error(y_test, y_test_pred))"
   ]
  },
  {
   "cell_type": "code",
   "execution_count": null,
   "metadata": {
    "id": "MeseJnLi-CEy"
   },
   "outputs": [],
   "source": [
    "df_train = X_train.copy()\n",
    "df_train['y_train'] = y_train\n",
    "df_train['y_train_pred'] = y_train_pred\n",
    "\n",
    "df_test = X_test.copy()\n",
    "df_test['y_test'] = y_test\n",
    "df_test['y_test_pred'] = y_test_pred"
   ]
  },
  {
   "cell_type": "code",
   "execution_count": null,
   "metadata": {
    "id": "OEXm7d7W-CEz"
   },
   "outputs": [],
   "source": [
    "# Calculating variable importance as per the XGBoost model.\n",
    "\n",
    "var_importance = pd.DataFrame(xgb_grid.best_estimator_.feature_importances_)\n",
    "features = pd.DataFrame(X_test.columns)\n",
    "df_var_imp = pd.concat([features, var_importance], axis = 1)\n",
    "df_var_imp.columns = ['feature', 'importance']\n",
    "df_var_imp = df_var_imp.sort_values(by = ['importance'], ascending = False)\n",
    "df_var_imp = df_var_imp.set_index(['feature'])"
   ]
  },
  {
   "cell_type": "code",
   "execution_count": null,
   "metadata": {
    "id": "KzvPKT-0-CEz"
   },
   "outputs": [],
   "source": [
    "# Displaying the variable importance\n",
    "\n",
    "#%matplotlib inline\n",
    "#fig, ax = plt.subplots(figsize=(20, 15))\n",
    "#plt.figure(figsize=(10,10))\n",
    "#df_var_imp['importance'].plot(kind = 'barh')"
   ]
  },
  {
   "cell_type": "code",
   "execution_count": null,
   "metadata": {
    "id": "KObH9rmO-CEz"
   },
   "outputs": [],
   "source": [
    "print(df_var_imp)"
   ]
  },
  {
   "cell_type": "code",
   "execution_count": null,
   "metadata": {
    "id": "TtOKj-mL-CEz"
   },
   "outputs": [],
   "source": [
    "y_train = pd.DataFrame(y_train)\n",
    "y_train = y_train.reset_index()\n",
    "y_train.columns = ['date', 'DTLM']\n",
    "\n",
    "y_train_pred = pd.DataFrame(y_train_pred)\n",
    "y_train_pred['date'] = y_train['date']\n",
    "y_train_pred.columns = ['DTLM', 'date']\n",
    "\n",
    "from datetime import datetime\n",
    "df_date = pd.DataFrame(pd.date_range(start=\"2007-01-01\",end=\"2015-12-31\"))\n",
    "df_date.columns = ['date']\n",
    "\n",
    "y_train = pd.merge(df_date, y_train, on = 'date', how = 'outer')\n",
    "\n",
    "y_train_pred = pd.merge(df_date, y_train_pred, on = 'date', how = 'outer')\n",
    "y_train_pred\n",
    "\n",
    "# Overlaying the training predictions on top of training data\n",
    "plt.figure(figsize=(15,8))\n",
    "\n",
    "y_train = y_train.set_index('date')\n",
    "y_train_pred = y_train_pred.set_index('date')\n",
    "y_train['DTLM'].plot(label = 'actual ice cover')\n",
    "y_train_pred['DTLM'].plot(label = 'predicted ice cover')\n",
    "plt.legend(loc=\"upper right\")"
   ]
  },
  {
   "cell_type": "code",
   "execution_count": null,
   "metadata": {
    "id": "Pft2pQB1-CEz"
   },
   "outputs": [],
   "source": [
    "### XGBoost model to forecast the ice for the next 14 days. Here we select 2019-03-01 as the \n",
    "### test data set.\n",
    "\n",
    "split_date = '2019-03-01'\n",
    "\n",
    "df_stable_1 = df_stable[['DTLM', 'Ice_lag_1', 'Ice_RM_3', 'Ice_RM_4', 'Ice_RM_5', \n",
    "                         'ATMP_RM_4', 'ATMP_RM_3', 'ATMP_RM_5', 'Ice_lag_2', 'ATMP_lag_4', \n",
    "                         'ATMP', 'Ice_lag_3','Ice_lag_4', 'Ice_lag_5']]\n",
    "\n",
    "df_stable_train = df_stable_1.loc[df_stable_1.index < split_date].copy()\n",
    "df_stable_test = df_stable_1.loc[df_stable_1.index == split_date].copy()\n",
    "\n",
    "X_train = df_stable_train.drop(['DTLM'], axis = 1)\n",
    "X_test = df_stable_test.drop(['DTLM'], axis = 1)\n",
    "y_train = df_stable_train['DTLM']\n",
    "y_test = df_stable_test['DTLM']\n",
    "\n",
    "print(X_train.shape, y_train.shape)\n",
    "print(X_test.shape, y_test.shape)\n",
    "\n",
    "xgb1 = xgb.XGBRegressor()\n",
    "parameters = {'objective':['reg:squarederror'],\n",
    "              'learning_rate': [0.001, 0.01, 0.05, 0.1],\n",
    "              'max_depth': [3, 4],\n",
    "              'subsample': [0.7, 0.8],\n",
    "              'colsample_bytree': [1.0, 0.6],\n",
    "              'n_estimators': [100, 200]}\n",
    "\n",
    "tscv = TimeSeriesSplit(n_splits=5)\n",
    "\n",
    "xgb_grid = GridSearchCV(xgb1,\n",
    "                        parameters,\n",
    "                        n_jobs = -1,\n",
    "                        cv = tscv,\n",
    "                        verbose=True)\n",
    "\n",
    "xgb_grid.fit(X_train, y_train)\n",
    "\n",
    "print(xgb_grid.best_score_)\n",
    "print(xgb_grid.best_params_)"
   ]
  },
  {
   "cell_type": "code",
   "execution_count": null,
   "metadata": {
    "id": "9A0Xew1L-CE0"
   },
   "outputs": [],
   "source": [
    "### Predict ice cover on the day of the testation data\n",
    "\n",
    "y_test_pred = xgb_grid.predict(X_test)\n",
    "\n",
    "y_test_pred"
   ]
  },
  {
   "cell_type": "code",
   "execution_count": null,
   "metadata": {
    "id": "ruTsntSM-CE0"
   },
   "outputs": [],
   "source": [
    "### Actual ice cover on the day of the testation data\n",
    "\n",
    "y_test"
   ]
  },
  {
   "cell_type": "code",
   "execution_count": null,
   "metadata": {
    "id": "pEEMnblw-CE0"
   },
   "outputs": [],
   "source": [
    "## calculating the mean absolute error\n",
    "\n",
    "print(mean_absolute_error(y_test, y_test_pred))"
   ]
  },
  {
   "cell_type": "code",
   "execution_count": null,
   "metadata": {
    "id": "os5dWySX-CE0",
    "scrolled": true
   },
   "outputs": [],
   "source": [
    "X_test"
   ]
  },
  {
   "cell_type": "code",
   "execution_count": null,
   "metadata": {
    "id": "brrdYFyi-CE0"
   },
   "outputs": [],
   "source": [
    "######### Using the predicted value on any date as ground truth and forecasting for next 14 days #################\n",
    "\n",
    "for i in range(1, 15):\n",
    "    X_test['Ice_lag_5'] = X_test['Ice_lag_4']\n",
    "    X_test['Ice_lag_4'] = X_test['Ice_lag_3']\n",
    "    X_test['Ice_lag_3'] = X_test['Ice_lag_2']\n",
    "    X_test['Ice_lag_2'] = X_test['Ice_lag_1']\n",
    "    X_test['Ice_lag_1'] = y_test_pred\n",
    "    \n",
    "    X_test['Ice_RM_3'] = np.mean([X_test['Ice_lag_1'], X_test['Ice_lag_2'], X_test['Ice_lag_3']])\n",
    "    X_test['Ice_RM_4'] = np.mean([X_test['Ice_lag_1'], X_test['Ice_lag_2'], X_test['Ice_lag_3'], X_test['Ice_lag_4']])\n",
    "    X_test['Ice_RM_5'] = np.mean([X_test['Ice_lag_1'], X_test['Ice_lag_2'], X_test['Ice_lag_3'], \n",
    "                              X_test['Ice_lag_4'], X_test['Ice_lag_5']])\n",
    "    \n",
    "    res = (datetime.strptime(split_date, '%Y-%m-%d') + timedelta(days=i)).strftime('%Y-%m-%d')\n",
    "    \n",
    "    df_stable_test = df_stable_1.loc[df_stable_1.index == res].copy()\n",
    "    \n",
    "    y_test = df_stable_test['DTLM']\n",
    "    \n",
    "    y_test_pred = xgb_grid.predict(X_test)\n",
    "    \n",
    "    print(res, y_test, y_test_pred)"
   ]
  },
  {
   "cell_type": "code",
   "execution_count": null,
   "metadata": {
    "id": "L5ALg1x8-CE0"
   },
   "outputs": [],
   "source": [
    "y_test"
   ]
  },
  {
   "cell_type": "markdown",
   "metadata": {
    "id": "J8LJKvag-CE1"
   },
   "source": [
    "#### Training XGBoost Model on melting period DTLM4"
   ]
  },
  {
   "cell_type": "code",
   "execution_count": null,
   "metadata": {
    "id": "JiBgD4nq-CE1"
   },
   "outputs": [],
   "source": [
    "# Separating the Independent and dependent variables\n",
    "\n",
    "X = df_melting.drop(['DTLM'], axis = 1)\n",
    "y = df_melting['DTLM']\n",
    "\n",
    "X = X.drop(['year', 'month', 'day'], axis = 1)"
   ]
  },
  {
   "cell_type": "code",
   "execution_count": null,
   "metadata": {
    "id": "GbELK-0R-CE1"
   },
   "outputs": [],
   "source": [
    "########## Freezing Phase: Nov 01 – Jan 14\n",
    "########## Stable Phase: Jan 15 – Mar 25\n",
    "########## Melting Phase: Mar 26 – May 10\n",
    "X_train = X['2007-03-26':'2015-05-10']\n",
    "X_test = X['2016-03-26':'2020-05-10']\n",
    "y_train = y['2007-03-26':'2015-05-10']\n",
    "y_test = y['2016-03-26':'2020-05-10']\n",
    "print(X_train.shape, y_train.shape)\n",
    "print(X_test.shape, y_test.shape)"
   ]
  },
  {
   "cell_type": "code",
   "execution_count": null,
   "metadata": {
    "id": "5s9l84We-CE1"
   },
   "outputs": [],
   "source": [
    "# Running the XGBoost regressor with a wide range of hyper parameters and 5 CV timeseries splits\n",
    "\n",
    "t0 = time.time()\n",
    "\n",
    "xgb1 = xgb.XGBRegressor()\n",
    "parameters = {'objective':['reg:squarederror'],\n",
    "              'learning_rate': [0.001, 0.01, 0.05, 0.1],\n",
    "              'max_depth': [3, 4],\n",
    "              'subsample': [0.7, 0.8],\n",
    "              'colsample_bytree': [1.0, 0.8],\n",
    "              'n_estimators': [100, 200]}\n",
    "\n",
    "tscv = TimeSeriesSplit(n_splits=5)\n",
    "\n",
    "xgb_grid = GridSearchCV(xgb1,\n",
    "                        parameters,\n",
    "                        n_jobs = -1,\n",
    "                        cv = tscv,\n",
    "                        verbose=True)\n",
    "\n",
    "xgb_grid.fit(X_train, y_train)\n",
    "\n",
    "tF = time.time()\n",
    "\n",
    "print(xgb_grid.best_score_)\n",
    "print(xgb_grid.best_params_)\n",
    "print('Time to train = %.2f seconds' % (tF - t0))"
   ]
  },
  {
   "cell_type": "code",
   "execution_count": null,
   "metadata": {
    "id": "6zfTE31J-CE1",
    "scrolled": true
   },
   "outputs": [],
   "source": [
    "# Predicting on the training data and calculating the mean absolute error\n",
    "\n",
    "y_train_pred = xgb_grid.predict(X_train)\n",
    "\n",
    "print(mean_absolute_error(y_train, y_train_pred))"
   ]
  },
  {
   "cell_type": "code",
   "execution_count": null,
   "metadata": {
    "id": "HEK9-ku8-CE2"
   },
   "outputs": [],
   "source": [
    "# Predicting on the testation data and calculating the mean absolute error\n",
    "\n",
    "y_test_pred = xgb_grid.predict(X_test)\n",
    "y_test_pred[y_test_pred < 0] = 0\n",
    "\n",
    "print(mean_absolute_error(y_test, y_test_pred))"
   ]
  },
  {
   "cell_type": "code",
   "execution_count": null,
   "metadata": {
    "id": "Wcr7Pybs-CE2"
   },
   "outputs": [],
   "source": [
    "df_train = X_train.copy()\n",
    "df_train['y_train'] = y_train\n",
    "df_train['y_train_pred'] = y_train_pred\n",
    "\n",
    "df_test = X_test.copy()\n",
    "df_test['y_test'] = y_test\n",
    "df_test['y_test_pred'] = y_test_pred"
   ]
  },
  {
   "cell_type": "code",
   "execution_count": null,
   "metadata": {
    "id": "kGHiEGUb-CE2"
   },
   "outputs": [],
   "source": [
    "# Calculating variable importance as per the XGBoost model.\n",
    "\n",
    "var_importance = pd.DataFrame(xgb_grid.best_estimator_.feature_importances_)\n",
    "features = pd.DataFrame(X_test.columns)\n",
    "df_var_imp = pd.concat([features, var_importance], axis = 1)\n",
    "df_var_imp.columns = ['feature', 'importance']\n",
    "df_var_imp = df_var_imp.sort_values(by = ['importance'], ascending = False)\n",
    "df_var_imp = df_var_imp.set_index(['feature'])"
   ]
  },
  {
   "cell_type": "code",
   "execution_count": null,
   "metadata": {
    "id": "Kr2ZXuWN-CE2"
   },
   "outputs": [],
   "source": [
    "# Displaying the variable importance\n",
    "\n",
    "#%matplotlib inline\n",
    "#fig, ax = plt.subplots(figsize=(20, 15))\n",
    "#plt.figure(figsize=(10,10))\n",
    "#df_var_imp['importance'].plot(kind = 'barh')"
   ]
  },
  {
   "cell_type": "code",
   "execution_count": null,
   "metadata": {
    "id": "vO5mbF4T-CE2"
   },
   "outputs": [],
   "source": [
    "print(df_var_imp)"
   ]
  },
  {
   "cell_type": "code",
   "execution_count": null,
   "metadata": {
    "id": "4nsYBJyY-CE2"
   },
   "outputs": [],
   "source": [
    "y_train = pd.DataFrame(y_train)\n",
    "y_train = y_train.reset_index()\n",
    "y_train.columns = ['date', 'DTLM']\n",
    "\n",
    "y_train_pred = pd.DataFrame(y_train_pred)\n",
    "y_train_pred['date'] = y_train['date']\n",
    "y_train_pred.columns = ['DTLM', 'date']\n",
    "\n",
    "from datetime import datetime\n",
    "df_date = pd.DataFrame(pd.date_range(start=\"2007-01-01\",end=\"2015-12-31\"))\n",
    "df_date.columns = ['date']\n",
    "\n",
    "y_train = pd.merge(df_date, y_train, on = 'date', how = 'outer')\n",
    "\n",
    "y_train_pred = pd.merge(df_date, y_train_pred, on = 'date', how = 'outer')\n",
    "y_train_pred\n",
    "\n",
    "# Overlaying the training predictions on top of training data\n",
    "plt.figure(figsize=(15,8))\n",
    "\n",
    "y_train = y_train.set_index('date')\n",
    "y_train_pred = y_train_pred.set_index('date')\n",
    "y_train['DTLM'].plot(label = 'actual ice cover')\n",
    "y_train_pred['DTLM'].plot(label = 'predicted ice cover')\n",
    "plt.legend(loc=\"upper right\")"
   ]
  },
  {
   "cell_type": "code",
   "execution_count": null,
   "metadata": {
    "id": "JF23I11i-CE3"
   },
   "outputs": [],
   "source": [
    "### XGBoost model to forecast the ice for the next 14 days. Here we select 2019-04-20 as the test data set.\n",
    "\n",
    "split_date = '2019-04-20'\n",
    "\n",
    "df_melting_1 = df_melting[['DTLM', 'Ice_lag_1', 'Ice_RM_3', 'Ice_RM_4', 'Ice_RM_5', \n",
    "                           'ATMP_RM_4', 'ATMP_RM_3', 'ATMP_RM_5', 'Ice_lag_2', 'ATMP_lag_4', \n",
    "                           'ATMP', 'Ice_lag_3','Ice_lag_4', 'Ice_lag_5']]\n",
    "\n",
    "df_melting_train = df_melting_1.loc[df_melting_1.index < split_date].copy()\n",
    "df_melting_test = df_melting_1.loc[df_melting_1.index == split_date].copy()\n",
    "\n",
    "X_train = df_melting_train.drop(['DTLM'], axis = 1)\n",
    "X_test = df_melting_test.drop(['DTLM'], axis = 1)\n",
    "y_train = df_melting_train['DTLM']\n",
    "y_test = df_melting_test['DTLM']\n",
    "\n",
    "print(X_train.shape, y_train.shape)\n",
    "print(X_test.shape, y_test.shape)\n",
    "\n",
    "xgb1 = xgb.XGBRegressor()\n",
    "parameters = {'objective':['reg:squarederror'],\n",
    "              'learning_rate': [0.001, 0.01, 0.05, 0.1],\n",
    "              'max_depth': [3, 4],\n",
    "              'subsample': [0.7, 0.8],\n",
    "              'colsample_bytree': [1.0, 0.6],\n",
    "              'n_estimators': [100, 200]}\n",
    "\n",
    "tscv = TimeSeriesSplit(n_splits=5)\n",
    "\n",
    "xgb_grid = GridSearchCV(xgb1,\n",
    "                        parameters,\n",
    "                        n_jobs = -1,\n",
    "                        cv = tscv,\n",
    "                        verbose=True)\n",
    "\n",
    "xgb_grid.fit(X_train, y_train)\n",
    "\n",
    "print(xgb_grid.best_score_)\n",
    "print(xgb_grid.best_params_)"
   ]
  },
  {
   "cell_type": "code",
   "execution_count": null,
   "metadata": {
    "id": "qobeasSM-CE3"
   },
   "outputs": [],
   "source": [
    "### Predict ice cover on the day of the testation data\n",
    "\n",
    "y_test_pred = xgb_grid.predict(X_test)\n",
    "\n",
    "y_test_pred"
   ]
  },
  {
   "cell_type": "code",
   "execution_count": null,
   "metadata": {
    "id": "puG5GPA0-CE3"
   },
   "outputs": [],
   "source": [
    "### Actual ice cover on the day of the testation data\n",
    "\n",
    "y_test"
   ]
  },
  {
   "cell_type": "code",
   "execution_count": null,
   "metadata": {
    "id": "-SwWLhz7-CE3"
   },
   "outputs": [],
   "source": [
    "## calculating the mean absolute error\n",
    "\n",
    "print(mean_absolute_error(y_test, y_test_pred))"
   ]
  },
  {
   "cell_type": "code",
   "execution_count": null,
   "metadata": {
    "id": "hz9ezjCP-CE3",
    "scrolled": true
   },
   "outputs": [],
   "source": [
    "X_test.columns"
   ]
  },
  {
   "cell_type": "code",
   "execution_count": null,
   "metadata": {
    "id": "jvyQaPOn-CE3"
   },
   "outputs": [],
   "source": [
    "######### Using the predicted value on any date as ground truth and forecasting for next 14 days #################\n",
    "\n",
    "for i in range(1, 15):\n",
    "    X_test['Ice_lag_5'] = X_test['Ice_lag_4']\n",
    "    X_test['Ice_lag_4'] = X_test['Ice_lag_3']\n",
    "    X_test['Ice_lag_3'] = X_test['Ice_lag_2']\n",
    "    X_test['Ice_lag_2'] = X_test['Ice_lag_1']\n",
    "    X_test['Ice_lag_1'] = y_test_pred\n",
    "    \n",
    "    X_test['Ice_RM_3'] = np.mean([X_test['Ice_lag_1'], X_test['Ice_lag_2'], X_test['Ice_lag_3']])\n",
    "    X_test['Ice_RM_4'] = np.mean([X_test['Ice_lag_1'], X_test['Ice_lag_2'], X_test['Ice_lag_3'], X_test['Ice_lag_4']])\n",
    "    X_test['Ice_RM_5'] = np.mean([X_test['Ice_lag_1'], X_test['Ice_lag_2'], X_test['Ice_lag_3'], \n",
    "                              X_test['Ice_lag_4'], X_test['Ice_lag_5']])\n",
    "    \n",
    "    res = (datetime.strptime(split_date, '%Y-%m-%d') + timedelta(days=i)).strftime('%Y-%m-%d')\n",
    "    \n",
    "    df_melting_test = df_melting_1.loc[df_melting_1.index == res].copy()\n",
    "    \n",
    "    y_test = df_melting_test['DTLM']\n",
    "    \n",
    "    y_test_pred = xgb_grid.predict(X_test)\n",
    "    \n",
    "    print(res, y_test, y_test_pred)"
   ]
  },
  {
   "cell_type": "code",
   "execution_count": null,
   "metadata": {
    "id": "LIzYR5Tx-CE4"
   },
   "outputs": [],
   "source": [
    "df_dtlm4_2018_2019.head()"
   ]
  },
  {
   "cell_type": "code",
   "execution_count": null,
   "metadata": {
    "id": "EsN3aDRh-CE4"
   },
   "outputs": [],
   "source": [
    "df_dtlm4_2018_2019.tail()"
   ]
  },
  {
   "cell_type": "code",
   "execution_count": null,
   "metadata": {
    "id": "tw7-xrEC-CE4",
    "scrolled": false
   },
   "outputs": [],
   "source": [
    "df_dtlm4_2018_2019 = df_dtlm4_2018_2019.drop(['year', 'month', 'day'], axis = 1)"
   ]
  },
  {
   "cell_type": "code",
   "execution_count": null,
   "metadata": {
    "id": "W2TwDfAq-CE4"
   },
   "outputs": [],
   "source": [
    "df_dtlm4_2018_2019.head()"
   ]
  },
  {
   "cell_type": "code",
   "execution_count": null,
   "metadata": {
    "id": "DePJfTm4-CE4"
   },
   "outputs": [],
   "source": [
    "df_dtlm4_2018_2019.tail()"
   ]
  },
  {
   "cell_type": "code",
   "execution_count": null,
   "metadata": {
    "id": "0ScuEZkX-CE4"
   },
   "outputs": [],
   "source": [
    "df_dtlm4_2018_2019.to_csv(r'C:/Users/sdavedu/Desktop/XGBoost/DTLM4_2018_2019.csv', index = True, header=True)"
   ]
  },
  {
   "cell_type": "code",
   "execution_count": null,
   "metadata": {
    "id": "DusrMC8F-CE4"
   },
   "outputs": [],
   "source": [
    "df_icedur_pred_dtlm4.head()"
   ]
  },
  {
   "cell_type": "code",
   "execution_count": null,
   "metadata": {
    "id": "zKQqu12R-CE4"
   },
   "outputs": [],
   "source": [
    "df_icedur_pred_dtlm4 = df_icedur_pred_dtlm4.drop(['duration'],axis=1)"
   ]
  },
  {
   "cell_type": "code",
   "execution_count": null,
   "metadata": {
    "id": "EQ9z4GM8-CE5"
   },
   "outputs": [],
   "source": [
    "df_icedur_pred_dtlm4.head()"
   ]
  },
  {
   "cell_type": "code",
   "execution_count": null,
   "metadata": {
    "id": "Pz9axXbZ-CE5"
   },
   "outputs": [],
   "source": [
    "df_icedur_pred_dtlm4.to_csv(r'C:/Users/sdavedu/Desktop/XGBoost/DTLM4_icedur_pred.csv', index = False, header=True)"
   ]
  },
  {
   "cell_type": "code",
   "execution_count": null,
   "metadata": {
    "id": "q9o2CZnw-CE5"
   },
   "outputs": [],
   "source": [
    "df_icedur_act_dtlm4.head()"
   ]
  },
  {
   "cell_type": "code",
   "execution_count": null,
   "metadata": {
    "id": "p6ryOyLi-CE5"
   },
   "outputs": [],
   "source": [
    "df_icedur_act_dtlm4 = df_icedur_act_dtlm4.drop(['duration'],axis=1)"
   ]
  },
  {
   "cell_type": "code",
   "execution_count": null,
   "metadata": {
    "id": "c3ccjDA7-CE5"
   },
   "outputs": [],
   "source": [
    "df_icedur_act_dtlm4.head()"
   ]
  },
  {
   "cell_type": "code",
   "execution_count": null,
   "metadata": {
    "id": "ncz4v0nE-CE5"
   },
   "outputs": [],
   "source": [
    "df_icedur_act_dtlm4.tail()"
   ]
  },
  {
   "cell_type": "code",
   "execution_count": null,
   "metadata": {
    "id": "AM9O_3W9-CE5"
   },
   "outputs": [],
   "source": [
    "df_icedur_act_dtlm4.to_csv(r'C:/Users/sdavedu/Desktop/XGBoost/DTLM4_icedur_act.csv', index = False, header=True)"
   ]
  },
  {
   "cell_type": "code",
   "execution_count": null,
   "metadata": {
    "id": "3wt2Yn8G-CE6"
   },
   "outputs": [],
   "source": []
  }
 ],
 "metadata": {
  "colab": {
   "collapsed_sections": [
    "wqJE_TVH-CEu",
    "aeiZKwPG-CEx",
    "J8LJKvag-CE1"
   ],
   "name": "Copy of XGBoost for Ice Cover forecast.ipynb",
   "provenance": []
  },
  "kernelspec": {
   "display_name": "Python 3",
   "language": "python",
   "name": "python3"
  },
  "language_info": {
   "codemirror_mode": {
    "name": "ipython",
    "version": 3
   },
   "file_extension": ".py",
   "mimetype": "text/x-python",
   "name": "python",
   "nbconvert_exporter": "python",
   "pygments_lexer": "ipython3",
   "version": "3.8.8"
  }
 },
 "nbformat": 4,
 "nbformat_minor": 1
}
